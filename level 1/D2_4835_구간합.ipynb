{
 "cells": [
  {
   "cell_type": "markdown",
   "id": "0b073df4",
   "metadata": {},
   "source": [
    "# 4835. [파이썬 S/W 문제해결 기본] 1일차 - 구간합\n",
    "\n",
    "- https://swexpertacademy.com/main/learn/course/subjectDetail.do?courseId=AVuPDN86AAXw5UW6&subjectId=AWOVFCzaqeUDFAWg#"
   ]
  },
  {
   "cell_type": "markdown",
   "id": "a82a41d8",
   "metadata": {},
   "source": [
    "\n",
    "N개의 정수가 들어있는 배열에서 이웃한 M개의 합을 계산하는 것은 디지털 필터링의 기초연산이다.\n",
    "\n",
    "M개의 합이 가장 큰 경우와 가장 작은 경우의 차이를 출력하는 프로그램을 작성하시오.\n",
    " \n",
    "\n",
    "다음은 N=5, M=3이고 5개의 숫자 1 2 3 4 5가 배열 v에 들어있는 경우이다.\n",
    "\n",
    "## [입력]\n",
    " \n",
    "\n",
    "첫 줄에 테스트 케이스 개수 T가 주어진다.  ( 1 ≤ T ≤ 50 )\n",
    "\n",
    "\n",
    "다음 줄부터 테스트케이스의 첫 줄에 정수의 개수 N과 구간의 개수 M 주어진다. ( 10 ≤ N ≤ 100,  2 ≤ M ＜ N )\n",
    "\n",
    "\n",
    "다음 줄에 N개의 정수 ai가 주어진다. ( 1 ≤ a ≤ 10000 )\n",
    "\n",
    " \n",
    "\n",
    "## [출력]\n",
    " \n",
    "\n",
    "각 줄마다 \"#T\" (T는 테스트 케이스 번호)를 출력한 뒤, 답을 출력한다."
   ]
  },
  {
   "cell_type": "markdown",
   "id": "ea8a6b50",
   "metadata": {},
   "source": [
    "---"
   ]
  },
  {
   "cell_type": "markdown",
   "id": "efee8109",
   "metadata": {},
   "source": [
    "## Memo\n",
    "\n",
    "\n",
    "```\n",
    "idx 이동 si 처리\n",
    "\n",
    "\n",
    "- si = 0,1,2, 전체 길이 length(N),  length - M + 1 로 처리\n",
    "\n",
    "- si = 0, 0~2\n",
    "     = 1. 1~3\n",
    "     = 2. 2~4 \n",
    "\n",
    "```\n"
   ]
  },
  {
   "cell_type": "code",
   "execution_count": 2,
   "id": "e492457b",
   "metadata": {},
   "outputs": [
    {
     "name": "stdout",
     "output_type": "stream",
     "text": [
      "1\n",
      "10 3\n",
      "1 2 3 4 5 6 7 8 9 10\n",
      "#1 21\n"
     ]
    }
   ],
   "source": [
    "T = int(input())\n",
    "\n",
    "for t in range(1, T+1):\n",
    "    \n",
    "    \n",
    "    sum_lst = []\n",
    "    \n",
    "    N, M = map(int,input().split())\n",
    "    \n",
    "    # N개 lst 최대 - 최소\n",
    "    lst = list(map(int,input().split()))\n",
    "    \n",
    "    \n",
    "    # si 시작 인덱스 이면서, si 번 수행\n",
    "    for si in range(0, N-M+1):\n",
    "        \n",
    "        s = 0\n",
    "        for j in range(si, si+M):\n",
    "        \n",
    "            s+=lst[j]\n",
    "        \n",
    "        sum_lst.append(s)\n",
    "    \n",
    "    \n",
    "    print('#{0} {1}'.format(t, max(sum_lst)-min(sum_lst)))\n",
    "    "
   ]
  },
  {
   "cell_type": "markdown",
   "id": "fd5b0ca4",
   "metadata": {},
   "source": [
    "---"
   ]
  }
 ],
 "metadata": {
  "kernelspec": {
   "display_name": "Python 3 (ipykernel)",
   "language": "python",
   "name": "python3"
  },
  "language_info": {
   "codemirror_mode": {
    "name": "ipython",
    "version": 3
   },
   "file_extension": ".py",
   "mimetype": "text/x-python",
   "name": "python",
   "nbconvert_exporter": "python",
   "pygments_lexer": "ipython3",
   "version": "3.8.16"
  },
  "toc": {
   "base_numbering": 1,
   "nav_menu": {},
   "number_sections": true,
   "sideBar": true,
   "skip_h1_title": false,
   "title_cell": "Table of Contents",
   "title_sidebar": "Contents",
   "toc_cell": false,
   "toc_position": {},
   "toc_section_display": true,
   "toc_window_display": false
  },
  "varInspector": {
   "cols": {
    "lenName": 16,
    "lenType": 16,
    "lenVar": 40
   },
   "kernels_config": {
    "python": {
     "delete_cmd_postfix": "",
     "delete_cmd_prefix": "del ",
     "library": "var_list.py",
     "varRefreshCmd": "print(var_dic_list())"
    },
    "r": {
     "delete_cmd_postfix": ") ",
     "delete_cmd_prefix": "rm(",
     "library": "var_list.r",
     "varRefreshCmd": "cat(var_dic_list()) "
    }
   },
   "types_to_exclude": [
    "module",
    "function",
    "builtin_function_or_method",
    "instance",
    "_Feature"
   ],
   "window_display": false
  }
 },
 "nbformat": 4,
 "nbformat_minor": 5
}
