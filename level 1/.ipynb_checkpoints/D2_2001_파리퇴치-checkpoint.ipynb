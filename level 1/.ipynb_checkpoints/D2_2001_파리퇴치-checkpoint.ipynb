{
 "cells": [
  {
   "cell_type": "markdown",
   "id": "3a775ceb",
   "metadata": {},
   "source": [
    "# 2001. 파리 퇴치\n",
    "\n",
    "- [파리 퇴치](https://swexpertacademy.com/main/code/problem/problemDetail.do?problemLevel=2&contestProbId=AV5PzOCKAigDFAUq&categoryId=AV5PzOCKAigDFAUq&categoryType=CODE&problemTitle=&orderBy=PASS_RATE&selectCodeLang=PYTHON&select-1=2&pageSize=10&pageIndex=2)\n"
   ]
  },
  {
   "cell_type": "markdown",
   "id": "17bda924",
   "metadata": {},
   "source": [
    "---"
   ]
  },
  {
   "cell_type": "markdown",
   "id": "342af06d",
   "metadata": {},
   "source": [
    "\n",
    "N x N 배열 안의 숫자는 해당 영역에 존재하는 파리의 개수를 의미한다.\n",
    "\n",
    "아래는 N=5 의 예이다.\n",
    "\n",
    "\n",
    "\n",
    "M x M 크기의 파리채를 한 번 내리쳐 최대한 많은 파리를 죽이고자 한다.\n",
    "\n",
    "죽은 파리의 개수를 구하라!\n",
    "\n",
    "예를 들어 M=2 일 경우 위 예제의 정답은 49마리가 된다.\n",
    "\n",
    "\n",
    "\n",
    "## [제약 사항]\n",
    "\n",
    "1. N 은 5 이상 15 이하이다.\n",
    "\n",
    "2. M은 2 이상 N 이하이다.\n",
    "\n",
    "3. 각 영역의 파리 갯수는 30 이하 이다.\n",
    "\n",
    "\n",
    "\n",
    "## [입력]\n",
    "\n",
    "가장 첫 줄에는 테스트 케이스의 개수 T가 주어지고, 그 아래로 각 테스트 케이스가 주어진다.\n",
    "\n",
    "각 테스트 케이스의 첫 번째 줄에 N 과 M 이 주어지고,\n",
    "\n",
    "다음 N 줄에 걸쳐 N x N 배열이 주어진다.\n",
    "\n",
    "\n",
    "## [출력]\n",
    "\n",
    "출력의 각 줄은 '#t'로 시작하고, 공백을 한 칸 둔 다음 정답을 출력한다.\n",
    "\n",
    "(t는 테스트 케이스의 번호를 의미하며 1부터 시작한다.)"
   ]
  },
  {
   "cell_type": "markdown",
   "id": "c9dd46ed",
   "metadata": {},
   "source": [
    "---"
   ]
  },
  {
   "cell_type": "markdown",
   "id": "a2f2e188",
   "metadata": {},
   "source": [
    "## Memo\n",
    "\n",
    "\n",
    "전체 순회 (범위 주위!)\n",
    "\n",
    "- arr 2차원\n",
    "\n",
    "- 시작 si, sj 이동 가능 idx range 제한\n",
    "\n",
    "- si = 0 ~ N - M 까지 > range(0, N - M +1 )\n",
    "\n",
    "- sj = 0 ~ N - M 까지 > range(0, N - M +1 )\n",
    "\n",
    "\n",
    "\n",
    "```\n",
    "M = 2 \n",
    "\n",
    "00 01\n",
    "10 11\n",
    "\n",
    "arr[si+i][sj+j] \n",
    "\n",
    "\n",
    "M = 3\n",
    "\n",
    "00 01 02\n",
    "10 11 12\n",
    "20 21 22\n",
    "\n",
    "```\n"
   ]
  },
  {
   "cell_type": "markdown",
   "id": "a68bbb6d",
   "metadata": {},
   "source": [
    "---"
   ]
  },
  {
   "cell_type": "code",
   "execution_count": 1,
   "id": "c8122300",
   "metadata": {},
   "outputs": [
    {
     "name": "stdout",
     "output_type": "stream",
     "text": [
      "1\n",
      "5 2\n",
      "1 3 3 6 7\n",
      "8 13 9 12 8\n",
      "4 16 11 12 6\n",
      "2 4 1 23 2\n",
      "9 13 4 7 3\n",
      "#1 49\n"
     ]
    }
   ],
   "source": [
    "T = int(input())\n",
    "\n",
    "for t in range(1,T+1):\n",
    "    \n",
    "    N,M = map(int,input().split())\n",
    "    \n",
    "    # NxN 전체, MxM 파리채\n",
    "    arr = [ list(map(int,input().split()))  for _ in range(N) ]\n",
    "    \n",
    "    sum_lst = []\n",
    "    \n",
    "    \n",
    "    for si in range(0,  N - M + 1):\n",
    "        \n",
    "        for sj in range(0, N - M + 1):\n",
    "            \n",
    "            s = 0\n",
    "            \n",
    "            for i in range(0,M):\n",
    "                \n",
    "                for j in range(0,M):\n",
    "                    \n",
    "                    s += arr[si+i][sj+j]\n",
    "            \n",
    "            sum_lst.append(s)\n",
    "            \n",
    "    print('#{0} {1}'.format(t,max(sum_lst)))"
   ]
  },
  {
   "cell_type": "markdown",
   "id": "3ad0194e",
   "metadata": {},
   "source": [
    "---"
   ]
  },
  {
   "cell_type": "code",
   "execution_count": 2,
   "id": "9b6ac927",
   "metadata": {},
   "outputs": [
    {
     "name": "stdout",
     "output_type": "stream",
     "text": [
      "1\n",
      "5 2\n",
      "1 3 3 6 7\n",
      "8 13 9 12 8\n",
      "4 16 11 12 6\n",
      "2 4 1 23 2\n",
      "9 13 4 7 3\n",
      "#1 49\n"
     ]
    }
   ],
   "source": [
    "T = int(input())\n",
    "\n",
    "for t in range(1,T+1):\n",
    "    \n",
    "    N,M = map(int,input().split())\n",
    "    \n",
    "    # NxN 전체, MxM 파리채\n",
    "    arr = [ list(map(int,input().split()))  for _ in range(N) ]\n",
    "    \n",
    "    # 입력 확인\n",
    "    \n",
    "    sum_lst = []\n",
    "\n",
    "    # 5 - 2 3 \n",
    "    for si in range(0,N-M+1):\n",
    "        \n",
    "        for sj in range(0,N-M+1):\n",
    "            \n",
    "            s = 0\n",
    "                    \n",
    "            for i in range(si,si+M):\n",
    "                \n",
    "                for j in range(sj,sj+M):\n",
    "                    \n",
    "                    s += arr[i][j]\n",
    "            \n",
    "            sum_lst.append(s)\n",
    "            \n",
    "    print('#{0} {1}'.format(t, max(sum_lst)))\n",
    "                    \n",
    "\n",
    "    "
   ]
  },
  {
   "cell_type": "markdown",
   "id": "79a6b32b",
   "metadata": {},
   "source": [
    "---"
   ]
  },
  {
   "cell_type": "code",
   "execution_count": null,
   "id": "46a60095",
   "metadata": {},
   "outputs": [],
   "source": [
    "# 1. max , min\n",
    "# 2. 최대 최소 값 처리\n",
    "\n",
    "\n",
    "ans = 0\n",
    "\n",
    "for i in [14,11,12,19,15,100,20]:\n",
    "    if i > ans:\n",
    "        ans = i\n",
    "        \n",
    "print(ans)"
   ]
  },
  {
   "cell_type": "markdown",
   "id": "3afdcb47",
   "metadata": {},
   "source": [
    "---"
   ]
  }
 ],
 "metadata": {
  "kernelspec": {
   "display_name": "Python 3 (ipykernel)",
   "language": "python",
   "name": "python3"
  },
  "language_info": {
   "codemirror_mode": {
    "name": "ipython",
    "version": 3
   },
   "file_extension": ".py",
   "mimetype": "text/x-python",
   "name": "python",
   "nbconvert_exporter": "python",
   "pygments_lexer": "ipython3",
   "version": "3.8.16"
  },
  "toc": {
   "base_numbering": 1,
   "nav_menu": {},
   "number_sections": true,
   "sideBar": true,
   "skip_h1_title": false,
   "title_cell": "Table of Contents",
   "title_sidebar": "Contents",
   "toc_cell": false,
   "toc_position": {},
   "toc_section_display": true,
   "toc_window_display": false
  },
  "varInspector": {
   "cols": {
    "lenName": 16,
    "lenType": 16,
    "lenVar": 40
   },
   "kernels_config": {
    "python": {
     "delete_cmd_postfix": "",
     "delete_cmd_prefix": "del ",
     "library": "var_list.py",
     "varRefreshCmd": "print(var_dic_list())"
    },
    "r": {
     "delete_cmd_postfix": ") ",
     "delete_cmd_prefix": "rm(",
     "library": "var_list.r",
     "varRefreshCmd": "cat(var_dic_list()) "
    }
   },
   "types_to_exclude": [
    "module",
    "function",
    "builtin_function_or_method",
    "instance",
    "_Feature"
   ],
   "window_display": false
  }
 },
 "nbformat": 4,
 "nbformat_minor": 5
}
