{
 "cells": [
  {
   "cell_type": "markdown",
   "id": "b9065899",
   "metadata": {},
   "source": [
    "# 1961. 숫자 배열 회전"
   ]
  },
  {
   "cell_type": "markdown",
   "id": "af380f35",
   "metadata": {},
   "source": [
    "N x N 행렬이 주어질 때,\n",
    "\n",
    "시계 방향으로 90도, 180도, 270도 회전한 모양을 출력하라.\n",
    "\n",
    "\n",
    "## [제약 사항]\n",
    "\n",
    "N은 3 이상 7 이하이다.\n",
    "\n",
    "## [입력]\n",
    "\n",
    "가장 첫 줄에는 테스트 케이스의 개수 T가 주어지고, 그 아래로 각 테스트 케이스가 주어진다.\n",
    "\n",
    "각 테스트 케이스의 첫 번째 줄에 N이 주어지고,\n",
    "\n",
    "다음 N 줄에는 N x N 행렬이 주어진다.\n",
    "\n",
    "## [출력]\n",
    "\n",
    "출력의 첫 줄은 '#t'로 시작하고,\n",
    "\n",
    "다음 N줄에 걸쳐서 90도, 180도, 270도 회전한 모양을 출력한다.\n",
    "\n",
    "입력과는 달리 출력에서는 회전한 모양 사이에만 공백이 존재함에 유의하라.\n",
    "\n",
    "(t는 테스트 케이스의 번호를 의미하며 1부터 시작한다.)"
   ]
  },
  {
   "cell_type": "code",
   "execution_count": null,
   "id": "fd1d92a9",
   "metadata": {},
   "outputs": [],
   "source": []
  },
  {
   "cell_type": "code",
   "execution_count": null,
   "id": "32aa83f7",
   "metadata": {},
   "outputs": [],
   "source": [
    "def rotate(arr):\n",
    "    arrR = [[0]*N for _ in range(N)]\n",
    "    for i in range(N):\n",
    "        for j in range(N):\n",
    "            arrR[i][j] = arr[N-1-j][i]\n",
    "    return arrR\n",
    " \n",
    "T = int(input())\n",
    "for test_case in range(1, T + 1):\n",
    "    N = int(input())\n",
    "    arr = [list(map(int, input().split())) for _ in range(N)]\n",
    " \n",
    "    arr1 = rotate(arr)\n",
    "    arr2 = rotate(arr1)\n",
    "    arr3 = rotate(arr2)\n",
    " \n",
    "    print(f'#{test_case}')\n",
    "    for a,b,c in zip(arr1, arr2, arr3):\n",
    "        print(f'{\"\".join(map(str,a))} {\"\".join(map(str,b))} {\"\".join(map(str,c))}')"
   ]
  }
 ],
 "metadata": {
  "kernelspec": {
   "display_name": "Python 3 (ipykernel)",
   "language": "python",
   "name": "python3"
  },
  "language_info": {
   "codemirror_mode": {
    "name": "ipython",
    "version": 3
   },
   "file_extension": ".py",
   "mimetype": "text/x-python",
   "name": "python",
   "nbconvert_exporter": "python",
   "pygments_lexer": "ipython3",
   "version": "3.8.16"
  },
  "toc": {
   "base_numbering": 1,
   "nav_menu": {},
   "number_sections": true,
   "sideBar": true,
   "skip_h1_title": false,
   "title_cell": "Table of Contents",
   "title_sidebar": "Contents",
   "toc_cell": false,
   "toc_position": {},
   "toc_section_display": true,
   "toc_window_display": false
  },
  "varInspector": {
   "cols": {
    "lenName": 16,
    "lenType": 16,
    "lenVar": 40
   },
   "kernels_config": {
    "python": {
     "delete_cmd_postfix": "",
     "delete_cmd_prefix": "del ",
     "library": "var_list.py",
     "varRefreshCmd": "print(var_dic_list())"
    },
    "r": {
     "delete_cmd_postfix": ") ",
     "delete_cmd_prefix": "rm(",
     "library": "var_list.r",
     "varRefreshCmd": "cat(var_dic_list()) "
    }
   },
   "types_to_exclude": [
    "module",
    "function",
    "builtin_function_or_method",
    "instance",
    "_Feature"
   ],
   "window_display": false
  }
 },
 "nbformat": 4,
 "nbformat_minor": 5
}
