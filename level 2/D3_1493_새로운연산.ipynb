{
 "cells": [
  {
   "cell_type": "markdown",
   "id": "2c7b5eaf",
   "metadata": {},
   "source": [
    "# 1493. 수의 새로운 연산\n",
    "\n",
    "- [1493](https://swexpertacademy.com/main/code/problem/problemDetail.do?contestProbId=AV2b-QGqADMBBASw)\n"
   ]
  },
  {
   "cell_type": "markdown",
   "id": "ff2a3aa0",
   "metadata": {},
   "source": [
    "---"
   ]
  },
  {
   "cell_type": "markdown",
   "id": "6d18a45f",
   "metadata": {},
   "source": [
    "\n",
    "\n",
    "2차원 평면 제 1사분면 위의 격자점 (x,y)에 위 그림과 같이 대각선 순서로 점에 수를 붙인다.\n",
    "\n",
    "점 (x,y)에 할당된 수는 #(x,y)로 나타낸다.\n",
    "\n",
    "예를 들어 #(1,1) = 1, #(2,1)=3, #(2,2) = 5, #(4,4) = 25이다.\n",
    "\n",
    "반대로 수 p가 할당된 점을 &(p)로 나타낸다.\n",
    "\n",
    "예를 들어 &(1) = (1,1), &(3) = (2,1), &(5) = (2,2), &(25) = (4,4)이다.\n",
    "\n",
    "두 점에 대해서 덧셈을 정의한다. 점 (x,y)와 점 (z,w)를 더하면 점 (x+z, y+w)가 된다.\n",
    "\n",
    "즉, (x,y) + (z,w) = (x+z, y+w)로 정의한다.\n",
    "\n",
    "우리가 해야 할 일은 수와 수에 대한 새로운 연산 ★를 구현하는 것으로, p★q는 #(&(p)+&(q))으로 나타난다.\n",
    "\n",
    "예를 들어, &(1)=(1,1), &(5) = (2,2)이므로, 1★5 = #(&(1)+&(5)) = #((1,1)+(2,2)) = #(3,3) = 13이 된다.\n",
    "\n",
    "\n",
    "## [입력]\n",
    "\n",
    "첫 번째 줄에 테스트 케이스의 수 T가 주어진다.\n",
    "\n",
    "각 테스트 케이스의 첫 번째 줄에는 두 정수 p,q(1 ≤ p, q ≤ 10,000)가 주어진다.\n",
    "\n",
    "\n",
    "## [출력]\n",
    "\n",
    "각 테스트 케이스마다 ‘#t’(t는 테스트 케이스 번호를 의미하며 1부터 시작한다)를 출력하고, 각 테스트 케이스마다 p★q의 값을 출력한다."
   ]
  },
  {
   "cell_type": "markdown",
   "id": "eb668c3f",
   "metadata": {},
   "source": [
    "---"
   ]
  },
  {
   "cell_type": "markdown",
   "id": "37233fe2",
   "metadata": {},
   "source": [
    "- dictinary 구조\n",
    "\n",
    "\n",
    "```\n",
    "\n",
    "(1,1) (2,0)\n",
    "      (1,2) (2,1) (3,0)\n",
    "                  (1,3) (2,2) (3,1) (4,0)\n",
    "                                    (1,4) (2,3) () ...\n",
    "\n",
    "```\n",
    "\n",
    "\n",
    "\n"
   ]
  },
  {
   "cell_type": "code",
   "execution_count": 1,
   "id": "576276f5",
   "metadata": {},
   "outputs": [],
   "source": [
    "# dict 사용\n",
    "\n",
    "dic = {}\n",
    "dic_r = {}\n",
    "\n",
    "si, sj = 1, 1\n",
    "\n",
    "for n in range(1, 50000):\n",
    "    \n",
    "    # dct\n",
    "    \n",
    "    dic[n] = si,sj\n",
    "    dic_r[(si,sj)] = n\n",
    "    \n",
    "    si,sj = si+1,sj-1\n",
    "    \n",
    "    if sj == 0:\n",
    "        si,sj = 1,si\n",
    "    "
   ]
  },
  {
   "cell_type": "code",
   "execution_count": 2,
   "id": "5936e89d",
   "metadata": {},
   "outputs": [
    {
     "name": "stdout",
     "output_type": "stream",
     "text": [
      "2\n",
      "1 5\n",
      "#1 13\n",
      "3 9\n",
      "#2 26\n"
     ]
    }
   ],
   "source": [
    "T = int(input())\n",
    "\n",
    "for t in range(1, T+1):\n",
    "    \n",
    "    p, q = map(int, input().split())\n",
    " \n",
    "    pi, pj = dic[p]                 # [1] p, q값의 좌표로 변환\n",
    "    qi, qj = dic[q]\n",
    " \n",
    "    ans = dic_r[(pi+qi, pj+qj)]     # [2] 좌표를 값으로 변환\n",
    "    \n",
    "    print(f'#{t} {ans}')\n",
    "    "
   ]
  },
  {
   "cell_type": "markdown",
   "id": "ff028903",
   "metadata": {},
   "source": [
    "---"
   ]
  },
  {
   "cell_type": "markdown",
   "id": "8108a712",
   "metadata": {},
   "source": [
    "---"
   ]
  },
  {
   "cell_type": "code",
   "execution_count": null,
   "id": "b2fcf55a",
   "metadata": {},
   "outputs": [],
   "source": [
    "L = 300\n",
    "\n",
    "lst = [1]*L\n",
    "\n",
    "for i in range(2, L):\n",
    "    lst[i] = lst[i-1]+i-1\n",
    "\n",
    "def pos(n):\n",
    "    si = 1\n",
    "    \n",
    "    while lst[si]<=n:\n",
    "        si += 1\n",
    "    si -= 1\n",
    "    \n",
    "    d = n - lst[si]\n",
    "    \n",
    "    return si-d, d+1\n",
    "\n",
    "T = int(input())\n",
    "\n",
    "for test_case in range(1, T + 1):\n",
    "    \n",
    "    p, q = map(int, input().split())\n",
    "\n",
    "    # [1] 값의 좌표 구하기\n",
    "    pi, pj = pos(p)\n",
    "    \n",
    "    qi, qj = pos(q)\n",
    "    \n",
    "    si, sj = pi+qi, pj+qj\n",
    "    \n",
    "    ans = lst[si+sj-1]+sj-1\n",
    "\n",
    "    print(f'#{test_case} {ans}')"
   ]
  }
 ],
 "metadata": {
  "kernelspec": {
   "display_name": "Python 3 (ipykernel)",
   "language": "python",
   "name": "python3"
  },
  "language_info": {
   "codemirror_mode": {
    "name": "ipython",
    "version": 3
   },
   "file_extension": ".py",
   "mimetype": "text/x-python",
   "name": "python",
   "nbconvert_exporter": "python",
   "pygments_lexer": "ipython3",
   "version": "3.10.9"
  },
  "toc": {
   "base_numbering": 1,
   "nav_menu": {},
   "number_sections": true,
   "sideBar": true,
   "skip_h1_title": false,
   "title_cell": "Table of Contents",
   "title_sidebar": "Contents",
   "toc_cell": false,
   "toc_position": {},
   "toc_section_display": true,
   "toc_window_display": false
  },
  "varInspector": {
   "cols": {
    "lenName": 16,
    "lenType": 16,
    "lenVar": 40
   },
   "kernels_config": {
    "python": {
     "delete_cmd_postfix": "",
     "delete_cmd_prefix": "del ",
     "library": "var_list.py",
     "varRefreshCmd": "print(var_dic_list())"
    },
    "r": {
     "delete_cmd_postfix": ") ",
     "delete_cmd_prefix": "rm(",
     "library": "var_list.r",
     "varRefreshCmd": "cat(var_dic_list()) "
    }
   },
   "types_to_exclude": [
    "module",
    "function",
    "builtin_function_or_method",
    "instance",
    "_Feature"
   ],
   "window_display": false
  }
 },
 "nbformat": 4,
 "nbformat_minor": 5
}
