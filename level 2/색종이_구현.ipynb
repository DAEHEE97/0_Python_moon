{
 "cells": [
  {
   "cell_type": "markdown",
   "id": "fb7161e6",
   "metadata": {},
   "source": [
    "# 색종이_구현"
   ]
  },
  {
   "cell_type": "markdown",
   "id": "495ab2da",
   "metadata": {},
   "source": [
    "\n",
    "## 문제\n",
    "\n",
    "가로, 세로의 크기가 각각 100인 정사각형 모양의 흰색 도화지가 있다. \n",
    "\n",
    "이 도화지 위에 가로, 세로의 크기가 각각 10인 정사각형 모양의 검은색 색종이를 색종이의 변과 도화지의 변이 평행하도록 붙인다. \n",
    "\n",
    "이러한 방식으로 색종이를 한 장 또는 여러 장 붙인 후 색종이가 붙은 검은 영역의 넓이를 구하는 프로그램을 작성하시오.\n",
    "\n",
    "예를 들어 흰색 도화지 위에 세 장의 검은색 색종이를 그림과 같은 모양으로 붙였다면 검은색 영역의 넓이는 260이 된다.\n",
    "\n",
    "## 입력\n",
    "\n",
    "\n",
    "첫째 줄에 색종이의 수가 주어진다. \n",
    "\n",
    "이어 둘째 줄부터 한 줄에 하나씩 색종이를 붙인 위치가 주어진다. \n",
    "\n",
    "색종이를 붙인 위치는 두 개의 자연수로 주어지는데 첫 번째 자연수는 색종이의 왼쪽 변과 도화지의 왼쪽 변 사이의 거리이고, 두 번째 자연수는 색종이의 아래쪽 변과 도화지의 아래쪽 변 사이의 거리이다. \n",
    "\n",
    "색종이의 수는 100 이하이며, 색종이가 도화지 밖으로 나가는 경우는 없다\n",
    "\n",
    "## 출력\n",
    "\n",
    "첫째 줄에 색종이가 붙은 검은 영역의 넓이를 출력한다.\n",
    "\n",
    "3,7 라고 하면, \n",
    "\n",
    "3*3\n",
    "\n",
    "si,sj 에서 + 10 +1  로 이동 처리 \n",
    "\n"
   ]
  },
  {
   "cell_type": "markdown",
   "id": "dc99f13a",
   "metadata": {},
   "source": [
    "## Memo\n",
    "\n",
    "- 2차원 arr 구조에서 처리\n",
    "\n",
    "- 넓이 계산을 순회 처리하면서, 단순 arr = 1 대입 처리\n",
    "\n",
    "- 만약 중복 허용시, +=1 및 1>= 로 처리\n",
    "\n"
   ]
  },
  {
   "cell_type": "code",
   "execution_count": 5,
   "id": "3c899368",
   "metadata": {},
   "outputs": [
    {
     "name": "stdout",
     "output_type": "stream",
     "text": [
      "1\n"
     ]
    }
   ],
   "source": [
    "# 1) 입력\n",
    "\n",
    "N = int(input())\n"
   ]
  },
  {
   "cell_type": "code",
   "execution_count": 17,
   "id": "7901d245",
   "metadata": {},
   "outputs": [
    {
     "name": "stdout",
     "output_type": "stream",
     "text": [
      "1 2\n"
     ]
    }
   ],
   "source": [
    "# 101 * 101, idx 0~101 2차원 배열\n",
    "\n",
    "arr = [ [0]*(7+1) for _ in range(7+1) ]\n",
    "\n",
    "#lst = [ list(map(int, input().split())) for _ in range(N) ]\n",
    "\n",
    "# 1) 입력 모두 받고 처리\n",
    "# 2) 입력 받으면서 처리\n",
    "\n",
    "\n",
    "for _ in range(N):\n",
    "    \n",
    "    si, sj  = map(int, input().split())\n",
    "    \n",
    "    for i in range(si, si+2):\n",
    "        for j in range(sj, sj+2):\n",
    "            arr[i][j]=1\n",
    "    \n",
    "    \n",
    "\n"
   ]
  },
  {
   "cell_type": "code",
   "execution_count": 18,
   "id": "4e894b8b",
   "metadata": {},
   "outputs": [
    {
     "data": {
      "text/plain": [
       "[[0, 0, 0, 0, 0, 0, 0, 0],\n",
       " [0, 0, 1, 1, 0, 0, 0, 0],\n",
       " [0, 0, 1, 1, 0, 0, 0, 0],\n",
       " [0, 0, 0, 0, 0, 0, 0, 0],\n",
       " [0, 0, 0, 0, 0, 0, 0, 0],\n",
       " [0, 0, 0, 0, 0, 0, 0, 0],\n",
       " [0, 0, 0, 0, 0, 0, 0, 0],\n",
       " [0, 0, 0, 0, 0, 0, 0, 0]]"
      ]
     },
     "execution_count": 18,
     "metadata": {},
     "output_type": "execute_result"
    }
   ],
   "source": [
    "arr"
   ]
  },
  {
   "cell_type": "code",
   "execution_count": 3,
   "id": "eada300b",
   "metadata": {},
   "outputs": [],
   "source": [
    "arr = [ [0]*(4+1) for _ in range(4+1) ]\n"
   ]
  },
  {
   "cell_type": "code",
   "execution_count": 4,
   "id": "5b00d2be",
   "metadata": {},
   "outputs": [
    {
     "data": {
      "text/plain": [
       "[[0, 0, 0, 0, 0],\n",
       " [0, 0, 0, 0, 0],\n",
       " [0, 0, 0, 0, 0],\n",
       " [0, 0, 0, 0, 0],\n",
       " [0, 0, 0, 0, 0]]"
      ]
     },
     "execution_count": 4,
     "metadata": {},
     "output_type": "execute_result"
    }
   ],
   "source": [
    "arr"
   ]
  },
  {
   "cell_type": "code",
   "execution_count": null,
   "id": "a14f7045",
   "metadata": {},
   "outputs": [],
   "source": []
  },
  {
   "cell_type": "code",
   "execution_count": null,
   "id": "8101ca3f",
   "metadata": {},
   "outputs": [],
   "source": [
    "N = int(input())\n",
    "\n",
    "arr = [ [0]*(101+1) for _ in range(101+1) ]\n",
    "\n",
    "for _ in range(N):\n",
    "    \n",
    "    # [1] 해당 영역을 1로 표시\n",
    "    sj, si = map(int, input().split())\n",
    "    \n",
    "    for i in range(si, si+10):\n",
    "        for j in range(sj, sj+10):\n",
    "            arr[i][j]=1\n",
    "\n",
    "    # [2] 1의 개수를 cnt => 넓이\n",
    "    ans = 0\n",
    "    \n",
    "    for lst in arr:\n",
    "        ans += sum(lst)\n",
    "\n",
    "print(ans)"
   ]
  }
 ],
 "metadata": {
  "kernelspec": {
   "display_name": "Python 3 (ipykernel)",
   "language": "python",
   "name": "python3"
  },
  "language_info": {
   "codemirror_mode": {
    "name": "ipython",
    "version": 3
   },
   "file_extension": ".py",
   "mimetype": "text/x-python",
   "name": "python",
   "nbconvert_exporter": "python",
   "pygments_lexer": "ipython3",
   "version": "3.8.16"
  },
  "toc": {
   "base_numbering": 1,
   "nav_menu": {},
   "number_sections": true,
   "sideBar": true,
   "skip_h1_title": false,
   "title_cell": "Table of Contents",
   "title_sidebar": "Contents",
   "toc_cell": false,
   "toc_position": {},
   "toc_section_display": true,
   "toc_window_display": false
  },
  "varInspector": {
   "cols": {
    "lenName": 16,
    "lenType": 16,
    "lenVar": 40
   },
   "kernels_config": {
    "python": {
     "delete_cmd_postfix": "",
     "delete_cmd_prefix": "del ",
     "library": "var_list.py",
     "varRefreshCmd": "print(var_dic_list())"
    },
    "r": {
     "delete_cmd_postfix": ") ",
     "delete_cmd_prefix": "rm(",
     "library": "var_list.r",
     "varRefreshCmd": "cat(var_dic_list()) "
    }
   },
   "types_to_exclude": [
    "module",
    "function",
    "builtin_function_or_method",
    "instance",
    "_Feature"
   ],
   "window_display": false
  }
 },
 "nbformat": 4,
 "nbformat_minor": 5
}
