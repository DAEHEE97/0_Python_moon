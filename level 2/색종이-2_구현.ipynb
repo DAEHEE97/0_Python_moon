{
 "cells": [
  {
   "cell_type": "markdown",
   "id": "d9b1d711",
   "metadata": {},
   "source": [
    "# 색종이-2_구현\n",
    "\n",
    "## 문제\n",
    "\n",
    "가로, 세로의 크기가 각각 100인 정사각형 모양의 흰색 도화지가 있다. 이 도화지 위에 가로, 세로의 크기가 각각 10인 정사각형 모양의 검은색 색종이를 색종이의 변과 도화지의 변이 평행하도록 붙인다. 이러한 방식으로 색종이를 한 장 또는 여러 장 붙인 후 색종이가 붙은 검은 영역의 둘레의 길이를 구하는 프로그램을 작성하시오.\n",
    "\n",
    "예를 들어 흰색 도화지 위에 네 장의 검은색 색종이를 <그림 1>과 같은 모양으로 붙였다면 검은색 영역의 둘레는 96 이 된다.\n",
    "\n",
    "\n",
    "## 입력\n",
    "첫째 줄에 색종이의 수가 주어진다. 이어 둘째 줄부터 한 줄에 하나씩 색종이를 붙인 위치가 주어진다. 색종이를 붙인 위치는 두 개의 자연수로 주어지는데 첫 번째 자연수는 색종이의 왼쪽 변과 도화지의 왼쪽 변 사이의 거리이고, 두 번째 자연수는 색종이의 아래쪽 변과 도화지의 아래쪽 변 사이의 거리이다. 색종이의 수는 100이하이며, 색종이가 도화지 밖으로 나가는 경우는 없다. \n",
    "\n",
    "## 출력\n",
    "첫째 줄에 색종이가 붙은 검은 영역의 둘레의 길이를 출력한다."
   ]
  },
  {
   "cell_type": "markdown",
   "id": "c5da175c",
   "metadata": {},
   "source": [
    "## Memo\n",
    "\n",
    "- 둘레 처리는 넓이 처리와 다름\n",
    "\n",
    "- 0 > 1 로 바뀌는 부분 과 1 > 0 으로 바뀌는 부분에 선분이 존재 "
   ]
  },
  {
   "cell_type": "code",
   "execution_count": null,
   "id": "912a85fe",
   "metadata": {},
   "outputs": [],
   "source": []
  },
  {
   "cell_type": "code",
   "execution_count": null,
   "id": "d2c11e32",
   "metadata": {},
   "outputs": [],
   "source": []
  },
  {
   "cell_type": "code",
   "execution_count": null,
   "id": "88a72b39",
   "metadata": {},
   "outputs": [],
   "source": []
  },
  {
   "cell_type": "code",
   "execution_count": null,
   "id": "cf83ac77",
   "metadata": {},
   "outputs": [],
   "source": [
    "def count(arr):\n",
    "    \n",
    "    cnt = 0\n",
    "    \n",
    "    for lst in arr:\n",
    "        \n",
    "        for i in range(1, len(lst)):\n",
    "            if lst[i-1]!=lst[i]:  # 현재값과 직전의 값이 다르면 경계선!\n",
    "                cnt+=1\n",
    "    return cnt\n",
    "\n",
    "\n",
    "\n",
    "# 1) 입력 해당 영역을 1로 표시\n",
    "\n",
    "N = int(input())\n",
    "\n",
    "arr = [ [0]*(101+1) for _ in range(101+1) ]\n",
    "\n",
    "\n",
    "# 2) = 1 처리 \n",
    "for _ in range(N):\n",
    "    \n",
    "    sj, si = map(int, input().split())\n",
    "    \n",
    "    for i in range(si, si+10):\n",
    "        for j in range(sj, sj+10):\n",
    "            arr[i][j]=1\n",
    "\n",
    "            \n",
    "arr_t = [ list(tup) for tup in zip(*arr) ]\n",
    "\n",
    "ans = count(arr) + count(arr_t)\n",
    "\n",
    "print(ans)"
   ]
  }
 ],
 "metadata": {
  "kernelspec": {
   "display_name": "Python 3 (ipykernel)",
   "language": "python",
   "name": "python3"
  },
  "language_info": {
   "codemirror_mode": {
    "name": "ipython",
    "version": 3
   },
   "file_extension": ".py",
   "mimetype": "text/x-python",
   "name": "python",
   "nbconvert_exporter": "python",
   "pygments_lexer": "ipython3",
   "version": "3.8.16"
  },
  "toc": {
   "base_numbering": 1,
   "nav_menu": {},
   "number_sections": true,
   "sideBar": true,
   "skip_h1_title": false,
   "title_cell": "Table of Contents",
   "title_sidebar": "Contents",
   "toc_cell": false,
   "toc_position": {},
   "toc_section_display": true,
   "toc_window_display": false
  },
  "varInspector": {
   "cols": {
    "lenName": 16,
    "lenType": 16,
    "lenVar": 40
   },
   "kernels_config": {
    "python": {
     "delete_cmd_postfix": "",
     "delete_cmd_prefix": "del ",
     "library": "var_list.py",
     "varRefreshCmd": "print(var_dic_list())"
    },
    "r": {
     "delete_cmd_postfix": ") ",
     "delete_cmd_prefix": "rm(",
     "library": "var_list.r",
     "varRefreshCmd": "cat(var_dic_list()) "
    }
   },
   "types_to_exclude": [
    "module",
    "function",
    "builtin_function_or_method",
    "instance",
    "_Feature"
   ],
   "window_display": false
  }
 },
 "nbformat": 4,
 "nbformat_minor": 5
}
