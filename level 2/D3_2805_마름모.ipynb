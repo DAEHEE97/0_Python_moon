{
 "cells": [
  {
   "cell_type": "markdown",
   "id": "11788952",
   "metadata": {},
   "source": [
    "# 2805. 농작물 수확하기\n",
    "\n",
    "- [2805](https://swexpertacademy.com/main/code/problem/problemDetail.do?contestProbId=AV7GLXqKAWYDFAXB&categoryId=AV7GLXqKAWYDFAXB&categoryType=CODE&problemTitle=2805&orderBy=FIRST_REG_DATETIME&selectCodeLang=ALL&select-1=&pageSize=10&pageIndex=1)"
   ]
  },
  {
   "cell_type": "markdown",
   "id": "edee75fb",
   "metadata": {},
   "source": [
    "---"
   ]
  },
  {
   "cell_type": "markdown",
   "id": "90088519",
   "metadata": {},
   "source": [
    "N X N크기의 농장이 있다.\n",
    "\n",
    "이 농장에는 이상한 규칙이 있다.\n",
    "\n",
    "규칙은 다음과 같다.\n",
    "\n",
    "\n",
    "   ① 농장은 크기는 항상 홀수이다. (1 X 1, 3 X 3 … 49 X 49)\n",
    "\n",
    "   ② 수확은 항상 농장의 크기에 딱 맞는 정사각형 마름모 형태로만 가능하다.\n",
    "   \n",
    "   \n",
    "1 X 1크기의 농장에서 자라는 농작물을 수확하여 얻을 수 있는 수익은 3이다.\n",
    "\n",
    "3 X 3크기의 농장에서 자라는 농작물을 수확하여 얻을 수 있는 수익은 16 (3 + 2 + 5 + 4 + 2)이다.\n",
    "\n",
    "5 X 5크기의 농장에서 자라는 농작물의 수확하여 얻을 수 있는 수익은 25 (3 + 2 + 1 + 1 + 2 + 5 + 1 + 1 + 3 + 3 + 2 + 1)이다.\n",
    "\n",
    "농장의 크기 N와 농작물의 가치가 주어질 때, 규칙에 따라 얻을 수 있는 수익은 얼마인지 구하여라.\n",
    "\n",
    "\n",
    "## [제약 사항]\n",
    "\n",
    "농장의 크기 N은 1 이상 49 이하의 홀수이다. (1 ≤ N ≤ 49)\n",
    "\n",
    "농작물의 가치는 0~5이다.\n",
    "\n",
    "\n",
    "## [입력]\n",
    "\n",
    "가장 첫 줄에는 테스트 케이스의 개수 T가 주어지고, 그 아래로 각 테스트 케이스가 주어진다.\n",
    "\n",
    "각 테스트 케이스에는 농장의 크기 N과 농장 내 농작물의 가치가 주어진다.\n",
    "\n",
    "\n",
    "## [출력]\n",
    "\n",
    "각 줄은 '#t'로 시작하고, 공백으로 농장의 규칙에 따라 얻을 수 있는 수익을 출력한다.\n",
    "\n",
    "(t는 테스트b 케이스의 번호를 의미하며 1부터 시작한다.)"
   ]
  },
  {
   "cell_type": "markdown",
   "id": "ce3d6248",
   "metadata": {},
   "source": [
    "## Memo\n",
    "\n",
    "- 2차원 arr i,j 규칙\n",
    "\n",
    "```\n",
    "i = 3 , j = 1~3,  M-1, M+1, M - (N-1-i), M + (N-1-i) +1\n",
    "i = 4 , j = 2,    M-0, M+0\n",
    "\n",
    "i = 3,  j = 1~3,  i-M, N - (i-M)\n",
    "i = 4   \n",
    "\n",
    "```\n"
   ]
  },
  {
   "cell_type": "markdown",
   "id": "d462d3b3",
   "metadata": {},
   "source": [
    "---"
   ]
  },
  {
   "cell_type": "code",
   "execution_count": null,
   "id": "ab8d9bdc",
   "metadata": {},
   "outputs": [],
   "source": [
    "T = int(input())\n",
    "\n",
    "for t in range(1, T+1):\n",
    "    \n",
    "    N = int(input()) # 농장의 크기\n",
    "    \n",
    "    arr = [ list(map(int,input())) for _ in range(N) ]\n",
    "    a\n",
    "    M = N // 2\n",
    "    \n",
    "    ans = 0\n",
    "    \n",
    "    # M = 5 , i = 0 ~ 2 , 3 ~ 4\n",
    "    \n",
    "    for i in range(0, M +1):\n",
    "        \n",
    "        for j in range(M-i, M+i +1):\n",
    "            \n",
    "            ans += arr[i][j]\n",
    "            \n",
    "        \n",
    "        \n",
    "    \n",
    "    for i in range(M+1, N):\n",
    "        \n",
    "        for j in range(M - (N-1-i), M + (N-1-i) +1):\n",
    "            \n",
    "            ans += arr[i][j]\n",
    "\n",
    "    \n",
    "    #print('#{0} {1}'.format(t,ans))\n",
    "    \n",
    "    print(f'#{t} {ans}')"
   ]
  },
  {
   "cell_type": "code",
   "execution_count": null,
   "id": "e4956c7a",
   "metadata": {},
   "outputs": [],
   "source": [
    "arr"
   ]
  },
  {
   "cell_type": "markdown",
   "id": "16abf1f7",
   "metadata": {},
   "source": [
    "---"
   ]
  },
  {
   "cell_type": "code",
   "execution_count": null,
   "id": "0a6ae4d9",
   "metadata": {},
   "outputs": [],
   "source": [
    "T = int(input())\n",
    "\n",
    "for t in range(1,T+1):\n",
    "    \n",
    "    N = int(input()) # 농장의 크기\n",
    "    \n",
    "    arr = [ list(map(int,input())) for _ in range(N)]\n",
    "    \n",
    "    ans = 0\n",
    "    \n",
    "    M = N // 2 # 2\n",
    "    \n",
    "    for i in range(0,M+1):\n",
    "        \n",
    "        for j in range(M-i, M+i+1):\n",
    "            \n",
    "            ans+=arr[i][j]\n",
    "    \n",
    "    # 1 2 3\n",
    "    #   2\n",
    "    \n",
    "    # 5 - 1 4 \n",
    "    for i range(M+1,N):\n",
    "        \n",
    "        for j in range(i-M, N-(i-M)):\n",
    "            \n",
    "            ans+=arr[i][j]\n",
    "        \n",
    "    print(f'{t} {ans}')\n",
    "            \n",
    "        \n",
    "    \n",
    "    \n",
    "    "
   ]
  }
 ],
 "metadata": {
  "kernelspec": {
   "display_name": "Python 3 (ipykernel)",
   "language": "python",
   "name": "python3"
  },
  "language_info": {
   "codemirror_mode": {
    "name": "ipython",
    "version": 3
   },
   "file_extension": ".py",
   "mimetype": "text/x-python",
   "name": "python",
   "nbconvert_exporter": "python",
   "pygments_lexer": "ipython3",
   "version": "3.8.16"
  },
  "toc": {
   "base_numbering": 1,
   "nav_menu": {},
   "number_sections": true,
   "sideBar": true,
   "skip_h1_title": false,
   "title_cell": "Table of Contents",
   "title_sidebar": "Contents",
   "toc_cell": false,
   "toc_position": {},
   "toc_section_display": true,
   "toc_window_display": false
  },
  "varInspector": {
   "cols": {
    "lenName": 16,
    "lenType": 16,
    "lenVar": 40
   },
   "kernels_config": {
    "python": {
     "delete_cmd_postfix": "",
     "delete_cmd_prefix": "del ",
     "library": "var_list.py",
     "varRefreshCmd": "print(var_dic_list())"
    },
    "r": {
     "delete_cmd_postfix": ") ",
     "delete_cmd_prefix": "rm(",
     "library": "var_list.r",
     "varRefreshCmd": "cat(var_dic_list()) "
    }
   },
   "types_to_exclude": [
    "module",
    "function",
    "builtin_function_or_method",
    "instance",
    "_Feature"
   ],
   "window_display": false
  }
 },
 "nbformat": 4,
 "nbformat_minor": 5
}
