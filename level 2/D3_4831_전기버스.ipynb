{
 "cells": [
  {
   "cell_type": "markdown",
   "id": "9017d6a6",
   "metadata": {},
   "source": [
    "# 4831. [파이썬 S/W 문제해결 기본] 1일차 - 전기버스\n",
    "\n",
    "\n",
    "- [4831](https://swexpertacademy.com/main/learn/course/subjectDetail.do?courseId=AVuPDN86AAXw5UW6&subjectId=AWOVFCzaqeUDFAWg#)"
   ]
  },
  {
   "cell_type": "markdown",
   "id": "1b66829d",
   "metadata": {},
   "source": [
    "\n",
    "\n",
    "A도시는 전기버스를 운행하려고 한다. 전기버스는 한번 충전으로 이동할 수 있는 정류장 수가 정해져 있어서, 중간에 충전기가 설치된 정류장을 만들기로 했다.\n",
    "\n",
    "\n",
    "버스는 0번에서 출발해 종점인 N번 정류장까지 이동하고, 한번 충전으로 최대한 이동할 수 있는 정류장 수 K가 정해져 있다.\n",
    "\n",
    "\n",
    "충전기가 설치된 M개의 정류장 번호가 주어질 때, 최소한 몇 번의 충전을 해야 종점에 도착할 수 있는지 출력하는 프로그램을 만드시오.\n",
    "\n",
    "\n",
    "만약 충전기 설치가 잘못되어 종점에 도착할 수 없는 경우는 0을 출력한다. 출발지에는 항상 충전기가 설치되어 있지만 충전횟수에는 포함하지 않는다.\n",
    " \n",
    "\n",
    "\n",
    "## [예시]\n",
    "\n",
    "\n",
    "\n",
    "다음은 K = 3, N = 10, M = 5, 충전기가 설치된 정류장이 1, 3, 5, 7, 9인 경우의 예이다.\n",
    "\n",
    " \n",
    "3\n",
    "3 10 5\n",
    "1 3 5 7 9\n",
    "\n",
    "\n",
    "## [입력]\n",
    " \n",
    "\n",
    "첫 줄에 노선 수 T가 주어진다.  ( 1 ≤ T ≤ 50 )\n",
    "\n",
    "\n",
    "각 노선별로 K, N, M이 주어지고, 다음줄에 M개의 정류장 번호가 주어진다. ( 1 ≤ K, N, M ≤ 100 )\n",
    " \n",
    "\n",
    "## [출력]\n",
    "\n",
    "\n",
    "#과 노선번호, 빈칸에 이어 최소 충전횟수 또는 0을 출력한다.\n",
    "\n"
   ]
  },
  {
   "cell_type": "markdown",
   "id": "61ffbeae",
   "metadata": {},
   "source": [
    "---"
   ]
  },
  {
   "cell_type": "markdown",
   "id": "031c23af",
   "metadata": {},
   "source": [
    "## Memo\n",
    "\n",
    "\n",
    "- 전체 리스트에서 idx를 넣어줘야함, 슬라이싱한 리스트에서 idx를 찾으면 안됨 lst[si:si+3+1] x\n",
    "\n",
    "- 주의 ! 범위내 리스트 처리 후 lst[i] = 0, 으로 초기화 해서, 다음 차레 중복 제거, 다음 si 에도 1 처리 되어있으면 error\n",
    "\n"
   ]
  },
  {
   "cell_type": "markdown",
   "id": "0bd2d0e1",
   "metadata": {},
   "source": [
    "---"
   ]
  },
  {
   "cell_type": "markdown",
   "id": "3823b2d5",
   "metadata": {},
   "source": [
    "0 1 3 5 7 9 10 \n",
    "\n",
    "0 3 가능 , 0 5 가기전에 3에서 충전\n",
    "\n",
    "3 5 가능 , 3 7 가기전에 5에서 충전\n",
    "\n",
    "5 7 가능 , 5 9 가기전에 7에서 충전\n",
    "\n",
    "7 10 가능, \n"
   ]
  },
  {
   "cell_type": "code",
   "execution_count": null,
   "id": "8b65982d",
   "metadata": {},
   "outputs": [],
   "source": [
    "T = int(input())\n",
    "\n",
    "for t in range(1, T + 1):\n",
    "    \n",
    "    K, N, M = map(int, input().split())\n",
    "    \n",
    "    # 시작지점, 충전소 위치, 도착지점 \n",
    "    \n",
    "    lst = [0] + list(map(int, input().split())) + [N]\n",
    "\n",
    "    ans = 0\n",
    "    \n",
    "    # 마지막 충전소 ( 0 초기화 ) \n",
    "    end = 0\n",
    "    \n",
    "    for i in range(1, M+1+1):\n",
    "        \n",
    "        # 충전소 간 간격이 K 거리 초과, 종료\n",
    "        \n",
    "        if lst[i] - lst[i-1] > K:\n",
    "            ans = 0\n",
    "            break\n",
    "        \n",
    "        # 현재 충전소랑 마지막 충전소 초과 , 직전에서 충전 end에서 충전\n",
    "        \n",
    "        if lst[i] - end > K:\n",
    "            end = lst[i-1]\n",
    "            ans += 1\n",
    "    \n",
    "    print('#{0} {1}'.format(t,ans))"
   ]
  },
  {
   "cell_type": "markdown",
   "id": "bd27065d",
   "metadata": {},
   "source": [
    "---"
   ]
  },
  {
   "cell_type": "code",
   "execution_count": null,
   "id": "aba95817",
   "metadata": {},
   "outputs": [],
   "source": [
    "T = int(input())\n",
    "\n",
    "for t in range(1, T+1):\n",
    "    \n",
    "    K, N, M = map(int,input().split())\n",
    "    \n",
    "    lst = list(map(int,input().split()))\n",
    "\n",
    "    charge = [0] * (N+1)\n",
    "    \n",
    "    for i in lst:\n",
    "        charge[i] = 1\n",
    "        \n",
    "    \n",
    "    si = 0    \n",
    "    cnt = 0\n",
    "    \n",
    "    while(True):\n",
    "        \n",
    "        c = [] # 범위내 충전소 idx \n",
    "        \n",
    "        for i in range(si, si + K + 1):\n",
    "            \n",
    "            if charge[i] == 1:\n",
    "                c.append(i)\n",
    "                charge[i] = 0\n",
    "        \n",
    "        if len(c) == 0:\n",
    "            flag = False\n",
    "            break\n",
    "        \n",
    "        else:\n",
    "            cnt += 1\n",
    "            si = c[-1]\n",
    "            \n",
    "            if si + K >= N:\n",
    "                flag = True\n",
    "                break\n",
    "                \n",
    "    \n",
    "    if flag:\n",
    "        print('#{0} {1}'.format(t,cnt))\n",
    "    else:\n",
    "        print('#{0} {1}'.format(t,0))  \n",
    "            \n",
    "\n",
    "    "
   ]
  },
  {
   "cell_type": "markdown",
   "id": "cb499116",
   "metadata": {},
   "source": [
    "---"
   ]
  },
  {
   "cell_type": "code",
   "execution_count": null,
   "id": "fd23c55a",
   "metadata": {},
   "outputs": [],
   "source": [
    "def charge (s, k) :\n",
    "    cnt = 0 \n",
    "    \n",
    "    while(True):\n",
    "                        \n",
    "        m_lst = []\n",
    "        \n",
    "        for i in range(s,s+k+1):\n",
    "    \n",
    "            if lst[i]==1:\n",
    "                m_lst.append(i)\n",
    "                lst[i] = 0\n",
    "        \n",
    "        # 없으면 0 리턴\n",
    "        if len(m_lst) == 0:\n",
    "            return 0\n",
    "        \n",
    "        \n",
    "        # 있으면 s 초기화\n",
    "        else:\n",
    "            s = m_lst[-1]\n",
    "            cnt += 1\n",
    "            \n",
    "            if s + k >=N:\n",
    "                return cnt\n",
    "                \n",
    "T = int(input())\n",
    "\n",
    "for t in range(1, T+1):\n",
    "        \n",
    "    s = 0\n",
    "    \n",
    "    K, N, M = map(int,input().split())\n",
    "    \n",
    "    lst = [0] * (N+1)\n",
    "        \n",
    "    charger = list(map(int,input().split()))\n",
    "\n",
    "    for i in charger:\n",
    "        lst[i] += 1\n",
    "        \n",
    "        \n",
    "    ans = charge(s,K)\n",
    "    \n",
    "    print('#{0} {1}'.format(t,ans))"
   ]
  },
  {
   "cell_type": "markdown",
   "id": "359f59dd",
   "metadata": {},
   "source": [
    "---"
   ]
  }
 ],
 "metadata": {
  "kernelspec": {
   "display_name": "Python 3 (ipykernel)",
   "language": "python",
   "name": "python3"
  },
  "language_info": {
   "codemirror_mode": {
    "name": "ipython",
    "version": 3
   },
   "file_extension": ".py",
   "mimetype": "text/x-python",
   "name": "python",
   "nbconvert_exporter": "python",
   "pygments_lexer": "ipython3",
   "version": "3.8.16"
  },
  "toc": {
   "base_numbering": 1,
   "nav_menu": {},
   "number_sections": true,
   "sideBar": true,
   "skip_h1_title": false,
   "title_cell": "Table of Contents",
   "title_sidebar": "Contents",
   "toc_cell": false,
   "toc_position": {},
   "toc_section_display": true,
   "toc_window_display": false
  },
  "varInspector": {
   "cols": {
    "lenName": 16,
    "lenType": 16,
    "lenVar": 40
   },
   "kernels_config": {
    "python": {
     "delete_cmd_postfix": "",
     "delete_cmd_prefix": "del ",
     "library": "var_list.py",
     "varRefreshCmd": "print(var_dic_list())"
    },
    "r": {
     "delete_cmd_postfix": ") ",
     "delete_cmd_prefix": "rm(",
     "library": "var_list.r",
     "varRefreshCmd": "cat(var_dic_list()) "
    }
   },
   "types_to_exclude": [
    "module",
    "function",
    "builtin_function_or_method",
    "instance",
    "_Feature"
   ],
   "window_display": false
  }
 },
 "nbformat": 4,
 "nbformat_minor": 5
}
