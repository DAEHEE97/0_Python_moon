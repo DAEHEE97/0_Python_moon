{
 "cells": [
  {
   "cell_type": "markdown",
   "id": "1b66829d",
   "metadata": {},
   "source": [
    "# 4831. [파이썬 S/W 문제해결 기본] 1일차 - 전기버스\n",
    "\n",
    "\n",
    "- https://swexpertacademy.com/main/learn/course/subjectDetail.do?courseId=AVuPDN86AAXw5UW6&subjectId=AWOVFCzaqeUDFAWg#\n",
    "\n",
    "A도시는 전기버스를 운행하려고 한다. 전기버스는 한번 충전으로 이동할 수 있는 정류장 수가 정해져 있어서, 중간에 충전기가 설치된 정류장을 만들기로 했다.\n",
    "\n",
    "\n",
    "버스는 0번에서 출발해 종점인 N번 정류장까지 이동하고, 한번 충전으로 최대한 이동할 수 있는 정류장 수 K가 정해져 있다.\n",
    "\n",
    "\n",
    "충전기가 설치된 M개의 정류장 번호가 주어질 때, 최소한 몇 번의 충전을 해야 종점에 도착할 수 있는지 출력하는 프로그램을 만드시오.\n",
    "\n",
    "\n",
    "만약 충전기 설치가 잘못되어 종점에 도착할 수 없는 경우는 0을 출력한다. 출발지에는 항상 충전기가 설치되어 있지만 충전횟수에는 포함하지 않는다.\n",
    " \n",
    "\n",
    "\n",
    "## [예시]\n",
    "\n",
    "\n",
    "\n",
    "다음은 K = 3, N = 10, M = 5, 충전기가 설치된 정류장이 1, 3, 5, 7, 9인 경우의 예이다.\n",
    "\n",
    " \n",
    "3\n",
    "3 10 5\n",
    "1 3 5 7 9\n",
    "\n",
    "\n",
    "## [입력]\n",
    " \n",
    "\n",
    "첫 줄에 노선 수 T가 주어진다.  ( 1 ≤ T ≤ 50 )\n",
    "\n",
    "\n",
    "각 노선별로 K, N, M이 주어지고, 다음줄에 M개의 정류장 번호가 주어진다. ( 1 ≤ K, N, M ≤ 100 )\n",
    " \n",
    "\n",
    "## [출력]\n",
    "\n",
    "\n",
    "#과 노선번호, 빈칸에 이어 최소 충전횟수 또는 0을 출력한다.\n",
    "\n"
   ]
  },
  {
   "cell_type": "markdown",
   "id": "61ffbeae",
   "metadata": {},
   "source": [
    "---"
   ]
  },
  {
   "cell_type": "markdown",
   "id": "031c23af",
   "metadata": {},
   "source": [
    "## Memo\n",
    "\n",
    "- 함수로 작성하면 편한게, return으로 중간 처리를 편하게 할수 있음\n",
    "\n",
    "\n",
    "- 한번 충전으로 갈 수 있는 최대 거리? 한번 충전으로 최대한 이동할 수 있는 정류장 수\n",
    "\n",
    "- 0 에서 출발 3, [0][1][2][3] \n"
   ]
  },
  {
   "cell_type": "markdown",
   "id": "0bd2d0e1",
   "metadata": {},
   "source": [
    "---"
   ]
  },
  {
   "cell_type": "code",
   "execution_count": 2,
   "id": "fd23c55a",
   "metadata": {},
   "outputs": [
    {
     "name": "stdout",
     "output_type": "stream",
     "text": [
      "1\n",
      "3 10 5\n",
      "1 3 5 7 9\n",
      "#1 3\n"
     ]
    }
   ],
   "source": [
    "# 시작점, 최대 이동할 수 있는 정류장 수\n",
    "# 도착점에 도착하면 종료\n",
    "\n",
    "# 범위내 충전소 존재 하는지 검사\n",
    "# 3,3+3+1 s 이동 하면서, 뒤에꺼도 같이 이동 \n",
    "\n",
    "\n",
    "# 범위 내 충전소가 존재한다면, 충전소 몇번째 충전소인지 모두 삽입 후, 0 처리\n",
    "\n",
    "\n",
    "# 범위 내 충전소가 존재 x 함수 종료\n",
    "\n",
    "# 범위 내 충전소가 존재 o s 초기화 및 cnt \n",
    "\n",
    "\n",
    "def charge (s, k, N) :\n",
    "\n",
    "    cnt = 0 \n",
    "    \n",
    "    while(True):\n",
    "                    \n",
    "        # 범위 내 충전소 삽입 처리\n",
    "        m_lst = []\n",
    "\n",
    "        for i in range(s, s+k+1):\n",
    "    \n",
    "            if lst[i]==1:\n",
    "                m_lst.append(i)\n",
    "                lst[i] = 0\n",
    "        \n",
    "        # 범위 내 충전소 x\n",
    "        if len(m_lst) == 0:\n",
    "            return 0\n",
    "        \n",
    "        # 범위 내 충전소 o\n",
    "        else:\n",
    "            s = m_lst[-1]\n",
    "            cnt += 1\n",
    "            \n",
    "            # 함수 종료 \n",
    "            if s + k >= N:\n",
    "                return cnt\n",
    "                \n",
    "    \n",
    "\n",
    "T = int(input())\n",
    "\n",
    "for t in range(1, T+1):\n",
    "         \n",
    "    s = 0\n",
    "    \n",
    "    K, N, M = map(int,input().split())\n",
    "    \n",
    "    lst = [0] * (N+1)\n",
    "        \n",
    "    # M개 충전기가 설치 된곳\n",
    "    charger = list(map(int,input().split()))\n",
    "\n",
    "    for i in charger:\n",
    "        \n",
    "        lst[i] += 1\n",
    "        \n",
    "        \n",
    "    ans = charge(s,K,N)\n",
    "    \n",
    "    \n",
    "    print('#{0} {1}'.format(t,ans))"
   ]
  },
  {
   "cell_type": "code",
   "execution_count": null,
   "id": "02d8dcd2",
   "metadata": {},
   "outputs": [],
   "source": [
    "T = int(input())\n",
    "\n",
    "for test_case in range(1, T + 1):\n",
    "    \n",
    "    K, N, M = map(int, input().split())\n",
    "    \n",
    "    lst = [0] + list(map(int, input().split())) + [N]\n",
    "\n",
    "    ans = 0\n",
    "    start = 0\n",
    "    \n",
    "    for i in range(1, M+2):\n",
    "        \n",
    "        if lst[i] - lst[i-1] > K:\n",
    "            ans = 0\n",
    "            break\n",
    "        \n",
    "        if lst[i] - start > K:\n",
    "            start = lst[i-1]\n",
    "            ans += 1"
   ]
  }
 ],
 "metadata": {
  "kernelspec": {
   "display_name": "Python 3 (ipykernel)",
   "language": "python",
   "name": "python3"
  },
  "language_info": {
   "codemirror_mode": {
    "name": "ipython",
    "version": 3
   },
   "file_extension": ".py",
   "mimetype": "text/x-python",
   "name": "python",
   "nbconvert_exporter": "python",
   "pygments_lexer": "ipython3",
   "version": "3.8.16"
  },
  "toc": {
   "base_numbering": 1,
   "nav_menu": {},
   "number_sections": true,
   "sideBar": true,
   "skip_h1_title": false,
   "title_cell": "Table of Contents",
   "title_sidebar": "Contents",
   "toc_cell": false,
   "toc_position": {},
   "toc_section_display": true,
   "toc_window_display": false
  },
  "varInspector": {
   "cols": {
    "lenName": 16,
    "lenType": 16,
    "lenVar": 40
   },
   "kernels_config": {
    "python": {
     "delete_cmd_postfix": "",
     "delete_cmd_prefix": "del ",
     "library": "var_list.py",
     "varRefreshCmd": "print(var_dic_list())"
    },
    "r": {
     "delete_cmd_postfix": ") ",
     "delete_cmd_prefix": "rm(",
     "library": "var_list.r",
     "varRefreshCmd": "cat(var_dic_list()) "
    }
   },
   "types_to_exclude": [
    "module",
    "function",
    "builtin_function_or_method",
    "instance",
    "_Feature"
   ],
   "window_display": false
  }
 },
 "nbformat": 4,
 "nbformat_minor": 5
}
