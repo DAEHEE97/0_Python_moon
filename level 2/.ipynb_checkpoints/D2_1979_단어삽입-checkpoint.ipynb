{
 "cells": [
  {
   "cell_type": "markdown",
   "metadata": {},
   "source": [
    "# 1979. 어디에 단어가 들어갈 수 있을까\n",
    "\n",
    "- [단어삽입](https://swexpertacademy.com/main/code/problem/problemDetail.do?contestProbId=AV5PuPq6AaQDFAUq)\n",
    "\n",
    "N X N 크기의 단어 퍼즐을 만들려고 한다. 입력으로 단어 퍼즐의 모양이 주어진다.\n",
    "\n",
    "주어진 퍼즐 모양에서 특정 길이 K를 갖는 단어가 들어갈 수 있는 자리의 수를 출력하는 프로그램을 작성하라.\n",
    "\n",
    "## [제약 사항]\n",
    "\n",
    "1. N은 5 이상 15 이하의 정수이다. (5 ≤ N ≤ 15)\n",
    "\n",
    "2. K는 2 이상 N 이하의 정수이다. (2 ≤ K ≤ N)\n",
    "\n",
    "\n",
    "## [입력]\n",
    "\n",
    "입력은 첫 줄에 총 테스트 케이스의 개수 T가 온다.\n",
    "\n",
    "다음 줄부터 각 테스트 케이스가 주어진다.\n",
    "\n",
    "테스트 케이스의 첫 번째 줄에는 단어 퍼즐의 가로, 세로 길이 N 과, 단어의 길이 K 가 주어진다.\n",
    "\n",
    "테스트 케이스의 두 번째 줄부터 퍼즐의 모양이 2차원 정보로 주어진다.\n",
    "\n",
    "퍼즐의 각 셀 중, 흰색 부분은 1, 검은색 부분은 0 으로 주어진다.\n",
    "\n",
    "\n",
    "## [출력]\n",
    "\n",
    "테스트 케이스 t에 대한 결과는 “#t”을 찍고, 한 칸 띄고, 정답을 출력한다.\n",
    "\n",
    "(t는 테스트 케이스의 번호를 의미하며 1부터 시작한다.)"
   ]
  },
  {
   "cell_type": "markdown",
   "metadata": {},
   "source": [
    "---"
   ]
  },
  {
   "cell_type": "markdown",
   "metadata": {},
   "source": [
    "## Memo\n",
    "\n",
    "1. cnt 처리하면서, ans 구하기\n",
    "\n",
    "    - 2차원 zero padding \n",
    "\n",
    "    - i,j 로만 처리\n",
    "\n",
    "    - 가로 세로 처리 \n",
    "    \n",
    "2. si 범위 정한후 +K 만큼 검사 근데 이것도 다음 idx가 0처리, si 범위 정해져 있음\n",
    "\n",
    "    - si 하나씩 고정하면서 처리 \n",
    "    \n",
    "    - 주의) 1 1 1 1 0 \n",
    "    \n",
    "    - 앞 뒤 모두 검사 로 처리 하면 됨\n"
   ]
  },
  {
   "cell_type": "markdown",
   "metadata": {},
   "source": [
    "---"
   ]
  },
  {
   "cell_type": "markdown",
   "metadata": {},
   "source": [
    "- 주의 `1 1 1 1 0` 구조, 뒤에만 처리 해야하는게 아니라, 앞에도 처리 해줘야 함\n"
   ]
  },
  {
   "cell_type": "code",
   "execution_count": 3,
   "metadata": {},
   "outputs": [],
   "source": [
    "N = 5"
   ]
  },
  {
   "cell_type": "code",
   "execution_count": 14,
   "metadata": {},
   "outputs": [
    {
     "name": "stdout",
     "output_type": "stream",
     "text": [
      "1 0 0 1 0\n",
      "1 1 0 1 1\n",
      "1 0 1 1 1\n",
      "0 1 1 0 1\n",
      "0 1 1 1 0\n"
     ]
    }
   ],
   "source": [
    "arr = [ list(map(int,input().split())) + [0] for _ in range(N) ] + [ [0]*(N+1) ]\n"
   ]
  },
  {
   "cell_type": "code",
   "execution_count": 35,
   "metadata": {},
   "outputs": [
    {
     "data": {
      "text/plain": [
       "[[1, 0, 0, 1, 0, 0],\n",
       " [1, 1, 0, 1, 1, 0],\n",
       " [1, 0, 1, 1, 1, 0],\n",
       " [0, 1, 1, 0, 1, 0],\n",
       " [0, 1, 1, 1, 0, 0],\n",
       " [0, 0, 0, 0, 0, 0]]"
      ]
     },
     "execution_count": 35,
     "metadata": {},
     "output_type": "execute_result"
    }
   ],
   "source": [
    "arr"
   ]
  },
  {
   "cell_type": "code",
   "execution_count": null,
   "metadata": {},
   "outputs": [],
   "source": [
    "\n",
    "T = int(input())\n",
    "\n",
    "for t in range(1, T+1):\n",
    "    \n",
    "    N, K = map(int,input().split())\n",
    "    \n",
    "    # zero padding 처리\n",
    "    arr = [ list(map(int,input().split())) + [0] for _ in range(N) ] + [ [0]*(N+1) ]    \n",
    "    \n",
    "    ans = 0\n",
    "    \n",
    "    \n",
    "    \n",
    "    for i in range(N):\n",
    "        \n",
    "        cnt = 0\n",
    "        \n",
    "        for j in range(N):\n",
    "            \n",
    "            if arr[i][j] == 1:\n",
    "                cnt += 1\n",
    "            else:\n",
    "                cnt = 0\n",
    "                            \n",
    "            if cnt == K and arr[i][j+1] == 0:\n",
    "                ans += 1\n",
    "                cnt = 0\n",
    "    \n",
    "    for j in range(N):\n",
    "        \n",
    "        cnt = 0\n",
    "        \n",
    "        for i in range(N):\n",
    "            \n",
    "            if arr[i][j] == 1:\n",
    "                cnt += 1\n",
    "            else:\n",
    "                cnt = 0\n",
    "                \n",
    "            if cnt == K and arr[i+1][j] == 0:\n",
    "                ans += 1\n",
    "                cnt = 0\n",
    "    \n",
    "    \n",
    "    print('#{0} {1}'.format(t, ans))\n"
   ]
  },
  {
   "cell_type": "markdown",
   "metadata": {},
   "source": [
    "---"
   ]
  },
  {
   "cell_type": "code",
   "execution_count": 38,
   "metadata": {},
   "outputs": [
    {
     "name": "stdout",
     "output_type": "stream",
     "text": [
      "2\n",
      "5 3\n",
      "0 0 1 1 1\n",
      "1 1 1 1 0\n",
      "0 0 1 0 0\n",
      "0 1 1 1 1\n",
      "1 1 1 0 1\n",
      "#1 2\n",
      "5 3\n",
      "1 0 0 1 0\n",
      "1 1 0 1 1\n",
      "1 0 1 1 1\n",
      "0 1 1 0 1\n",
      "0 1 1 1 0\n",
      "#2 6\n"
     ]
    }
   ],
   "source": [
    "\n",
    "T = int(input())\n",
    "\n",
    "for t in range(1, T+1):\n",
    "    \n",
    "    N, K = map(int,input().split())\n",
    "    \n",
    "    arr = [ list(map(int,input().split())) + [0] for _ in range(N) ] + [ [0]*(N+1) ]    \n",
    "    \n",
    "    ans = 0\n",
    "\n",
    "    \n",
    "    for si in range(0, N):\n",
    "        \n",
    "        for sj in range(0, N - K + 1):\n",
    "            \n",
    "            cnt = 0\n",
    "            \n",
    "            for di in range(K):\n",
    "                cnt += arr[si][sj+di]\n",
    "            \n",
    "            if cnt == K and arr[si][sj+K] == 0 and arr[si][sj-1] == 0:\n",
    "                ans += 1\n",
    "           \n",
    "        \n",
    "        \n",
    "    for si in range(0, N):\n",
    "        \n",
    "        for sj in range(0, N - K + 1):\n",
    "            \n",
    "            cnt = 0\n",
    "            \n",
    "            for di in range(K):\n",
    "                cnt += arr[sj+di][si]\n",
    "            \n",
    "            if cnt == K and arr[sj+K][si] == 0 and arr[sj-1][si] == 0:\n",
    "                ans += 1\n",
    "           \n",
    "                \n",
    "    print('#{0} {1}'.format(t,ans))\n",
    "    \n",
    "    "
   ]
  },
  {
   "cell_type": "markdown",
   "metadata": {},
   "source": [
    "---"
   ]
  },
  {
   "cell_type": "code",
   "execution_count": 16,
   "metadata": {},
   "outputs": [
    {
     "name": "stdout",
     "output_type": "stream",
     "text": [
      "1\n",
      "5 3\n",
      "0 0 1 1 1\n",
      "1 1 1 1 0\n",
      "0 0 1 0 0\n",
      "0 1 1 1 1\n",
      "1 1 1 0 1\n",
      "1\n",
      "1\n",
      "#1 2\n"
     ]
    }
   ],
   "source": [
    "# 가로 세로 transpose 처리\n",
    "\n",
    "T = int(input())\n",
    "\n",
    "for t in range(1, T+1):\n",
    "    \n",
    "    N,K = map(int,input().split())\n",
    "    \n",
    "\n",
    "    # 가로 카운트, 세로 카운트\n",
    "    \n",
    "    arr1 = []\n",
    "    \n",
    "    for _ in range(N):\n",
    "        arr1.append(list(map(int,input().split())))\n",
    "        \n",
    "    \n",
    "    arr2 = [ list(tup) for tup in zip(*arr1) ]\n",
    "    \n",
    "    # zero padding \n",
    "    for lst in arr1:\n",
    "        lst.insert(0,0)\n",
    "        lst.append(0)\n",
    "    \n",
    "    for lst in arr2:\n",
    "        lst.insert(0,0)\n",
    "        lst.append(0)\n",
    "    \n",
    "    \n",
    "    total = 0\n",
    "    \n",
    "    # si,sj 고정 상태에서 검사\n",
    "    \n",
    "    for si in range(0, N):\n",
    "        for sj in range(1, N-K+1+1):\n",
    "            \n",
    "            cnt = 0\n",
    "            \n",
    "            for i in range(K):\n",
    "                cnt += arr1[si][sj+i]\n",
    "            \n",
    "            if cnt == K and arr1[si][sj+K]==0 and arr1[si][sj-1] == 0:\n",
    "                total +=1\n",
    "           \n",
    "        \n",
    "        \n",
    "    for si in range(0, N):\n",
    "        for sj in range(1, N-K+1+1):\n",
    "            \n",
    "            cnt = 0\n",
    "            \n",
    "            for i in range(K):\n",
    "                cnt += arr2[si][sj+i]\n",
    "            \n",
    "            if cnt == K and arr2[si][sj+K]==0 and arr2[si][sj-1] == 0:\n",
    "                total +=1\n",
    "                \n",
    "    print('#{0} {1}'.format(t,total))\n",
    "    \n",
    "    "
   ]
  },
  {
   "cell_type": "markdown",
   "metadata": {},
   "source": [
    "---"
   ]
  },
  {
   "cell_type": "markdown",
   "metadata": {},
   "source": [
    "- 0이 나왔을때, 이전까지 cnt 값이 K 라면, ans+=1"
   ]
  },
  {
   "cell_type": "code",
   "execution_count": null,
   "metadata": {},
   "outputs": [],
   "source": [
    "def count(arr):\n",
    "    \n",
    "    ans = 0\n",
    "    \n",
    "    for lst in arr:\n",
    "        \n",
    "        cnt = 0\n",
    "        \n",
    "        for j in range(len(lst)):\n",
    "            \n",
    "            if lst[j]: \n",
    "                cnt += 1\n",
    "            \n",
    "            else: # 0이 나왔을때, 이전까지 cnt 값이 K 라면, ans+=1\n",
    "                \n",
    "                if cnt == K:\n",
    "                    ans += 1 \n",
    "\n",
    "                cnt = 0\n",
    "    return ans\n",
    "\n",
    "T = int(input())\n",
    "\n",
    "for test_case in range(1, T + 1):\n",
    "    \n",
    "    N, K = map(int, input().split())\n",
    "    \n",
    "    arr = [ list(map(int, input().split())) + [0] for _ in range(N)] + [[0]*(N+1) ]\n",
    "     \n",
    "    arr_t = list(map(list,zip(*arr)))\n",
    "\n",
    "    ans = count(arr) + count(arr_t)\n",
    "    \n",
    "    print(f'#{test_case} {ans}')"
   ]
  },
  {
   "cell_type": "markdown",
   "metadata": {},
   "source": [
    "---"
   ]
  },
  {
   "cell_type": "markdown",
   "metadata": {},
   "source": [
    "---"
   ]
  }
 ],
 "metadata": {
  "hide_input": false,
  "kernelspec": {
   "display_name": "Python 3 (ipykernel)",
   "language": "python",
   "name": "python3"
  },
  "language_info": {
   "codemirror_mode": {
    "name": "ipython",
    "version": 3
   },
   "file_extension": ".py",
   "mimetype": "text/x-python",
   "name": "python",
   "nbconvert_exporter": "python",
   "pygments_lexer": "ipython3",
   "version": "3.8.16"
  },
  "toc": {
   "base_numbering": 1,
   "nav_menu": {},
   "number_sections": true,
   "sideBar": true,
   "skip_h1_title": false,
   "title_cell": "Table of Contents",
   "title_sidebar": "Contents",
   "toc_cell": false,
   "toc_position": {},
   "toc_section_display": true,
   "toc_window_display": false
  },
  "varInspector": {
   "cols": {
    "lenName": 16,
    "lenType": 16,
    "lenVar": 40
   },
   "kernels_config": {
    "python": {
     "delete_cmd_postfix": "",
     "delete_cmd_prefix": "del ",
     "library": "var_list.py",
     "varRefreshCmd": "print(var_dic_list())"
    },
    "r": {
     "delete_cmd_postfix": ") ",
     "delete_cmd_prefix": "rm(",
     "library": "var_list.r",
     "varRefreshCmd": "cat(var_dic_list()) "
    }
   },
   "types_to_exclude": [
    "module",
    "function",
    "builtin_function_or_method",
    "instance",
    "_Feature"
   ],
   "window_display": false
  }
 },
 "nbformat": 4,
 "nbformat_minor": 4
}
