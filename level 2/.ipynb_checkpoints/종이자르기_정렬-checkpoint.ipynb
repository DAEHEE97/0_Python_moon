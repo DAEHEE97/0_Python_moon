{
 "cells": [
  {
   "cell_type": "markdown",
   "id": "dfc1ca79",
   "metadata": {},
   "source": [
    "# 종이자르기\n",
    "\n",
    "- [종이자르기](https://www.acmicpc.net/problem/2628)"
   ]
  },
  {
   "cell_type": "markdown",
   "id": "0e8c7b1a",
   "metadata": {},
   "source": [
    "## Memo\n",
    "\n",
    "- 가로 세로 로 자른 후, 남은 직사각형 중 최대 넓이를 구하여라\n",
    "\n",
    "- 가로와 세로의 길이는 최대 100㎝이다\n",
    "\n",
    "- 하나씩 나누면서, 큰거만 가져가는 형식으로 처리, 가로 처리후 Transpose 후 세로 처리 후 남은 넓이 만 계산\n",
    "\n"
   ]
  },
  {
   "cell_type": "code",
   "execution_count": 1,
   "id": "226d3d6e",
   "metadata": {},
   "outputs": [],
   "source": [
    "arr = [ [0]*10 for _ in range(10) ]"
   ]
  },
  {
   "cell_type": "code",
   "execution_count": 17,
   "id": "96cace9b",
   "metadata": {},
   "outputs": [
    {
     "data": {
      "text/plain": [
       "[[0, 0, 0, 0, 0, 0, 0, 0, 0, 0],\n",
       " [0, 0, 0, 0, 0, 0, 0, 0, 0, 0],\n",
       " [0, 0, 0, 0, 0, 0, 0, 0, 0, 0],\n",
       " [0, 0, 0, 0, 0, 0, 0, 0, 0, 0],\n",
       " [0, 0, 0, 0, 0, 0, 0, 0, 0, 0],\n",
       " [0, 0, 0, 0, 0, 0, 0, 0, 0, 0],\n",
       " [0, 0, 0, 0, 0, 0, 0, 0, 0, 0],\n",
       " [0, 0, 0, 0, 0, 0, 0, 0, 0, 0]]"
      ]
     },
     "execution_count": 17,
     "metadata": {},
     "output_type": "execute_result"
    }
   ],
   "source": [
    "arr"
   ]
  },
  {
   "cell_type": "code",
   "execution_count": 18,
   "id": "86296a70",
   "metadata": {},
   "outputs": [],
   "source": [
    "# 가로 3 기준 나눔\n",
    "arr = max(arr[:3], arr[3:])"
   ]
  },
  {
   "cell_type": "code",
   "execution_count": 21,
   "id": "d80e4dbe",
   "metadata": {},
   "outputs": [
    {
     "data": {
      "text/plain": [
       "[[0, 0, 0, 0, 0, 0, 0, 0, 0, 0],\n",
       " [0, 0, 0, 0, 0, 0, 0, 0, 0, 0],\n",
       " [0, 0, 0, 0, 0, 0, 0, 0, 0, 0],\n",
       " [0, 0, 0, 0, 0, 0, 0, 0, 0, 0],\n",
       " [0, 0, 0, 0, 0, 0, 0, 0, 0, 0]]"
      ]
     },
     "execution_count": 21,
     "metadata": {},
     "output_type": "execute_result"
    }
   ],
   "source": [
    "arr"
   ]
  },
  {
   "cell_type": "code",
   "execution_count": 22,
   "id": "c4187fc3",
   "metadata": {},
   "outputs": [],
   "source": [
    "arr = [ list(tup) for tup in zip(*arr) ]"
   ]
  },
  {
   "cell_type": "code",
   "execution_count": 23,
   "id": "f58c2e6e",
   "metadata": {},
   "outputs": [
    {
     "data": {
      "text/plain": [
       "[[0, 0, 0, 0, 0],\n",
       " [0, 0, 0, 0, 0],\n",
       " [0, 0, 0, 0, 0],\n",
       " [0, 0, 0, 0, 0],\n",
       " [0, 0, 0, 0, 0],\n",
       " [0, 0, 0, 0, 0],\n",
       " [0, 0, 0, 0, 0],\n",
       " [0, 0, 0, 0, 0],\n",
       " [0, 0, 0, 0, 0],\n",
       " [0, 0, 0, 0, 0]]"
      ]
     },
     "execution_count": 23,
     "metadata": {},
     "output_type": "execute_result"
    }
   ],
   "source": [
    "arr"
   ]
  },
  {
   "cell_type": "code",
   "execution_count": 12,
   "id": "88b02006",
   "metadata": {},
   "outputs": [
    {
     "data": {
      "text/plain": [
       "([[0, 0, 0, 0, 0, 0, 0, 0, 0, 0],\n",
       "  [0, 0, 0, 0, 0, 0, 0, 0, 0, 0],\n",
       "  [0, 0, 0, 0, 0, 0, 0, 0, 0, 0],\n",
       "  [0, 0, 0, 0, 0, 0, 0, 0, 0, 0],\n",
       "  [0, 0, 0, 0, 0, 0, 0, 0, 0, 0]],\n",
       " 5)"
      ]
     },
     "execution_count": 12,
     "metadata": {},
     "output_type": "execute_result"
    }
   ],
   "source": [
    "arr[3:],len(arr[3:])"
   ]
  },
  {
   "cell_type": "code",
   "execution_count": null,
   "id": "72d80a2e",
   "metadata": {},
   "outputs": [],
   "source": []
  },
  {
   "cell_type": "code",
   "execution_count": 5,
   "id": "c9b5a2c3",
   "metadata": {},
   "outputs": [
    {
     "data": {
      "text/plain": [
       "[[0, 0, 0, 0, 0, 0, 0, 0, 0, 0],\n",
       " [0, 0, 0, 0, 0, 0, 0, 0, 0, 0],\n",
       " [0, 0, 0, 0, 0, 0, 0, 0, 0, 0],\n",
       " [0, 0, 0, 0, 0, 0, 0, 0, 0, 0],\n",
       " [0, 0, 0, 0, 0, 0, 0, 0, 0, 0],\n",
       " [0, 0, 0, 0, 0, 0, 0, 0, 0, 0],\n",
       " [0, 0, 0, 0, 0, 0, 0, 0, 0, 0],\n",
       " [0, 0, 0, 0, 0, 0, 0, 0, 0, 0],\n",
       " [0, 0, 0, 0, 0, 0, 0, 0, 0, 0],\n",
       " [0, 0, 0, 0, 0, 0, 0, 0, 0, 0]]"
      ]
     },
     "execution_count": 5,
     "metadata": {},
     "output_type": "execute_result"
    }
   ],
   "source": [
    "arr[]"
   ]
  },
  {
   "cell_type": "code",
   "execution_count": null,
   "id": "c01ca8db",
   "metadata": {},
   "outputs": [],
   "source": []
  },
  {
   "cell_type": "code",
   "execution_count": 6,
   "id": "44818333",
   "metadata": {},
   "outputs": [
    {
     "name": "stdout",
     "output_type": "stream",
     "text": [
      "10 8\n"
     ]
    }
   ],
   "source": [
    "w, h  = map(int, input().split())\n",
    "arr = [ [0]*w for _ in range(h) ]"
   ]
  },
  {
   "cell_type": "code",
   "execution_count": 7,
   "id": "2b495462",
   "metadata": {},
   "outputs": [
    {
     "data": {
      "text/plain": [
       "[[0, 0, 0, 0, 0, 0, 0, 0, 0, 0],\n",
       " [0, 0, 0, 0, 0, 0, 0, 0, 0, 0],\n",
       " [0, 0, 0, 0, 0, 0, 0, 0, 0, 0],\n",
       " [0, 0, 0, 0, 0, 0, 0, 0, 0, 0],\n",
       " [0, 0, 0, 0, 0, 0, 0, 0, 0, 0],\n",
       " [0, 0, 0, 0, 0, 0, 0, 0, 0, 0],\n",
       " [0, 0, 0, 0, 0, 0, 0, 0, 0, 0],\n",
       " [0, 0, 0, 0, 0, 0, 0, 0, 0, 0]]"
      ]
     },
     "execution_count": 7,
     "metadata": {},
     "output_type": "execute_result"
    }
   ],
   "source": [
    "arr"
   ]
  },
  {
   "cell_type": "code",
   "execution_count": 34,
   "id": "135ac7e1",
   "metadata": {},
   "outputs": [
    {
     "name": "stdout",
     "output_type": "stream",
     "text": [
      "10 8\n",
      "3\n",
      "0 3\n",
      "1 4\n",
      "0 2\n"
     ]
    }
   ],
   "source": [
    "\n",
    "# 1) 입력 가로 세로 \n",
    "\n",
    "w, h  = map(int, input().split())\n",
    "arr = [ [0]*w for _ in range(h) ]\n",
    "\n",
    "\n",
    "N = int(input())\n",
    "\n",
    "w_lst = []\n",
    "h_lst = []\n",
    "\n",
    "\n",
    "for _ in range(N):\n",
    "    \n",
    "    # 가로 d = 0. 세로 d = 1\n",
    "    d, n = map(int, input().split())\n",
    "    \n",
    "    if d == 0:\n",
    "        w_lst.append(n)\n",
    "    else:\n",
    "        h_lst.append(n)\n",
    "        \n",
    "\n",
    "# 2) 정렬\n",
    "w_lst.sort()\n",
    "h_lst.sort()\n",
    "\n"
   ]
  },
  {
   "cell_type": "code",
   "execution_count": 35,
   "id": "3d443c7a",
   "metadata": {},
   "outputs": [
    {
     "data": {
      "text/plain": [
       "[2, 3]"
      ]
     },
     "execution_count": 35,
     "metadata": {},
     "output_type": "execute_result"
    }
   ],
   "source": [
    "w_lst"
   ]
  },
  {
   "cell_type": "code",
   "execution_count": 36,
   "id": "bdbf88dc",
   "metadata": {},
   "outputs": [
    {
     "data": {
      "text/plain": [
       "[4]"
      ]
     },
     "execution_count": 36,
     "metadata": {},
     "output_type": "execute_result"
    }
   ],
   "source": [
    "h_lst"
   ]
  },
  {
   "cell_type": "code",
   "execution_count": 28,
   "id": "feb95835",
   "metadata": {},
   "outputs": [],
   "source": [
    "tmp = w_lst[0]"
   ]
  },
  {
   "cell_type": "code",
   "execution_count": 29,
   "id": "325a7e62",
   "metadata": {},
   "outputs": [
    {
     "data": {
      "text/plain": [
       "2"
      ]
     },
     "execution_count": 29,
     "metadata": {},
     "output_type": "execute_result"
    }
   ],
   "source": [
    "tmp"
   ]
  },
  {
   "cell_type": "code",
   "execution_count": 30,
   "id": "9c40a778",
   "metadata": {},
   "outputs": [],
   "source": [
    "    arr = max( arr[:tmp], arr[tmp:] )\n"
   ]
  },
  {
   "cell_type": "code",
   "execution_count": 31,
   "id": "a42912de",
   "metadata": {},
   "outputs": [
    {
     "data": {
      "text/plain": [
       "[[0, 0, 0, 0, 0, 0, 0, 0, 0, 0],\n",
       " [0, 0, 0, 0, 0, 0, 0, 0, 0, 0],\n",
       " [0, 0, 0, 0, 0, 0, 0, 0, 0, 0],\n",
       " [0, 0, 0, 0, 0, 0, 0, 0, 0, 0],\n",
       " [0, 0, 0, 0, 0, 0, 0, 0, 0, 0],\n",
       " [0, 0, 0, 0, 0, 0, 0, 0, 0, 0]]"
      ]
     },
     "execution_count": 31,
     "metadata": {},
     "output_type": "execute_result"
    }
   ],
   "source": [
    "arr"
   ]
  },
  {
   "cell_type": "code",
   "execution_count": 37,
   "id": "02aa4afd",
   "metadata": {},
   "outputs": [
    {
     "name": "stdout",
     "output_type": "stream",
     "text": [
      "30\n"
     ]
    }
   ],
   "source": [
    "# 3) 가로\n",
    "prev = 0\n",
    "for i in range(len(w_lst)):\n",
    "    \n",
    "    tmp = w_lst[i] - prev\n",
    "    arr = max( arr[:tmp], arr[tmp:] )\n",
    "    prev = tmp\n",
    "    \n",
    "# 4) Transpose  \n",
    "arr = [ list(tup) for tup in zip(*arr) ]    \n",
    "\n",
    "# 5) 세로 \n",
    "prev = 0\n",
    "for i in range(len(h_lst)):\n",
    "    tmp = h_lst[i] - prev\n",
    "    arr = max( arr[:tmp], arr[tmp:] )\n",
    "    prev = tmp\n",
    "\n",
    "\n",
    "ans = 0\n",
    "\n",
    "for lst in arr:\n",
    "    ans += lst.count(0)\n",
    "\n",
    "print(ans)"
   ]
  },
  {
   "cell_type": "markdown",
   "id": "d8d020f7",
   "metadata": {},
   "source": [
    "---"
   ]
  },
  {
   "cell_type": "markdown",
   "id": "ab79035b",
   "metadata": {},
   "source": [
    "- 내가 작성한건 계속해서 갱신하면서 쭉 자르는것\n",
    "\n",
    "- 처음부터 모두 잘라야 함 > 잘라야하는 가로 세로 prev로 처리해줘야 함\n",
    "\n",
    "\n",
    "\n",
    "\n",
    "2 자르고 난후, 3 자를때는 1을 잘라야함\n",
    "\n",
    "2 자르고 난후, 6 자를 떄는 6-2 잘라야함 \n",
    "\n"
   ]
  },
  {
   "cell_type": "code",
   "execution_count": null,
   "id": "c28348ea",
   "metadata": {},
   "outputs": [],
   "source": []
  },
  {
   "cell_type": "code",
   "execution_count": null,
   "id": "e9cb3813",
   "metadata": {},
   "outputs": [],
   "source": []
  },
  {
   "cell_type": "code",
   "execution_count": null,
   "id": "a1f94da5",
   "metadata": {},
   "outputs": [],
   "source": []
  },
  {
   "cell_type": "code",
   "execution_count": null,
   "id": "56cb6b99",
   "metadata": {},
   "outputs": [],
   "source": []
  },
  {
   "cell_type": "code",
   "execution_count": null,
   "id": "062f456d",
   "metadata": {},
   "outputs": [],
   "source": []
  },
  {
   "cell_type": "code",
   "execution_count": null,
   "id": "ea1b0737",
   "metadata": {},
   "outputs": [],
   "source": []
  },
  {
   "cell_type": "markdown",
   "id": "62dd776a",
   "metadata": {},
   "source": [
    "---"
   ]
  },
  {
   "cell_type": "code",
   "execution_count": null,
   "id": "b920094f",
   "metadata": {},
   "outputs": [],
   "source": []
  },
  {
   "cell_type": "code",
   "execution_count": null,
   "id": "a0708914",
   "metadata": {},
   "outputs": [],
   "source": [
    "C, R = map(int, input().split())\n",
    "# [1] 가능한 가로/세로 자르는 위치를 저장후 정렬\n",
    "r_lst = [0, R]\n",
    "c_lst = [0, C]\n",
    "N = int(input())\n",
    "for _ in range(N):\n",
    "    t, n = map(int, input().split())\n",
    "    if t == 0:\n",
    "        r_lst.append(n)\n",
    "    else:\n",
    "        c_lst.append(n)\n",
    "r_lst.sort()\n",
    "c_lst.sort()\n",
    "\n",
    "# [2] 가장 긴 길이 찾기\n",
    "r_mx = 0\n",
    "for i in range(1, len(r_lst)):\n",
    "    r_mx = max(r_mx, r_lst[i]-r_lst[i-1])\n",
    "c_mx = 0\n",
    "for i in range(1, len(c_lst)):\n",
    "    c_mx = max(c_mx, c_lst[i]-c_lst[i-1])\n",
    "\n",
    "print(r_mx*c_mx)"
   ]
  }
 ],
 "metadata": {
  "kernelspec": {
   "display_name": "Python 3 (ipykernel)",
   "language": "python",
   "name": "python3"
  },
  "language_info": {
   "codemirror_mode": {
    "name": "ipython",
    "version": 3
   },
   "file_extension": ".py",
   "mimetype": "text/x-python",
   "name": "python",
   "nbconvert_exporter": "python",
   "pygments_lexer": "ipython3",
   "version": "3.8.16"
  },
  "toc": {
   "base_numbering": 1,
   "nav_menu": {},
   "number_sections": true,
   "sideBar": true,
   "skip_h1_title": false,
   "title_cell": "Table of Contents",
   "title_sidebar": "Contents",
   "toc_cell": false,
   "toc_position": {},
   "toc_section_display": true,
   "toc_window_display": false
  },
  "varInspector": {
   "cols": {
    "lenName": 16,
    "lenType": 16,
    "lenVar": 40
   },
   "kernels_config": {
    "python": {
     "delete_cmd_postfix": "",
     "delete_cmd_prefix": "del ",
     "library": "var_list.py",
     "varRefreshCmd": "print(var_dic_list())"
    },
    "r": {
     "delete_cmd_postfix": ") ",
     "delete_cmd_prefix": "rm(",
     "library": "var_list.r",
     "varRefreshCmd": "cat(var_dic_list()) "
    }
   },
   "types_to_exclude": [
    "module",
    "function",
    "builtin_function_or_method",
    "instance",
    "_Feature"
   ],
   "window_display": false
  }
 },
 "nbformat": 4,
 "nbformat_minor": 5
}
