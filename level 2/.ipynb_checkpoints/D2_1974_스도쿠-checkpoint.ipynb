{
 "cells": [
  {
   "cell_type": "markdown",
   "id": "225d1b06",
   "metadata": {},
   "source": [
    "# 1974. 스도쿠 검증\n",
    "\n",
    "같은 줄에 1 에서 9 까지의 숫자를 한번씩만 넣고, 3 x 3 크기의 작은 격자 또한, 1 에서 9 까지의 숫자가 겹치지 않아야 한다.\n",
    "\n",
    "\n",
    "입력으로 9 X 9 크기의 스도쿠 퍼즐의 숫자들이 주어졌을 때, 위와 같이 겹치는 숫자가 없을 경우, 1을 정답으로 출력하고 그렇지 않을 경우 0 을 출력한다.\n",
    "\n",
    "\n",
    "\n",
    "## [제약 사항]\n",
    "\n",
    "1. 퍼즐은 모두 숫자로 채워진 상태로 주어진다.\n",
    "\n",
    "2. 입력으로 주어지는 퍼즐의 모든 숫자는 1 이상 9 이하의 정수이다.\n",
    "\n",
    "\n",
    "## [입력]\n",
    "\n",
    "입력은 첫 줄에 총 테스트 케이스의 개수 T가 온다.\n",
    "\n",
    "다음 줄부터 각 테스트 케이스가 주어진다.\n",
    "\n",
    "테스트 케이스는 9 x 9 크기의 퍼즐의 데이터이다.\n",
    "\n",
    "\n",
    "## [출력]\n",
    "\n",
    "테스트 케이스 t에 대한 결과는 “#t”을 찍고, 한 칸 띄고, 정답을 출력한다.\n",
    "\n",
    "(t는 테스트 케이스의 번호를 의미하며 1부터 시작한다.)"
   ]
  },
  {
   "cell_type": "markdown",
   "id": "fe20c700",
   "metadata": {},
   "source": [
    "---"
   ]
  },
  {
   "cell_type": "markdown",
   "id": "7e093983",
   "metadata": {},
   "source": [
    "## Memo\n",
    "\n",
    "1. 9x9 입력 2d lst로 입력\n",
    "\n",
    "중복 체크 > set 생성 후, len 9 가 아니면 return\n",
    "\n",
    "2. 가로 세로 3*3 체크\n",
    "\n",
    "3. 가로\n",
    "\n",
    "4. 세로\n",
    "    - 1. 반복문\n",
    "    - 2. transpose\n",
    "    \n",
    "\n",
    "5. 3*3 체크\n",
    "    - 0 - 2 \n",
    "    - 0 - 2\n",
    "\n",
    "    - 0 - 2\n",
    "    - 3 - 5\n",
    "    \n",
    "    - 0 - 2\n",
    "    - 6 - 8\n",
    "    \n",
    "    \n"
   ]
  },
  {
   "cell_type": "markdown",
   "id": "966e2723",
   "metadata": {},
   "source": [
    "---"
   ]
  },
  {
   "cell_type": "code",
   "execution_count": 1,
   "id": "3f375997",
   "metadata": {},
   "outputs": [
    {
     "name": "stdout",
     "output_type": "stream",
     "text": [
      "1\n",
      "7 3 6 4 2 9 5 8 1\n",
      "5 8 9 1 6 7 3 2 4\n",
      "2 1 4 5 8 3 6 9 7\n",
      "8 4 7 9 3 6 1 5 2\n",
      "1 5 3 8 4 2 9 7 6\n",
      "9 6 2 7 5 1 8 4 3\n",
      "4 2 1 3 9 8 7 6 5\n",
      "3 9 5 6 7 4 2 1 8\n",
      "6 7 8 2 1 5 4 3 9\n"
     ]
    }
   ],
   "source": [
    "T = int(input())\n",
    "\n",
    "for t in range(1,T+1):\n",
    "    \n",
    "    lst = []\n",
    "    \n",
    "    for _ in range(9):\n",
    "        lst.append(list(map(int,input().split())))\n",
    "        \n",
    "    # 2d lst"
   ]
  },
  {
   "cell_type": "code",
   "execution_count": 2,
   "id": "37af8200",
   "metadata": {},
   "outputs": [
    {
     "data": {
      "text/plain": [
       "[[7, 3, 6, 4, 2, 9, 5, 8, 1],\n",
       " [5, 8, 9, 1, 6, 7, 3, 2, 4],\n",
       " [2, 1, 4, 5, 8, 3, 6, 9, 7],\n",
       " [8, 4, 7, 9, 3, 6, 1, 5, 2],\n",
       " [1, 5, 3, 8, 4, 2, 9, 7, 6],\n",
       " [9, 6, 2, 7, 5, 1, 8, 4, 3],\n",
       " [4, 2, 1, 3, 9, 8, 7, 6, 5],\n",
       " [3, 9, 5, 6, 7, 4, 2, 1, 8],\n",
       " [6, 7, 8, 2, 1, 5, 4, 3, 9]]"
      ]
     },
     "execution_count": 2,
     "metadata": {},
     "output_type": "execute_result"
    }
   ],
   "source": [
    "lst"
   ]
  },
  {
   "cell_type": "code",
   "execution_count": 3,
   "id": "6bbc7715",
   "metadata": {},
   "outputs": [],
   "source": [
    "# 가로 체크\n",
    "\n",
    "for i in range(9):\n",
    "    s = set()\n",
    "    \n",
    "    for j in range(9):\n",
    "        s.add(lst[i][j])\n",
    "\n",
    "    if len(s) != 9:\n",
    "        result = 0\n",
    "    else:\n",
    "        result = 1\n",
    "        \n",
    "    "
   ]
  },
  {
   "cell_type": "code",
   "execution_count": 4,
   "id": "0c672da6",
   "metadata": {},
   "outputs": [
    {
     "data": {
      "text/plain": [
       "1"
      ]
     },
     "execution_count": 4,
     "metadata": {},
     "output_type": "execute_result"
    }
   ],
   "source": [
    "result"
   ]
  },
  {
   "cell_type": "code",
   "execution_count": 5,
   "id": "8df15cc9",
   "metadata": {},
   "outputs": [],
   "source": [
    "# 세로 체크\n",
    "\n",
    "for i in range(9):\n",
    "    s = set()\n",
    "    \n",
    "    for j in range(9):\n",
    "        s.add(lst[j][i])\n",
    "\n",
    "    if len(s) != 9:\n",
    "        result = 0\n",
    "    else:\n",
    "        result = 1\n",
    "        \n",
    "    "
   ]
  },
  {
   "cell_type": "code",
   "execution_count": 6,
   "id": "5e4ae133",
   "metadata": {},
   "outputs": [
    {
     "data": {
      "text/plain": [
       "1"
      ]
     },
     "execution_count": 6,
     "metadata": {},
     "output_type": "execute_result"
    }
   ],
   "source": [
    "result"
   ]
  },
  {
   "cell_type": "markdown",
   "id": "762ba3d6",
   "metadata": {},
   "source": [
    "---"
   ]
  },
  {
   "cell_type": "code",
   "execution_count": 7,
   "id": "f70072ca",
   "metadata": {},
   "outputs": [],
   "source": [
    "# 0 2 0 2 \n",
    "# 제 1 확인\n",
    "\n",
    "s = set()\n",
    "\n",
    "for i in range(3):\n",
    "    \n",
    "    for j in range(3):\n",
    "        \n",
    "        s.add(lst[i][j])\n",
    "        \n",
    "if len(s) != 9 :\n",
    "    result = 0\n",
    "else:\n",
    "    result = 1\n",
    "        "
   ]
  },
  {
   "cell_type": "code",
   "execution_count": 8,
   "id": "10c066c5",
   "metadata": {},
   "outputs": [
    {
     "data": {
      "text/plain": [
       "1"
      ]
     },
     "execution_count": 8,
     "metadata": {},
     "output_type": "execute_result"
    }
   ],
   "source": [
    "result"
   ]
  },
  {
   "cell_type": "markdown",
   "id": "d6685b9a",
   "metadata": {},
   "source": [
    "---"
   ]
  },
  {
   "cell_type": "code",
   "execution_count": null,
   "id": "9bf8f810",
   "metadata": {},
   "outputs": [],
   "source": [
    "def solve():\n",
    "    for lst in arr:\n",
    "        if len(set(lst)) != N:\n",
    "            return 0\n",
    " \n",
    "    arr1 = list(zip(*arr))\n",
    "    for lst in arr1:\n",
    "        if len(set(lst)) != N:\n",
    "            return 0\n",
    " \n",
    "    for i in range(0, 9, 3):\n",
    "        for j in range(0, 9, 3):\n",
    "            lst = arr[i][j:j+3] + arr[i+1][j:j+3] + arr[i+2][j:j+3]\n",
    "            if len(set(lst)) != N:\n",
    "                return 0\n",
    " \n",
    "    return 1\n",
    " \n",
    "T = int(input())\n",
    "for test_case in range(1, T + 1):\n",
    "    N = 9\n",
    "    arr = [list(map(int, input().split())) for _ in range(N)]\n",
    " \n",
    "    ans = solve()\n",
    " \n",
    "    print(f'#{test_case} {ans}')"
   ]
  }
 ],
 "metadata": {
  "kernelspec": {
   "display_name": "Python 3 (ipykernel)",
   "language": "python",
   "name": "python3"
  },
  "language_info": {
   "codemirror_mode": {
    "name": "ipython",
    "version": 3
   },
   "file_extension": ".py",
   "mimetype": "text/x-python",
   "name": "python",
   "nbconvert_exporter": "python",
   "pygments_lexer": "ipython3",
   "version": "3.8.16"
  },
  "toc": {
   "base_numbering": 1,
   "nav_menu": {},
   "number_sections": true,
   "sideBar": true,
   "skip_h1_title": false,
   "title_cell": "Table of Contents",
   "title_sidebar": "Contents",
   "toc_cell": false,
   "toc_position": {},
   "toc_section_display": true,
   "toc_window_display": false
  },
  "varInspector": {
   "cols": {
    "lenName": 16,
    "lenType": 16,
    "lenVar": 40
   },
   "kernels_config": {
    "python": {
     "delete_cmd_postfix": "",
     "delete_cmd_prefix": "del ",
     "library": "var_list.py",
     "varRefreshCmd": "print(var_dic_list())"
    },
    "r": {
     "delete_cmd_postfix": ") ",
     "delete_cmd_prefix": "rm(",
     "library": "var_list.r",
     "varRefreshCmd": "cat(var_dic_list()) "
    }
   },
   "types_to_exclude": [
    "module",
    "function",
    "builtin_function_or_method",
    "instance",
    "_Feature"
   ],
   "window_display": false
  }
 },
 "nbformat": 4,
 "nbformat_minor": 5
}
