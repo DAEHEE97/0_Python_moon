{
 "cells": [
  {
   "cell_type": "markdown",
   "id": "225d1b06",
   "metadata": {},
   "source": [
    "# 1974. 스도쿠 검증\n",
    "\n",
    "- [스도쿠](https://swexpertacademy.com/main/code/problem/problemDetail.do?contestProbId=AV5Psz16AYEDFAUq)\n"
   ]
  },
  {
   "cell_type": "markdown",
   "id": "0e8100c2",
   "metadata": {},
   "source": [
    "같은 줄에 1 에서 9 까지의 숫자를 한번씩만 넣고, 3 x 3 크기의 작은 격자 또한, 1 에서 9 까지의 숫자가 겹치지 않아야 한다.\n",
    "\n",
    "\n",
    "입력으로 9 X 9 크기의 스도쿠 퍼즐의 숫자들이 주어졌을 때, 위와 같이 겹치는 숫자가 없을 경우, 1을 정답으로 출력하고 그렇지 않을 경우 0 을 출력한다.\n",
    "\n",
    "\n",
    "\n",
    "## [제약 사항]\n",
    "\n",
    "1. 퍼즐은 모두 숫자로 채워진 상태로 주어진다.\n",
    "\n",
    "2. 입력으로 주어지는 퍼즐의 모든 숫자는 1 이상 9 이하의 정수이다.\n",
    "\n",
    "\n",
    "## [입력]\n",
    "\n",
    "입력은 첫 줄에 총 테스트 케이스의 개수 T가 온다.\n",
    "\n",
    "다음 줄부터 각 테스트 케이스가 주어진다.\n",
    "\n",
    "테스트 케이스는 9 x 9 크기의 퍼즐의 데이터이다.\n",
    "\n",
    "\n",
    "## [출력]\n",
    "\n",
    "테스트 케이스 t에 대한 결과는 “#t”을 찍고, 한 칸 띄고, 정답을 출력한다.\n",
    "\n",
    "(t는 테스트 케이스의 번호를 의미하며 1부터 시작한다.)"
   ]
  },
  {
   "cell_type": "markdown",
   "id": "fe20c700",
   "metadata": {},
   "source": [
    "---"
   ]
  },
  {
   "cell_type": "markdown",
   "id": "7e093983",
   "metadata": {},
   "source": [
    "## Memo\n",
    "\n",
    "\n",
    "\n",
    "- 중복 제외 갯수 길이 set \n",
    "\n",
    "- 2차원 배열에서 lst > set 처리, idx로 말고 for lst in arr 로 한번에 처리\n",
    "\n",
    "- si,sj 고정 시점, di,dj 이동\n",
    "\n",
    "- 2차원 arr에서 lst 슬라이싱으로 처리\n",
    "\n"
   ]
  },
  {
   "cell_type": "markdown",
   "id": "966e2723",
   "metadata": {},
   "source": [
    "---"
   ]
  },
  {
   "cell_type": "code",
   "execution_count": 1,
   "id": "3f375997",
   "metadata": {},
   "outputs": [
    {
     "name": "stdout",
     "output_type": "stream",
     "text": [
      "1\n",
      "1 2 3\n",
      "1 2 3\n",
      "1 2 3\n",
      "1 2 5\n",
      "2 3 5\n",
      "1 2 5\n",
      "2 3 5\n",
      "1 2 6\n",
      "2 3 5\n"
     ]
    }
   ],
   "source": [
    "# 스도쿠 문제는 서로다른 1~9 숫자를 포함해야함\n",
    "# 주의! 1~9 의 합 45로 처리하면 안됨\n",
    "#\n",
    "\n",
    "def solve(arr):\n",
    "    \n",
    "    arr1 = arr\n",
    "    # arr2 = list(zip(*arr1)) # 리스트 내부 tuple\n",
    "    arr2 = [ list(tup) for tup in zip(*arr1)] # 리스트 내부 lst \n",
    "\n",
    "    \n",
    "    for lst in arr1:\n",
    "        if len(set(lst)) != 9:\n",
    "            return 0\n",
    "        \n",
    "    for lst in arr2:\n",
    "        if len(set(lst)) != 9:\n",
    "            return 0\n",
    "        \n",
    "    for si in (0,3,6):\n",
    "        \n",
    "        for sj in (0,3,6):\n",
    "\n",
    "            s = set()\n",
    "        \n",
    "            for di in range(3):\n",
    "                for dj in range(3):\n",
    "\n",
    "                    s.add(arr[si+di][sj+dj])\n",
    "                    \n",
    "            if len(s) != 9:\n",
    "                return 0 \n",
    "\n",
    "\n",
    "    return 1\n",
    "\n",
    "\n",
    "T = int(input())\n",
    "\n",
    "for t in range(1,T+1):\n",
    "    \n",
    "    arr1 = [ list(map(int,input().split())) for _ in range(9)]\n",
    "\n",
    "    \n",
    "    ans = solve(arr1)\n",
    "    \n",
    "    print('#{0} {1}'.format(t,ans))"
   ]
  },
  {
   "cell_type": "markdown",
   "id": "2f26fa60",
   "metadata": {},
   "source": [
    "---"
   ]
  },
  {
   "cell_type": "markdown",
   "id": "ac75d5ca",
   "metadata": {},
   "source": [
    "## si,sj 고정 di,dj 처리"
   ]
  },
  {
   "cell_type": "code",
   "execution_count": 12,
   "id": "37af8200",
   "metadata": {},
   "outputs": [],
   "source": [
    "arr = [[7, 3, 6, 4, 2, 9, 5, 8, 1],\n",
    " [5, 8, 9, 1, 6, 7, 3, 2, 4],\n",
    " [2, 1, 4, 5, 8, 3, 6, 9, 7],\n",
    " [8, 4, 7, 9, 3, 6, 1, 5, 2],\n",
    " [1, 5, 3, 8, 4, 2, 9, 7, 6],\n",
    " [9, 6, 2, 7, 5, 1, 8, 4, 3],\n",
    " [4, 2, 1, 3, 9, 8, 7, 6, 5],\n",
    " [3, 9, 5, 6, 7, 4, 2, 1, 8],\n",
    " [6, 7, 8, 2, 1, 5, 4, 3, 9]]"
   ]
  },
  {
   "cell_type": "code",
   "execution_count": 13,
   "id": "8c7fdb76",
   "metadata": {},
   "outputs": [
    {
     "data": {
      "text/plain": [
       "[[7, 3, 6, 4, 2, 9, 5, 8, 1],\n",
       " [5, 8, 9, 1, 6, 7, 3, 2, 4],\n",
       " [2, 1, 4, 5, 8, 3, 6, 9, 7],\n",
       " [8, 4, 7, 9, 3, 6, 1, 5, 2],\n",
       " [1, 5, 3, 8, 4, 2, 9, 7, 6],\n",
       " [9, 6, 2, 7, 5, 1, 8, 4, 3],\n",
       " [4, 2, 1, 3, 9, 8, 7, 6, 5],\n",
       " [3, 9, 5, 6, 7, 4, 2, 1, 8],\n",
       " [6, 7, 8, 2, 1, 5, 4, 3, 9]]"
      ]
     },
     "execution_count": 13,
     "metadata": {},
     "output_type": "execute_result"
    }
   ],
   "source": [
    "arr"
   ]
  },
  {
   "cell_type": "markdown",
   "id": "5cad351b",
   "metadata": {},
   "source": [
    "---"
   ]
  },
  {
   "cell_type": "code",
   "execution_count": 14,
   "id": "dc0edb63",
   "metadata": {},
   "outputs": [
    {
     "name": "stdout",
     "output_type": "stream",
     "text": [
      "0 0\n",
      "0 3\n",
      "0 6\n",
      "3 0\n",
      "3 3\n",
      "3 6\n",
      "6 0\n",
      "6 3\n",
      "6 6\n"
     ]
    }
   ],
   "source": [
    "# si,sj 처리 1\n",
    "for si in (0,3,6):\n",
    "    for sj in (0,3,6):\n",
    "        print(si,sj)"
   ]
  },
  {
   "cell_type": "markdown",
   "id": "7c4888d5",
   "metadata": {},
   "source": [
    "---"
   ]
  },
  {
   "cell_type": "code",
   "execution_count": 17,
   "id": "9a795a24",
   "metadata": {},
   "outputs": [
    {
     "name": "stdout",
     "output_type": "stream",
     "text": [
      "0 0\n",
      "0 3\n",
      "0 6\n",
      "3 0\n",
      "3 3\n",
      "3 6\n",
      "6 0\n",
      "6 3\n",
      "6 6\n"
     ]
    }
   ],
   "source": [
    "# si,sj 처리 2\n",
    "for si in range(0,9,3):\n",
    "    for sj in range(0,9,3):\n",
    "        print(si,sj)"
   ]
  },
  {
   "cell_type": "markdown",
   "id": "e4093572",
   "metadata": {},
   "source": [
    "---"
   ]
  },
  {
   "cell_type": "code",
   "execution_count": 19,
   "id": "24ff0752",
   "metadata": {},
   "outputs": [
    {
     "name": "stdout",
     "output_type": "stream",
     "text": [
      "7\n",
      "4\n",
      "5\n",
      "8\n",
      "9\n",
      "1\n",
      "4\n",
      "3\n",
      "7\n"
     ]
    }
   ],
   "source": [
    "# si,sj 출력\n",
    "for si in (0,3,6):\n",
    "    for sj in (0,3,6):\n",
    "        print(arr[si][sj])"
   ]
  },
  {
   "cell_type": "code",
   "execution_count": 28,
   "id": "1ed61e61",
   "metadata": {},
   "outputs": [
    {
     "name": "stdout",
     "output_type": "stream",
     "text": [
      "7\n",
      "3\n",
      "6\n",
      "5\n",
      "8\n",
      "9\n",
      "2\n",
      "1\n",
      "4\n",
      "\n",
      "4\n",
      "2\n",
      "9\n",
      "1\n",
      "6\n",
      "7\n",
      "5\n",
      "8\n",
      "3\n",
      "\n",
      "5\n",
      "8\n",
      "1\n",
      "3\n",
      "2\n",
      "4\n",
      "6\n",
      "9\n",
      "7\n",
      "\n",
      "8\n",
      "4\n",
      "7\n",
      "1\n",
      "5\n",
      "3\n",
      "9\n",
      "6\n",
      "2\n",
      "\n",
      "9\n",
      "3\n",
      "6\n",
      "8\n",
      "4\n",
      "2\n",
      "7\n",
      "5\n",
      "1\n",
      "\n",
      "1\n",
      "5\n",
      "2\n",
      "9\n",
      "7\n",
      "6\n",
      "8\n",
      "4\n",
      "3\n",
      "\n",
      "4\n",
      "2\n",
      "1\n",
      "3\n",
      "9\n",
      "5\n",
      "6\n",
      "7\n",
      "8\n",
      "\n",
      "3\n",
      "9\n",
      "8\n",
      "6\n",
      "7\n",
      "4\n",
      "2\n",
      "1\n",
      "5\n",
      "\n",
      "7\n",
      "6\n",
      "5\n",
      "2\n",
      "1\n",
      "8\n",
      "4\n",
      "3\n",
      "9\n",
      "\n"
     ]
    }
   ],
   "source": [
    "# si,sj 에서 idx 처리\n",
    "\n",
    "for si in (0,3,6):\n",
    "    for sj in (0,3,6):\n",
    "        \n",
    "        # si,sj 고정 상태에서, 아래 코드 적용, 이후 sj 이동, sj 모두 이동 후, si 처리\n",
    "        for di in range(3):\n",
    "            for dj in range(3):\n",
    "                print(arr[si+di][sj+dj])\n",
    "        \n",
    "        print()"
   ]
  },
  {
   "cell_type": "markdown",
   "id": "322c2ffb",
   "metadata": {},
   "source": [
    "---"
   ]
  },
  {
   "cell_type": "code",
   "execution_count": 29,
   "id": "7c103bbe",
   "metadata": {},
   "outputs": [
    {
     "data": {
      "text/plain": [
       "[7, 6, 5]"
      ]
     },
     "execution_count": 29,
     "metadata": {},
     "output_type": "execute_result"
    }
   ],
   "source": [
    "arr[si][sj:sj+3]"
   ]
  },
  {
   "cell_type": "markdown",
   "id": "af3445fa",
   "metadata": {},
   "source": [
    "## si,sj 고정 list 슬라이싱"
   ]
  },
  {
   "cell_type": "code",
   "execution_count": 30,
   "id": "b05032d5",
   "metadata": {},
   "outputs": [
    {
     "name": "stdout",
     "output_type": "stream",
     "text": [
      "[7, 3, 6, 7, 9, 3, 3, 8, 4]\n",
      "[4, 2, 9, 7, 9, 3, 3, 8, 4]\n",
      "[5, 8, 1, 7, 9, 3, 3, 8, 4]\n",
      "\n",
      "[8, 4, 7, 7, 9, 3, 3, 8, 4]\n",
      "[9, 3, 6, 7, 9, 3, 3, 8, 4]\n",
      "[1, 5, 2, 7, 9, 3, 3, 8, 4]\n",
      "\n",
      "[4, 2, 1, 7, 9, 3, 3, 8, 4]\n",
      "[3, 9, 8, 7, 9, 3, 3, 8, 4]\n",
      "[7, 6, 5, 7, 9, 3, 3, 8, 4]\n",
      "\n"
     ]
    }
   ],
   "source": [
    "# si,sj 에서 슬라이싱 \n",
    "\n",
    "for si in (0,3,6):\n",
    "    \n",
    "    for sj in (0,3,6):\n",
    "        \n",
    "        lst = arr[si][sj:sj+3] + arr[i+1][j:j+3] + arr[i+2][j:j+3]\n",
    "        print(lst)\n",
    "    \n",
    "    print()"
   ]
  },
  {
   "cell_type": "markdown",
   "id": "ee8659ea",
   "metadata": {},
   "source": [
    "---"
   ]
  },
  {
   "cell_type": "code",
   "execution_count": 31,
   "id": "9bf8f810",
   "metadata": {},
   "outputs": [],
   "source": [
    "def solve():\n",
    "    \n",
    "    for lst in arr:\n",
    "        if len(set(lst)) != N:\n",
    "            return 0\n",
    " \n",
    "    arr1 = list(zip(*arr))\n",
    "    \n",
    "    for lst in arr1:\n",
    "        if len(set(lst)) != N:\n",
    "            return 0\n",
    " \n",
    "    for i in range(0, 9, 3):\n",
    "        \n",
    "        for j in range(0, 9, 3):\n",
    "            lst = arr[i][j:j+3] + arr[i+1][j:j+3] + arr[i+2][j:j+3]\n",
    "            \n",
    "            if len(set(lst)) != N:\n",
    "                return 0\n",
    " \n",
    "    return 1\n",
    " "
   ]
  }
 ],
 "metadata": {
  "kernelspec": {
   "display_name": "Python 3 (ipykernel)",
   "language": "python",
   "name": "python3"
  },
  "language_info": {
   "codemirror_mode": {
    "name": "ipython",
    "version": 3
   },
   "file_extension": ".py",
   "mimetype": "text/x-python",
   "name": "python",
   "nbconvert_exporter": "python",
   "pygments_lexer": "ipython3",
   "version": "3.8.16"
  },
  "toc": {
   "base_numbering": 1,
   "nav_menu": {},
   "number_sections": true,
   "sideBar": true,
   "skip_h1_title": false,
   "title_cell": "Table of Contents",
   "title_sidebar": "Contents",
   "toc_cell": false,
   "toc_position": {
    "height": "calc(100% - 180px)",
    "left": "10px",
    "top": "150px",
    "width": "358.390625px"
   },
   "toc_section_display": true,
   "toc_window_display": true
  },
  "varInspector": {
   "cols": {
    "lenName": 16,
    "lenType": 16,
    "lenVar": 40
   },
   "kernels_config": {
    "python": {
     "delete_cmd_postfix": "",
     "delete_cmd_prefix": "del ",
     "library": "var_list.py",
     "varRefreshCmd": "print(var_dic_list())"
    },
    "r": {
     "delete_cmd_postfix": ") ",
     "delete_cmd_prefix": "rm(",
     "library": "var_list.r",
     "varRefreshCmd": "cat(var_dic_list()) "
    }
   },
   "types_to_exclude": [
    "module",
    "function",
    "builtin_function_or_method",
    "instance",
    "_Feature"
   ],
   "window_display": false
  }
 },
 "nbformat": 4,
 "nbformat_minor": 5
}
