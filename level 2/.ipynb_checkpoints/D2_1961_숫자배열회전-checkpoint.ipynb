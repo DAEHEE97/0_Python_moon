{
 "cells": [
  {
   "cell_type": "markdown",
   "id": "b9065899",
   "metadata": {},
   "source": [
    "# 1961. 숫자 배열 회전\n",
    "\n",
    "- [숫자배열회전](https://swexpertacademy.com/main/code/problem/problemDetail.do?contestProbId=AV5Pq-OKAVYDFAUq)"
   ]
  },
  {
   "cell_type": "markdown",
   "id": "af380f35",
   "metadata": {},
   "source": [
    "N x N 행렬이 주어질 때,\n",
    "\n",
    "시계 방향으로 90도, 180도, 270도 회전한 모양을 출력하라.\n",
    "\n",
    "\n",
    "## [제약 사항]\n",
    "\n",
    "N은 3 이상 7 이하이다.\n",
    "\n",
    "## [입력]\n",
    "\n",
    "가장 첫 줄에는 테스트 케이스의 개수 T가 주어지고, 그 아래로 각 테스트 케이스가 주어진다.\n",
    "\n",
    "각 테스트 케이스의 첫 번째 줄에 N이 주어지고,\n",
    "\n",
    "다음 N 줄에는 N x N 행렬이 주어진다.\n",
    "\n",
    "## [출력]\n",
    "\n",
    "출력의 첫 줄은 '#t'로 시작하고,\n",
    "\n",
    "다음 N줄에 걸쳐서 90도, 180도, 270도 회전한 모양을 출력한다.\n",
    "\n",
    "입력과는 달리 출력에서는 회전한 모양 사이에만 공백이 존재함에 유의하라.\n",
    "\n",
    "(t는 테스트 케이스의 번호를 의미하며 1부터 시작한다.)"
   ]
  },
  {
   "cell_type": "markdown",
   "id": "c51b38f1",
   "metadata": {},
   "source": [
    "---"
   ]
  },
  {
   "cell_type": "markdown",
   "id": "327ae63e",
   "metadata": {},
   "source": [
    "```\n",
    "00 01 02    20 10 00\n",
    "10 11 12    21 11 01\n",
    "20 21 22    22 12 02\n",
    "\n",
    "```\n",
    "\n",
    "---\n",
    "\n",
    "\n",
    "값 처리 가 아니라, idx로 처리해야 함\n",
    "\n",
    "```\n",
    "0 1 2  6 3 0\n",
    "3 4 5  7 4 1\n",
    "6 7 8  8 5 2\n",
    "\n",
    "```"
   ]
  },
  {
   "cell_type": "code",
   "execution_count": 3,
   "id": "27ab11d1",
   "metadata": {},
   "outputs": [
    {
     "name": "stdout",
     "output_type": "stream",
     "text": [
      "00 01 02 \n",
      "10 11 12 \n",
      "20 21 22 \n"
     ]
    }
   ],
   "source": [
    "for i in range(3):\n",
    "    for j in range(3):\n",
    "        print('{0}{1}'.format(i,j), end = ' ')\n",
    "    \n",
    "    print()"
   ]
  },
  {
   "cell_type": "markdown",
   "id": "0e6acbd4",
   "metadata": {},
   "source": [
    "---"
   ]
  },
  {
   "cell_type": "code",
   "execution_count": 5,
   "id": "f20505dc",
   "metadata": {},
   "outputs": [
    {
     "name": "stdout",
     "output_type": "stream",
     "text": [
      "00 10 20 \n",
      "01 11 21 \n",
      "02 12 22 \n"
     ]
    }
   ],
   "source": [
    "for j in range(3):\n",
    "    for i in range(3):\n",
    "        print('{0}{1}'.format(i,j), end = ' ')\n",
    "    \n",
    "    print()"
   ]
  },
  {
   "cell_type": "code",
   "execution_count": 4,
   "id": "7bb76910",
   "metadata": {},
   "outputs": [
    {
     "name": "stdout",
     "output_type": "stream",
     "text": [
      "00 10 20 \n",
      "01 11 21 \n",
      "02 12 22 \n"
     ]
    }
   ],
   "source": [
    "for i in range(3):\n",
    "    for j in range(3):\n",
    "        print('{0}{1}'.format(j,i), end = ' ')\n",
    "    \n",
    "    print()"
   ]
  },
  {
   "cell_type": "markdown",
   "id": "2fc5d905",
   "metadata": {},
   "source": [
    "---"
   ]
  },
  {
   "cell_type": "code",
   "execution_count": null,
   "id": "32aa83f7",
   "metadata": {},
   "outputs": [],
   "source": [
    "# 90 회전\n",
    "def rotate(arr):\n",
    "    \n",
    "    arrR = [ [0] * N for _ in range(N) ]\n",
    "    \n",
    "    for i in range(N):\n",
    "       \n",
    "        for j in range(N):\n",
    "            \n",
    "            arrR[i][j] = arr[N-1-j][i]\n",
    "    \n",
    "    return arrR\n",
    " \n",
    "T = int(input())\n",
    "\n",
    "for test_case in range(1, T + 1):\n",
    "    \n",
    "    N = int(input())\n",
    "    \n",
    "    arr = [list(map(int, input().split())) for _ in range(N)]\n",
    " \n",
    "    arr1 = rotate(arr)\n",
    "    arr2 = rotate(arr1)\n",
    "    arr3 = rotate(arr2)\n",
    " \n",
    "    print(f'#{test_case}')\n",
    "    \n",
    "    for a,b,c in zip(arr1, arr2, arr3):\n",
    "        \n",
    "        print(f'{\"\".join(map(str,a))} {\"\".join(map(str,b))} {\"\".join(map(str,c))}')"
   ]
  }
 ],
 "metadata": {
  "kernelspec": {
   "display_name": "Python 3 (ipykernel)",
   "language": "python",
   "name": "python3"
  },
  "language_info": {
   "codemirror_mode": {
    "name": "ipython",
    "version": 3
   },
   "file_extension": ".py",
   "mimetype": "text/x-python",
   "name": "python",
   "nbconvert_exporter": "python",
   "pygments_lexer": "ipython3",
   "version": "3.8.16"
  },
  "toc": {
   "base_numbering": 1,
   "nav_menu": {},
   "number_sections": true,
   "sideBar": true,
   "skip_h1_title": false,
   "title_cell": "Table of Contents",
   "title_sidebar": "Contents",
   "toc_cell": false,
   "toc_position": {},
   "toc_section_display": true,
   "toc_window_display": false
  },
  "varInspector": {
   "cols": {
    "lenName": 16,
    "lenType": 16,
    "lenVar": 40
   },
   "kernels_config": {
    "python": {
     "delete_cmd_postfix": "",
     "delete_cmd_prefix": "del ",
     "library": "var_list.py",
     "varRefreshCmd": "print(var_dic_list())"
    },
    "r": {
     "delete_cmd_postfix": ") ",
     "delete_cmd_prefix": "rm(",
     "library": "var_list.r",
     "varRefreshCmd": "cat(var_dic_list()) "
    }
   },
   "types_to_exclude": [
    "module",
    "function",
    "builtin_function_or_method",
    "instance",
    "_Feature"
   ],
   "window_display": false
  }
 },
 "nbformat": 4,
 "nbformat_minor": 5
}
