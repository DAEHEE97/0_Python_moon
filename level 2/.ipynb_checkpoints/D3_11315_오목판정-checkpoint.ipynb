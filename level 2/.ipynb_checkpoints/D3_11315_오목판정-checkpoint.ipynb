{
 "cells": [
  {
   "cell_type": "markdown",
   "id": "41241c41",
   "metadata": {},
   "source": [
    "# 11315. 오목 판정\n",
    "\n",
    "- [오목 판정](https://swexpertacademy.com/main/code/problem/problemDetail.do?contestProbId=AXaSUPYqPYMDFASQ)"
   ]
  },
  {
   "cell_type": "markdown",
   "id": "87fdfa61",
   "metadata": {},
   "source": [
    "---"
   ]
  },
  {
   "cell_type": "markdown",
   "id": "be8a6818",
   "metadata": {},
   "source": [
    "N X N 크기의 판이 있다. \n",
    "\n",
    "판의 각 칸에는 돌이 있거나 없을 수 있다. \n",
    "\n",
    "돌이 가로, 세로, 대각선 중 하나의 방향으로 다섯 개 이상 연속한 부분이 있는지 없는지 판정하는 프로그램을 작성하라.\n",
    "  \n",
    "## [입력]\n",
    "\n",
    "첫 번째 줄에 테스트 케이스의 수 T가 주어진다.\n",
    "\n",
    "각 테스트 케이스의 첫 번째 줄에는 하나의 정수 N(5 ≤ N ≤ 20)이 주어진다.\n",
    "\n",
    "다음 N개의 줄의 각 줄에는 길이 N인 문자열이 주어진다. 각 문자는 ‘o’또는 ‘.’으로, ‘o’는 돌이 있는 칸을 의미하고, ‘.’는 돌이 없는 칸을 의미한다.\n",
    "  \n",
    "## [출력]\n",
    "\n",
    "각 테스트 케이스 마다 돌이 다섯 개 이상 연속한 부분이 있으면 “YES”를, 아니면 “NO”를 출력한다."
   ]
  },
  {
   "cell_type": "markdown",
   "id": "eeb15cd5",
   "metadata": {},
   "source": [
    "---"
   ]
  },
  {
   "cell_type": "markdown",
   "id": "a1001c0e",
   "metadata": {},
   "source": [
    "## Memo\n",
    "\n",
    "- 가로, 세로, 대각선1, 대각선2\n",
    "\n",
    "- 연속해서 카운트해서 cnt 개수 충족시 처리해야 하므로, si, sj, di, dj 정의 후 처리\n",
    "    - 단순 if else cnt+=1 도 가능하긴 함\n",
    "\n",
    "- 주의! 5*5 고정이 아니므로, 대각선 구조 다양함.\n"
   ]
  },
  {
   "cell_type": "markdown",
   "id": "f3859e65",
   "metadata": {},
   "source": [
    "---"
   ]
  },
  {
   "cell_type": "code",
   "execution_count": 1,
   "id": "c5d5514b",
   "metadata": {},
   "outputs": [
    {
     "name": "stdout",
     "output_type": "stream",
     "text": [
      "1\n",
      "5\n",
      "....o\n",
      "...o.\n",
      "..o..\n",
      ".o...\n",
      "o....\n",
      "#1 YES\n"
     ]
    }
   ],
   "source": [
    "def solve(arr,N):\n",
    "    \n",
    "    arr1 = arr\n",
    "    # transpose\n",
    "    arr2 = [ list(tup) for tup in zip(*arr1) ]\n",
    "\n",
    "    # 가로\n",
    "    for si in range(0, N):\n",
    "        for sj in range(0, N-5 +1):\n",
    "            \n",
    "            # 시작지점으로 부터 5칸\n",
    "            cnt = 0\n",
    "            for dj in range(5):\n",
    "                \n",
    "                if arr1[si][sj+dj] == 'o':\n",
    "                    cnt +=1\n",
    "                    \n",
    "                    if cnt == 5:\n",
    "                        return 'YES'\n",
    "\n",
    "                else:\n",
    "                    cnt = 0\n",
    "    \n",
    "            \n",
    "        \n",
    "    # 세로\n",
    "    for si in range(0, N):\n",
    "        for sj in range(0, N-5 +1):\n",
    "            \n",
    "            # 시작지점으로 부터 5칸\n",
    "            cnt = 0\n",
    "            for dj in range(5):\n",
    "                \n",
    "                if arr2[si][sj+dj] == 'o':\n",
    "                    cnt +=1\n",
    "                    if cnt == 5:\n",
    "                        return 'YES'\n",
    "\n",
    "                else:\n",
    "                    cnt = 0\n",
    "                    \n",
    "                    \n",
    "            \n",
    "    \n",
    "    # 대각선 1\n",
    "    \n",
    "    for si in range(0, N-5 +1):\n",
    "        \n",
    "        for sj in range(0, N-5 +1):\n",
    "            \n",
    "            # 시작지점에서 연속으로 5개의 점이, o여야 함\n",
    "            # +di, +dj 가 같은 값이므로, 하나로 i 처리 가능\n",
    "            \n",
    "            cnt = 0 \n",
    "            for di in range(0, 5):\n",
    "                dj = di\n",
    "                if arr1[si+di][sj+dj] == 'o':\n",
    "                    cnt +=1\n",
    "                    if cnt == 5:\n",
    "                        return 'YES'\n",
    "                else:\n",
    "                    cnt = 0\n",
    "                    \n",
    "    # 대각선 2\n",
    "    \n",
    "    for si in range(0, N-5 +1):\n",
    "        \n",
    "        for sj in range(5-1, N):\n",
    "            \n",
    "            #대각선 0,5 1,4 \n",
    "    \n",
    "            cnt = 0 \n",
    "            for m in range(0, 5):\n",
    "                \n",
    "                di,dj = (1*m,-1*m)\n",
    "                \n",
    "                if arr1[si+di][sj+dj] == 'o':\n",
    "                    cnt +=1\n",
    "                    if cnt == 5:\n",
    "                        return 'YES'\n",
    "                else:\n",
    "                    cnt = 0\n",
    "            \n",
    "            \n",
    "    \n",
    "    \n",
    "    return 'NO'        \n",
    "\n",
    "\n",
    "\n",
    "T = int(input())\n",
    "\n",
    "for t in range(1, T+1):\n",
    "    \n",
    "    N = int(input()) # N*N\n",
    "    \n",
    "    arr = [ list(input()) for _ in range(N)]\n",
    "    \n",
    "    ans = solve(arr,N)\n",
    "    \n",
    "    print('#{0} {1}'.format(t,ans))"
   ]
  },
  {
   "cell_type": "code",
   "execution_count": 2,
   "id": "dc89ac8e",
   "metadata": {},
   "outputs": [
    {
     "data": {
      "text/plain": [
       "[['.', '.', '.', '.', 'o'],\n",
       " ['.', '.', '.', 'o', '.'],\n",
       " ['.', '.', 'o', '.', '.'],\n",
       " ['.', 'o', '.', '.', '.'],\n",
       " ['o', '.', '.', '.', '.']]"
      ]
     },
     "execution_count": 2,
     "metadata": {},
     "output_type": "execute_result"
    }
   ],
   "source": [
    "arr"
   ]
  },
  {
   "cell_type": "markdown",
   "id": "0b245452",
   "metadata": {},
   "source": [
    "---"
   ]
  },
  {
   "cell_type": "code",
   "execution_count": 3,
   "id": "6de71165",
   "metadata": {},
   "outputs": [
    {
     "data": {
      "text/plain": [
       "[['o', 'o', 'o', '.', 'o', '.'],\n",
       " ['.', '.', 'o', '.', 'o', '.'],\n",
       " ['.', '.', '.', 'o', 'o', '.'],\n",
       " ['.', '.', '.', '.', 'o', '.'],\n",
       " ['.', '.', '.', '.', 'o', 'o'],\n",
       " ['.', '.', '.', '.', 'o', '.']]"
      ]
     },
     "execution_count": 3,
     "metadata": {},
     "output_type": "execute_result"
    }
   ],
   "source": [
    "# 6 * 6 구조, 대각선 이 주 대각선 뿐 만아니라, si,sj 가 이동시 다른 데서 나타날 수 있음\n",
    "\n",
    "arr = [\n",
    " ['o', 'o', 'o', '.', 'o', '.'],\n",
    " ['.', '.', 'o', '.', 'o', '.'],\n",
    " ['.', '.', '.', 'o', 'o', '.'],\n",
    " ['.', '.', '.', '.', 'o', '.'],\n",
    " ['.', '.', '.', '.', 'o', 'o'],\n",
    " ['.', '.', '.', '.', 'o', '.']\n",
    "\n",
    "]\n",
    "arr"
   ]
  },
  {
   "cell_type": "markdown",
   "id": "fc0d657f",
   "metadata": {},
   "source": [
    "---"
   ]
  },
  {
   "cell_type": "code",
   "execution_count": null,
   "id": "5cc863c1",
   "metadata": {},
   "outputs": [],
   "source": [
    "\n",
    "# 대각선 1,-1\n",
    "\n",
    "    for si in range(0, N-5 +1):\n",
    "        \n",
    "        for sj in range(5-1, N):\n",
    "            \n",
    "            cnt = 0 \n",
    "            for di in range(0, 5):\n",
    "                dj = -dj  #-0 -1 -2 - 3 -4                \n",
    "                \n",
    "                if arr1[si+di][sj+dj] == 'o':\n",
    "                    cnt +=1\n",
    "                    if cnt == 5:\n",
    "                        return 'YES'\n",
    "                else:\n",
    "                    cnt = 0\n",
    "            \n",
    "            \n",
    "    \n",
    "    "
   ]
  },
  {
   "cell_type": "markdown",
   "id": "758d6db4",
   "metadata": {},
   "source": [
    "---"
   ]
  },
  {
   "cell_type": "code",
   "execution_count": null,
   "id": "827b8d82",
   "metadata": {},
   "outputs": [],
   "source": [
    "# 단순 카운트, 가로 세로\n",
    "\n",
    "def solve(arr):\n",
    "    \n",
    "\n",
    "    for i in range(N):\n",
    "        \n",
    "        count = 0\n",
    "\n",
    "        for j in range(N):\n",
    "            if arr[i][j] == 'o':\n",
    "                count += 1\n",
    "                if count >= 5:\n",
    "                    return True\n",
    "            else:\n",
    "                count = 0\n",
    "\n",
    "    "
   ]
  },
  {
   "cell_type": "markdown",
   "id": "1eed163a",
   "metadata": {},
   "source": [
    "---"
   ]
  },
  {
   "cell_type": "code",
   "execution_count": null,
   "id": "c18e5d22",
   "metadata": {},
   "outputs": [],
   "source": [
    "# 전체 순회\n",
    "\n",
    "def solve():\n",
    "    \n",
    "    # 모든 좌표 순회\n",
    "    for si in range(N):\n",
    "        \n",
    "        for sj in range(N): \n",
    "            \n",
    "            for di,dj in ((0,1),(1,0),(1,1),(-1,1)):\n",
    "                \n",
    "                for mul in range(5):\n",
    "                    ni,nj = si+di*mul, sj+dj*mul\n",
    "                    \n",
    "                    if 0<=ni<N and 0<=nj<N and arr[ni][nj]=='o':\n",
    "                        pass\n",
    "                    else:\n",
    "                        break\n",
    "                \n",
    "                else:\n",
    "                    return 'YES'\n",
    "    \n",
    "    return 'NO'\n",
    " \n",
    "    \n",
    "    \n",
    "T = int(input())\n",
    "\n",
    "for test_case in range(1, T + 1):\n",
    "    \n",
    "    N = int(input())\n",
    "    \n",
    "    arr = [input() for _ in range(N)]\n",
    " \n",
    "    ans = solve()\n",
    " \n",
    "    print(f'#{test_case} {ans}')\n"
   ]
  }
 ],
 "metadata": {
  "kernelspec": {
   "display_name": "Python 3 (ipykernel)",
   "language": "python",
   "name": "python3"
  },
  "language_info": {
   "codemirror_mode": {
    "name": "ipython",
    "version": 3
   },
   "file_extension": ".py",
   "mimetype": "text/x-python",
   "name": "python",
   "nbconvert_exporter": "python",
   "pygments_lexer": "ipython3",
   "version": "3.8.16"
  },
  "toc": {
   "base_numbering": 1,
   "nav_menu": {},
   "number_sections": true,
   "sideBar": true,
   "skip_h1_title": false,
   "title_cell": "Table of Contents",
   "title_sidebar": "Contents",
   "toc_cell": false,
   "toc_position": {
    "height": "calc(100% - 180px)",
    "left": "10px",
    "top": "150px",
    "width": "316.390625px"
   },
   "toc_section_display": true,
   "toc_window_display": true
  },
  "varInspector": {
   "cols": {
    "lenName": 16,
    "lenType": 16,
    "lenVar": 40
   },
   "kernels_config": {
    "python": {
     "delete_cmd_postfix": "",
     "delete_cmd_prefix": "del ",
     "library": "var_list.py",
     "varRefreshCmd": "print(var_dic_list())"
    },
    "r": {
     "delete_cmd_postfix": ") ",
     "delete_cmd_prefix": "rm(",
     "library": "var_list.r",
     "varRefreshCmd": "cat(var_dic_list()) "
    }
   },
   "types_to_exclude": [
    "module",
    "function",
    "builtin_function_or_method",
    "instance",
    "_Feature"
   ],
   "window_display": false
  }
 },
 "nbformat": 4,
 "nbformat_minor": 5
}
