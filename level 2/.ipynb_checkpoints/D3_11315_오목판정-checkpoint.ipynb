{
 "cells": [
  {
   "cell_type": "markdown",
   "id": "41241c41",
   "metadata": {},
   "source": [
    "# 11315. 오목 판정\n",
    "\n",
    "- [오목 판정](https://swexpertacademy.com/main/code/problem/problemDetail.do?contestProbId=AXaSUPYqPYMDFASQ)"
   ]
  },
  {
   "cell_type": "markdown",
   "id": "87fdfa61",
   "metadata": {},
   "source": [
    "---"
   ]
  },
  {
   "cell_type": "markdown",
   "id": "be8a6818",
   "metadata": {},
   "source": [
    "N X N 크기의 판이 있다. \n",
    "\n",
    "판의 각 칸에는 돌이 있거나 없을 수 있다. \n",
    "\n",
    "돌이 가로, 세로, 대각선 중 하나의 방향으로 다섯 개 이상 연속한 부분이 있는지 없는지 판정하는 프로그램을 작성하라.\n",
    "  \n",
    "## [입력]\n",
    "\n",
    "첫 번째 줄에 테스트 케이스의 수 T가 주어진다.\n",
    "\n",
    "각 테스트 케이스의 첫 번째 줄에는 하나의 정수 N(5 ≤ N ≤ 20)이 주어진다.\n",
    "\n",
    "다음 N개의 줄의 각 줄에는 길이 N인 문자열이 주어진다. 각 문자는 ‘o’또는 ‘.’으로, ‘o’는 돌이 있는 칸을 의미하고, ‘.’는 돌이 없는 칸을 의미한다.\n",
    "  \n",
    "## [출력]\n",
    "\n",
    "각 테스트 케이스 마다 돌이 다섯 개 이상 연속한 부분이 있으면 “YES”를, 아니면 “NO”를 출력한다."
   ]
  },
  {
   "cell_type": "markdown",
   "id": "eeb15cd5",
   "metadata": {},
   "source": [
    "---"
   ]
  },
  {
   "cell_type": "markdown",
   "id": "a1001c0e",
   "metadata": {},
   "source": [
    "## Memo\n",
    "\n",
    "- 가로, 세로, 대각선1, 대각선2\n",
    "\n",
    "- 리스트내 문자 검사후 처리\n",
    "\n",
    "- 각 테스트 케이스 마다 돌이 고정 5 개 이상 연속한 부분이 하나라도 있으면 YES, 없으면 NO\n",
    "\n",
    "- 함수내 있으면 arr 검사해서  return Yes, 나머지 마지막에 return No\n",
    "\n",
    "- 주의! 단순 카운트하면 안되고, 연속해서 5개가 나와야 함\n"
   ]
  },
  {
   "cell_type": "markdown",
   "id": "f3859e65",
   "metadata": {},
   "source": [
    "---"
   ]
  },
  {
   "cell_type": "markdown",
   "id": "8deaa9e7",
   "metadata": {},
   "source": []
  },
  {
   "cell_type": "code",
   "execution_count": null,
   "id": "5e77e42b",
   "metadata": {},
   "outputs": [],
   "source": []
  },
  {
   "cell_type": "code",
   "execution_count": 12,
   "id": "96dfa022",
   "metadata": {},
   "outputs": [],
   "source": [
    "# 연속해서 5개 이상 뜨면 끝 이때는, set 처리가 아니라\n",
    "# 카운트 개수로 처리해야 할듯\n",
    "\n",
    "\n",
    "def solve(arr):\n",
    "    \n",
    "    arr1 = arr.copy()\n",
    "    \n",
    "    arr2 = [ list(tup) for tup in zip(*arr1) ]\n",
    "    \n",
    "    # 2번처리 후\n",
    "    \n",
    "\n",
    "    for lst in arr1:\n",
    "        cnt = 0\n",
    "\n",
    "        for i in lst:\n",
    "            if i == 'o':\n",
    "                cnt += 1\n",
    "                if cnt == 5:\n",
    "                    return 'YES'\n",
    "            else:\n",
    "                cnt = 0\n",
    "        \n",
    "\n",
    "    \n",
    "    for lst in arr2:\n",
    "        \n",
    "        cnt = 0\n",
    "        \n",
    "        for i in lst:\n",
    "            if i == 'o':\n",
    "                cnt += 1\n",
    "                if cnt == 5:\n",
    "                    return 'YES'\n",
    "            else:\n",
    "                cnt = 0\n",
    "        \n",
    "\n",
    "        \n",
    "        \n",
    "    # 대각선 처리 1 - i,i 처리\n",
    "    \n",
    "    # 대각선 처리 2 - i,N 로 처리 0 4, 1 3, 2 2, 3 1, 4 0\n",
    "    \n",
    "\n",
    "    for i in range(N):\n",
    "        cnt_d1 = 0\n",
    "\n",
    "        if arr1[i][i] == 'o':\n",
    "            cnt_d1 += 1\n",
    "            if cnt_d1 == 5:\n",
    "                return 'YES'\n",
    "            \n",
    "        else:\n",
    "            cnt_d1 = 0\n",
    "\n",
    "\n",
    "    \n",
    "    for i in range(N):\n",
    "        cnt_d2 = 0\n",
    "\n",
    "        if arr1[i][N-1 -i] == 'o':\n",
    "            cnt_d2+=1\n",
    "            if cnt_d2 == 5:\n",
    "                return 'YES'\n",
    "        else:\n",
    "            cnt_d2 = 0\n",
    "\n",
    "\n",
    "    \n",
    "    \n",
    "    return 'NO'\n"
   ]
  },
  {
   "cell_type": "code",
   "execution_count": 1,
   "id": "77ddca8f",
   "metadata": {},
   "outputs": [
    {
     "name": "stdout",
     "output_type": "stream",
     "text": [
      "1\n",
      "5\n",
      "....o\n",
      "...o.\n",
      "..o..\n",
      ".o...\n",
      "o....\n"
     ]
    }
   ],
   "source": [
    "T = int(input())\n",
    "\n",
    "for t in range(1, T+1):\n",
    "    \n",
    "    N = int(input()) # N*N\n",
    "    \n",
    "    arr = [ list(input()) for _ in range(N)]\n",
    "    \n",
    "    ans = solve(arr)\n",
    "    \n",
    "    print('#{0} {1}'.format(t,ans))"
   ]
  },
  {
   "cell_type": "markdown",
   "id": "758d6db4",
   "metadata": {},
   "source": [
    "---"
   ]
  },
  {
   "cell_type": "code",
   "execution_count": 35,
   "id": "73541425",
   "metadata": {},
   "outputs": [
    {
     "data": {
      "text/plain": [
       "[['o', '.', '.', '.', '.'],\n",
       " ['.', 'o', '.', 'o', '.'],\n",
       " ['.', '.', 'o', '.', '.'],\n",
       " ['.', 'o', '.', '.', '.'],\n",
       " ['o', '.', 'o', '.', 'o']]"
      ]
     },
     "execution_count": 35,
     "metadata": {},
     "output_type": "execute_result"
    }
   ],
   "source": [
    "arr"
   ]
  },
  {
   "cell_type": "code",
   "execution_count": 36,
   "id": "e89e8423",
   "metadata": {},
   "outputs": [],
   "source": [
    "ans = solve(arr)\n"
   ]
  },
  {
   "cell_type": "code",
   "execution_count": 37,
   "id": "5e598c7e",
   "metadata": {},
   "outputs": [
    {
     "name": "stdout",
     "output_type": "stream",
     "text": [
      "NO\n"
     ]
    }
   ],
   "source": [
    "print(ans)"
   ]
  },
  {
   "cell_type": "code",
   "execution_count": 34,
   "id": "f7df9d55",
   "metadata": {},
   "outputs": [],
   "source": [
    "arr = [['o', '.', '.', '.', '.'],\n",
    " ['.', 'o', '.', 'o', '.'],\n",
    " ['.', '.', 'o', '.', '.'],\n",
    " ['.', 'o', '.', '.', '.'],\n",
    " ['o', '.', 'o', '.', 'o']]"
   ]
  },
  {
   "cell_type": "markdown",
   "id": "27275cbd",
   "metadata": {},
   "source": [
    "---"
   ]
  },
  {
   "cell_type": "code",
   "execution_count": 21,
   "id": "62423038",
   "metadata": {},
   "outputs": [
    {
     "data": {
      "text/plain": [
       "[['.', '.', '.', '.', 'o'],\n",
       " ['.', '.', '.', 'o', 'o'],\n",
       " ['.', '.', 'o', '.', 'o'],\n",
       " ['.', 'o', '.', '.', 'o'],\n",
       " ['.', '.', '.', '.', 'o']]"
      ]
     },
     "execution_count": 21,
     "metadata": {},
     "output_type": "execute_result"
    }
   ],
   "source": [
    "arr2 = [ list(tup) for tup in zip(*arr) ]\n",
    "arr2"
   ]
  },
  {
   "cell_type": "code",
   "execution_count": 11,
   "id": "4068a405",
   "metadata": {},
   "outputs": [],
   "source": [
    "# 대각선 처리\n",
    "\n",
    "cnt_d1 = 0\n",
    "cnt_d2 = 0\n",
    "\n",
    "for i in range(N):\n",
    "    \n",
    "    if arr[i][i] == 'o':\n",
    "        cnt_d1+=1\n",
    "    if cnt_d1 >= 5:\n",
    "        print('Yes')\n",
    "    \n",
    "    \n",
    "    if arr[i][N-1-i] == 'o':\n",
    "        cnt_d2+=1\n",
    "    if cnt_d2 >= 5:\n",
    "        print('Yes')\n",
    "        \n",
    "        \n",
    "        \n",
    "        \n",
    "        \n",
    "        "
   ]
  },
  {
   "cell_type": "markdown",
   "id": "a2556763",
   "metadata": {},
   "source": [
    "---"
   ]
  },
  {
   "cell_type": "code",
   "execution_count": null,
   "id": "c18e5d22",
   "metadata": {},
   "outputs": [],
   "source": [
    "# 11315. 오목 판정 (D3)\n",
    "\n",
    "```python\n",
    "def solve():\n",
    "    for si in range(N):\n",
    "        for sj in range(N): # 모든 좌표 순회\n",
    "            for di,dj in ((0,1),(1,0),(1,1),(-1,1)):\n",
    "                for mul in range(5):\n",
    "                    ni,nj = si+di*mul, sj+dj*mul\n",
    "                    if 0<=ni<N and 0<=nj<N and arr[ni][nj]=='o':\n",
    "                        pass\n",
    "                    else:\n",
    "                        break\n",
    "                else:\n",
    "                    return 'YES'\n",
    "    return 'NO'\n",
    " \n",
    "T = int(input())\n",
    "for test_case in range(1, T + 1):\n",
    "    N = int(input())\n",
    "    arr = [input() for _ in range(N)]\n",
    " \n",
    "    ans = solve()\n",
    " \n",
    "    print(f'#{test_case} {ans}')\n",
    "```"
   ]
  }
 ],
 "metadata": {
  "kernelspec": {
   "display_name": "Python 3 (ipykernel)",
   "language": "python",
   "name": "python3"
  },
  "language_info": {
   "codemirror_mode": {
    "name": "ipython",
    "version": 3
   },
   "file_extension": ".py",
   "mimetype": "text/x-python",
   "name": "python",
   "nbconvert_exporter": "python",
   "pygments_lexer": "ipython3",
   "version": "3.8.16"
  },
  "toc": {
   "base_numbering": 1,
   "nav_menu": {},
   "number_sections": true,
   "sideBar": true,
   "skip_h1_title": false,
   "title_cell": "Table of Contents",
   "title_sidebar": "Contents",
   "toc_cell": false,
   "toc_position": {},
   "toc_section_display": true,
   "toc_window_display": false
  },
  "varInspector": {
   "cols": {
    "lenName": 16,
    "lenType": 16,
    "lenVar": 40
   },
   "kernels_config": {
    "python": {
     "delete_cmd_postfix": "",
     "delete_cmd_prefix": "del ",
     "library": "var_list.py",
     "varRefreshCmd": "print(var_dic_list())"
    },
    "r": {
     "delete_cmd_postfix": ") ",
     "delete_cmd_prefix": "rm(",
     "library": "var_list.r",
     "varRefreshCmd": "cat(var_dic_list()) "
    }
   },
   "types_to_exclude": [
    "module",
    "function",
    "builtin_function_or_method",
    "instance",
    "_Feature"
   ],
   "window_display": false
  }
 },
 "nbformat": 4,
 "nbformat_minor": 5
}
