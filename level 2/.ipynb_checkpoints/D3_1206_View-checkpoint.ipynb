{
 "cells": [
  {
   "cell_type": "markdown",
   "id": "be87b4b5",
   "metadata": {},
   "source": [
    "# 1206. [S/W 문제해결 기본] 1일차 - View\n",
    "\n",
    "-[1206](https://swexpertacademy.com/main/searchAll/search.do?keyword=1206)"
   ]
  },
  {
   "cell_type": "markdown",
   "id": "2103d26c",
   "metadata": {},
   "source": [
    "---"
   ]
  },
  {
   "cell_type": "markdown",
   "id": "3a881ae3",
   "metadata": {},
   "source": [
    "\n",
    "강변에 빌딩들이 옆으로 빽빽하게 밀집한 지역이 있다.\n",
    "\n",
    "이곳에서는 빌딩들이 너무 좌우로 밀집하여, 강에 대한 조망은 모든 세대에서 좋지만 왼쪽 또는 오른쪽 창문을 열었을 때 바로 앞에 옆 건물이 보이는 경우가 허다하였다.\n",
    "\n",
    "그래서 이 지역에서는 왼쪽과 오른쪽으로 창문을 열었을 때, 양쪽 모두 거리 2 이상의 공간이 확보될 때 조망권이 확보된다고 말한다.\n",
    "\n",
    "빌딩들에 대한 정보가 주어질 때, 조망권이 확보된 세대의 수를 반환하는 프로그램을 작성하시오.\n",
    " \n",
    "아래와 같이 강변에 8채의 빌딩이 있을 때, 연두색으로 색칠된 여섯 세대에서는 좌우로 2칸 이상의 공백이 존재하므로 조망권이 확보된다. 따라서 답은 6이 된다.\n",
    "\n",
    "\n",
    "\n",
    "A와 B로 표시된 세대의 경우는 왼쪽 조망은 2칸 이상 확보가 되었지만 오른쪽 조망은 한 칸 밖에 확보가 되지 않으므로 조망권을 확보하지 못하였다.\n",
    "\n",
    "C의 경우는 반대로 오른쪽 조망은 2칸이 확보가 되었지만 왼쪽 조망이 한 칸 밖에 확보되지 않았다.\n",
    " \n",
    "## [제약 사항]\n",
    "\n",
    "가로 길이는 항상 1000이하로 주어진다.\n",
    "\n",
    "맨 왼쪽 두 칸과 맨 오른쪽 두 칸에는 건물이 지어지지 않는다. (예시에서 빨간색 땅 부분)\n",
    "\n",
    "각 빌딩의 높이는 최대 255이다.\n",
    " \n",
    "## [입력]\n",
    "\n",
    "총 10개의 테스트케이스가 주어진다.\n",
    "\n",
    "각 테스트케이스의 첫 번째 줄에는 건물의 개수 N이 주어진다. (4 ≤ N ≤ 1000)\n",
    "\n",
    "그 다음 줄에는 N개의 건물의 높이가 주어진다. (0 ≤ 각 건물의 높이 ≤ 255)\n",
    "\n",
    "맨 왼쪽 두 칸과 맨 오른쪽 두 칸에 있는 건물은 항상 높이가 0이다. (예시에서 빨간색 땅 부분)\n",
    " \n",
    "## [출력]\n",
    "\n",
    "#부호와 함께 테스트케이스의 번호를 출력하고, 공백 문자 후 조망권이 확보된 세대의 수를 출력한다.\n",
    "\n"
   ]
  },
  {
   "cell_type": "markdown",
   "id": "9783851d",
   "metadata": {},
   "source": [
    "---"
   ]
  },
  {
   "cell_type": "markdown",
   "id": "4843508d",
   "metadata": {},
   "source": [
    "## Memo\n",
    "\n",
    "1. 현재 높이에서 4 idx 모두 비교, cnt\n",
    "\n",
    "2. 현재 높이가 4 idx 중 max 라면, cnt\n",
    "\n",
    "\n",
    "---\n",
    "\n",
    "- N = 14, 14개, range(14) range(0,14), 14개, 0포함 14 노포함 idx 0 ~ idx 13\n",
    "\n",
    "- range(2,14-2) 2포함, 14-2 노포함, 14-4 개 \n",
    "\n"
   ]
  },
  {
   "cell_type": "markdown",
   "id": "020e9429",
   "metadata": {},
   "source": [
    "---"
   ]
  },
  {
   "cell_type": "code",
   "execution_count": null,
   "id": "0940c5e1",
   "metadata": {},
   "outputs": [],
   "source": [
    "T = 10\n",
    "\n",
    "for t in range(1, T+1):\n",
    "    \n",
    "    N = int(input()) # 건물의 개수\n",
    "    \n",
    "    \n",
    "    ans = 0 # 조망권이 확보된 세대의 수\n",
    "    \n",
    "    lst_height = list(map(int,input().split())) # N개의 건물의 높이\n",
    "    \n",
    "    \n",
    "   \n",
    "    # and, lst idx 처리, 맨 끝 2칸씩 비워져 있으므로, range error 발생 x\n",
    "    # idx 이동하면서 비교 > len 으로 처리\n",
    "    \n",
    "    # idx 2, 맨끝 2개 제외, N-4 개, N-3 Idx 까지\n",
    "    \n",
    "    \n",
    "    for i in range(2, N-2):\n",
    "        \n",
    "        \n",
    "        height = lst_height[i]\n",
    "        \n",
    "        while(True):\n",
    "        \n",
    "            if (lst_height[i-2]< height) and (lst_height[i-1]< height) and (lst_height[i+1]< height) and (lst_height[i+2]< height):\n",
    "                ans +=1\n",
    "                height -=1\n",
    "            else:\n",
    "                break\n",
    "            \n",
    "    \n",
    "    \n",
    "    #부호와 함께 테스트케이스의 번호를 출력하고, 공백 문자 후 조망권이 확보된 세대의 수를 출력\n",
    "    \n",
    "    \n",
    "    print('#{0} {1}'.format(t,ans))"
   ]
  },
  {
   "cell_type": "markdown",
   "id": "8d21533d",
   "metadata": {},
   "source": [
    "---"
   ]
  },
  {
   "cell_type": "markdown",
   "id": "703ada61",
   "metadata": {},
   "source": [
    "---"
   ]
  },
  {
   "cell_type": "code",
   "execution_count": null,
   "id": "410588c5",
   "metadata": {},
   "outputs": [],
   "source": [
    "T = 1\n",
    "\n",
    "for t in range(1,T+1):\n",
    "    \n",
    "    # 건물의 개수\n",
    "    N = int(input())\n",
    "    \n",
    "    lst = list(map(int,input().split()))\n",
    "    \n",
    "    cnt = 0\n",
    "    \n",
    "    for i in range(2,N-2):\n",
    "        \n",
    "        h = lst[i] # i번째 건물의 최고 층 \n",
    "\n",
    "        while(1):\n",
    "            if h > lst[i-1] and h > lst[i-2] and h > lst[i+1] and h > lst[i+2]:\n",
    "                cnt+=1\n",
    "                h-=1\n",
    "            else:\n",
    "                break\n",
    "                \n",
    "    print('#{0} {1}'.format(t,cnt))"
   ]
  },
  {
   "cell_type": "markdown",
   "id": "8773c347",
   "metadata": {},
   "source": [
    "---"
   ]
  },
  {
   "cell_type": "code",
   "execution_count": null,
   "id": "20ccce23",
   "metadata": {},
   "outputs": [],
   "source": [
    "# 좌 우 4 개중에 최대 값이 현재 층보다 낮으면 조망 o\n",
    "# 그 최대 값의 역할이 마지노선 이므로, 현재 층에서 - 시 카운트 \n",
    "# Ex h = 8 층, 좌우 max 5층,\n",
    "# 8층, 7층, 6층, 조망 o \n",
    "\n",
    "T = 1\n",
    "\n",
    "for t in range(1, T+1):\n",
    "    \n",
    "    N = int(input())\n",
    "    \n",
    "    lst = list(map(int, input().split()))\n",
    "    \n",
    "    cnt = 0\n",
    "    \n",
    "    for i in range(2, N-2):\n",
    "        \n",
    "        h = lst[i]\n",
    "        \n",
    "        mx = max(lst[i-2:i]+lst[i+1:i+3]) # 4개 값을 직접 써줘도 됨\n",
    "        \n",
    "        if h > mx:\n",
    "            cnt += h - mx\n",
    "    \n",
    "    print('#{0} {1}'.format(t,cnt))"
   ]
  },
  {
   "cell_type": "markdown",
   "id": "eb8039a1",
   "metadata": {},
   "source": [
    "---"
   ]
  },
  {
   "cell_type": "code",
   "execution_count": null,
   "id": "2e7a48ce",
   "metadata": {},
   "outputs": [],
   "source": [
    "T = 10\n",
    "\n",
    "for test_case in range(1, T + 1):\n",
    "    \n",
    "    N = int(input())\n",
    "    \n",
    "    lst = list(map(int, input().split()))\n",
    "    \n",
    "    ans = 0\n",
    "    \n",
    "    for i in range(2, N-2):\n",
    "        \n",
    "        mx = lst[i-2]\n",
    "        \n",
    "        for j in range(i-1, i+3):\n",
    "            if i == j:\n",
    "                continue\n",
    "            if mx < lst[j]:\n",
    "                mx = lst[j]\n",
    "        if lst[i] > mx:\n",
    "            ans += lst[i]-mx\n",
    "    \n",
    "    print(f'#{test_case} {ans}')"
   ]
  }
 ],
 "metadata": {
  "kernelspec": {
   "display_name": "Python 3 (ipykernel)",
   "language": "python",
   "name": "python3"
  },
  "language_info": {
   "codemirror_mode": {
    "name": "ipython",
    "version": 3
   },
   "file_extension": ".py",
   "mimetype": "text/x-python",
   "name": "python",
   "nbconvert_exporter": "python",
   "pygments_lexer": "ipython3",
   "version": "3.8.16"
  },
  "toc": {
   "base_numbering": 1,
   "nav_menu": {},
   "number_sections": true,
   "sideBar": true,
   "skip_h1_title": false,
   "title_cell": "Table of Contents",
   "title_sidebar": "Contents",
   "toc_cell": false,
   "toc_position": {},
   "toc_section_display": true,
   "toc_window_display": false
  },
  "varInspector": {
   "cols": {
    "lenName": 16,
    "lenType": 16,
    "lenVar": 40
   },
   "kernels_config": {
    "python": {
     "delete_cmd_postfix": "",
     "delete_cmd_prefix": "del ",
     "library": "var_list.py",
     "varRefreshCmd": "print(var_dic_list())"
    },
    "r": {
     "delete_cmd_postfix": ") ",
     "delete_cmd_prefix": "rm(",
     "library": "var_list.r",
     "varRefreshCmd": "cat(var_dic_list()) "
    }
   },
   "types_to_exclude": [
    "module",
    "function",
    "builtin_function_or_method",
    "instance",
    "_Feature"
   ],
   "window_display": false
  }
 },
 "nbformat": 4,
 "nbformat_minor": 5
}
