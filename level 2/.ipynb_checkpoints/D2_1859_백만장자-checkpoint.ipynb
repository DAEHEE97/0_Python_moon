{
 "cells": [
  {
   "cell_type": "markdown",
   "metadata": {},
   "source": [
    "# 1859. 백만 장자 프로젝트\n",
    "\n",
    "- [백만장자](https://swexpertacademy.com/main/code/problem/problemDetail.do?contestProbId=AV5LrsUaDxcDFAXc&)"
   ]
  },
  {
   "cell_type": "markdown",
   "metadata": {},
   "source": [
    "---"
   ]
  },
  {
   "cell_type": "markdown",
   "metadata": {},
   "source": [
    "\n",
    "25년 간의 수행 끝에 원재는 미래를 보는 능력을 갖게 되었다. \n",
    "\n",
    "이 능력으로 원재는 사재기를 하려고 한다.\n",
    "\n",
    "다만 당국의 감시가 심해 한 번에 많은 양을 사재기 할 수 없다.\n",
    "\n",
    "다음과 같은 조건 하에서 사재기를 하여 최대한의 이득을 얻도록 도와주자.\n",
    "\n",
    "    1. 원재는 연속된 N일 동안의 물건의 매매가를 예측하여 알고 있다.\n",
    "    \n",
    "    2. 당국의 감시망에 걸리지 않기 위해 하루에 **최대 1만큼 구입**할 수 있다.\n",
    "    \n",
    "    3. **판매는 얼마든지** 할 수 있다.\n",
    "\n",
    "예를 들어 N = 3일 동안의 매매가가 1, 2, 3 이라면 처음 두 날에 원료를 구매하여 마지막 날에 팔면 3의 이익을 얻을 수 있다.\n",
    "\n",
    "\n",
    "## [입력]\n",
    "\n",
    "첫 번째 줄에 테스트 케이스의 수 T가 주어진다.\n",
    "\n",
    "- 각 테스트 케이스 별로 첫 줄에는 자연수 N(2 ≤ N ≤ 1,000,000)이 주어지고,\n",
    "\n",
    "- 둘째 줄에는 각 날의 매매가를 나타내는 N개의 자연수들이 공백으로 구분되어 순서대로 주어진다.\n",
    "\n",
    "- 각 날의 매매가는 10,000이하이다.\n",
    "\n",
    "\n",
    "## [출력]\n",
    "\n",
    "각 테스트 케이스마다 ‘#x’(x는 테스트케이스 번호를 의미하며 1부터 시작한다)를 출력하고, 최대 이익을 출력한다.\n",
    "\n",
    "\n",
    "## [예제 풀이]\n",
    "\n",
    "1번째 케이스는 아무 것도 사지 않는 것이 최대 이익이다.\n",
    "\n",
    "2번째 케이스는 1,2일에 각각 한 개씩 사서 세 번째 날에 두 개를 팔면 10의 이익을 얻을 수 있다.\n",
    "\n",
    "\n"
   ]
  },
  {
   "cell_type": "markdown",
   "metadata": {},
   "source": [
    "---"
   ]
  },
  {
   "cell_type": "markdown",
   "metadata": {},
   "source": [
    "## src - 백트래킹"
   ]
  },
  {
   "cell_type": "code",
   "execution_count": null,
   "metadata": {},
   "outputs": [],
   "source": [
    "T = int(input())\n",
    "\n",
    "for t in range(1, T+1):\n",
    "    \n",
    "    n = int(input()) # 개수\n",
    "    \n",
    "    lst = list(map(int,input().split()))    \n",
    "\n",
    "    M_idx = -1\n",
    "    \n",
    "    ans = 0\n",
    "    \n",
    "    # -2, 부터 시작, 맨 앞까지 \n",
    "        \n",
    "    for i in range(-2, -n-1, -1):\n",
    "        \n",
    "        if lst[i] > lst[M_idx]:\n",
    "            M_idx = i\n",
    "        \n",
    "        else:\n",
    "            ans += lst[M_idx] - lst[i]\n",
    "\n",
    "    \n",
    "    print('#{0} {1}'.format(t, ans))\n",
    "    \n",
    "    \n",
    "    "
   ]
  },
  {
   "cell_type": "markdown",
   "metadata": {},
   "source": [
    "---"
   ]
  },
  {
   "cell_type": "markdown",
   "metadata": {},
   "source": [
    "## src - 구현\n",
    "\n",
    "1. si ~ 전체 i_max 구하기, 이때 i_max 초기화 는 si로 설정, 0이 아님\n",
    "\n",
    "    - 이때 max() 내장함수 로 구하지 않았음\n",
    "    \n",
    "\n",
    "2. 그 다음, si 부터 max 까지 ans 계산\n",
    "\n",
    "3. si 이동\n",
    "\n",
    "4. break\n"
   ]
  },
  {
   "cell_type": "code",
   "execution_count": null,
   "metadata": {},
   "outputs": [],
   "source": [
    "T = int(input())\n",
    "\n",
    "for t in range(1, T + 1):\n",
    "    \n",
    "    N = int(input())\n",
    "    \n",
    "    lst = list(map(int, input().split()))\n",
    " \n",
    "    si = 0\n",
    "    ans = 0\n",
    "    \n",
    "    while(True):\n",
    "        \n",
    "        \n",
    "        M_idx = si \n",
    "        \n",
    "        for i in range(si, N):\n",
    "            if lst[i] > lst[M_idx]:\n",
    "                M_idx = i\n",
    "                \n",
    "    \n",
    "        for i in range(si, M_idx):\n",
    "            ans += (lst[M_idx] - lst[i])\n",
    "\n",
    "        \n",
    "        si = M_idx + 1\n",
    "        \n",
    "        if si >= N:\n",
    "            break\n",
    "        \n",
    "    print('#{0} {1}'.format(t,ans)) \n",
    "        \n",
    " "
   ]
  },
  {
   "cell_type": "markdown",
   "metadata": {},
   "source": [
    "---"
   ]
  },
  {
   "cell_type": "markdown",
   "metadata": {},
   "source": [
    "## 시간 제한 초과 해결"
   ]
  },
  {
   "cell_type": "code",
   "execution_count": 7,
   "metadata": {},
   "outputs": [
    {
     "name": "stdout",
     "output_type": "stream",
     "text": [
      "3\n",
      "3\n",
      "10 7 6\n",
      "#1 0\n",
      "3\n",
      "3 5 9\n",
      "#2 10\n",
      "5\n",
      "1 1 3 1 2\n",
      "#3 5\n"
     ]
    }
   ],
   "source": [
    "T = int(input())\n",
    "\n",
    "for t in range(1, T + 1):\n",
    "    \n",
    "    N = int(input())\n",
    "    \n",
    "    lst = list(map(int, input().split()))\n",
    " \n",
    "    si = 0\n",
    "    ans = 0\n",
    "    \n",
    "    while(True):\n",
    "        \n",
    "        \n",
    "        M_idx = si + lst[si:].index(max(lst[si:]))\n",
    "        \n",
    "        for i in range(si, M_idx):\n",
    "            ans += (lst[M_idx] - lst[i])\n",
    "\n",
    "        \n",
    "        si = M_idx + 1\n",
    "        \n",
    "        if si >= N:\n",
    "            break\n",
    "        \n",
    "    print('#{0} {1}'.format(t,ans)) \n",
    "        \n",
    " "
   ]
  },
  {
   "cell_type": "markdown",
   "metadata": {},
   "source": [
    "## Fail (제한시간 초과)\n",
    "\n",
    "- 런타임 에러\n"
   ]
  },
  {
   "cell_type": "code",
   "execution_count": null,
   "metadata": {},
   "outputs": [],
   "source": [
    "T = int(input())\n",
    "\n",
    "for t in range(1, T + 1):\n",
    "    \n",
    "    N = int(input())\n",
    "    \n",
    "    lst = list(map(int, input().split()))\n",
    " \n",
    "    si = 0\n",
    "    ans = 0\n",
    "    \n",
    "    while(True):\n",
    "        \n",
    "        if si >= N:\n",
    "            break\n",
    "        \n",
    "        M_idx = lst.index(max(lst[si:]))\n",
    "\n",
    "        for i in range(si, M_idx):\n",
    "            ans += (lst[M_idx] - lst[i])\n",
    "\n",
    "        \n",
    "        si = M_idx + 1\n",
    "        \n",
    "\n",
    "        \n",
    "    print('#{0} {1}'.format(t,ans)) \n",
    "        \n",
    " "
   ]
  },
  {
   "cell_type": "code",
   "execution_count": null,
   "metadata": {},
   "outputs": [],
   "source": []
  }
 ],
 "metadata": {
  "hide_input": false,
  "kernelspec": {
   "display_name": "Python 3 (ipykernel)",
   "language": "python",
   "name": "python3"
  },
  "language_info": {
   "codemirror_mode": {
    "name": "ipython",
    "version": 3
   },
   "file_extension": ".py",
   "mimetype": "text/x-python",
   "name": "python",
   "nbconvert_exporter": "python",
   "pygments_lexer": "ipython3",
   "version": "3.8.16"
  },
  "toc": {
   "base_numbering": 1,
   "nav_menu": {},
   "number_sections": true,
   "sideBar": true,
   "skip_h1_title": false,
   "title_cell": "Table of Contents",
   "title_sidebar": "Contents",
   "toc_cell": false,
   "toc_position": {},
   "toc_section_display": true,
   "toc_window_display": false
  },
  "varInspector": {
   "cols": {
    "lenName": 16,
    "lenType": 16,
    "lenVar": 40
   },
   "kernels_config": {
    "python": {
     "delete_cmd_postfix": "",
     "delete_cmd_prefix": "del ",
     "library": "var_list.py",
     "varRefreshCmd": "print(var_dic_list())"
    },
    "r": {
     "delete_cmd_postfix": ") ",
     "delete_cmd_prefix": "rm(",
     "library": "var_list.r",
     "varRefreshCmd": "cat(var_dic_list()) "
    }
   },
   "types_to_exclude": [
    "module",
    "function",
    "builtin_function_or_method",
    "instance",
    "_Feature"
   ],
   "window_display": false
  }
 },
 "nbformat": 4,
 "nbformat_minor": 4
}
