{
 "cells": [
  {
   "cell_type": "markdown",
   "metadata": {},
   "source": [
    "# 1859. 백만 장자 프로젝트\n",
    "\n",
    "- [백만장자](https://swexpertacademy.com/main/code/problem/problemDetail.do?contestProbId=AV5LrsUaDxcDFAXc&)"
   ]
  },
  {
   "cell_type": "markdown",
   "metadata": {},
   "source": [
    "---"
   ]
  },
  {
   "cell_type": "markdown",
   "metadata": {},
   "source": [
    "\n",
    "25년 간의 수행 끝에 원재는 미래를 보는 능력을 갖게 되었다. \n",
    "\n",
    "이 능력으로 원재는 사재기를 하려고 한다.\n",
    "\n",
    "다만 당국의 감시가 심해 한 번에 많은 양을 사재기 할 수 없다.\n",
    "\n",
    "다음과 같은 조건 하에서 사재기를 하여 최대한의 이득을 얻도록 도와주자.\n",
    "\n",
    "    1. 원재는 연속된 N일 동안의 물건의 매매가를 예측하여 알고 있다.\n",
    "    \n",
    "    2. 당국의 감시망에 걸리지 않기 위해 하루에 **최대 1만큼 구입**할 수 있다.\n",
    "    \n",
    "    3. **판매는 얼마든지** 할 수 있다.\n",
    "\n",
    "예를 들어 N = 3일 동안의 매매가가 1, 2, 3 이라면 처음 두 날에 원료를 구매하여 마지막 날에 팔면 3의 이익을 얻을 수 있다.\n",
    "\n",
    "\n",
    "## [입력]\n",
    "\n",
    "첫 번째 줄에 테스트 케이스의 수 T가 주어진다.\n",
    "\n",
    "- 각 테스트 케이스 별로 첫 줄에는 자연수 N(2 ≤ N ≤ 1,000,000)이 주어지고,\n",
    "\n",
    "- 둘째 줄에는 각 날의 매매가를 나타내는 N개의 자연수들이 공백으로 구분되어 순서대로 주어진다.\n",
    "\n",
    "- 각 날의 매매가는 10,000이하이다.\n",
    "\n",
    "\n",
    "## [출력]\n",
    "\n",
    "각 테스트 케이스마다 ‘#x’(x는 테스트케이스 번호를 의미하며 1부터 시작한다)를 출력하고, 최대 이익을 출력한다.\n",
    "\n",
    "\n",
    "## [예제 풀이]\n",
    "\n",
    "1번째 케이스는 아무 것도 사지 않는 것이 최대 이익이다.\n",
    "\n",
    "2번째 케이스는 1,2일에 각각 한 개씩 사서 세 번째 날에 두 개를 팔면 10의 이익을 얻을 수 있다.\n",
    "\n",
    "## MEMO\n",
    "\n",
    "- 역순 진행, total 최대 최소 처리 \n",
    "\n",
    "---\n",
    "\n",
    "제일 뒤에꺼 부터 검사하면서, 최대처리,\n",
    "\n",
    "앞쪽으로 가면서, 작은거 만나면 계산 total\n",
    "\n",
    "max보다 크면 max 초기화 후, \n",
    "\n",
    "4 5 6\n",
    "\n",
    "9 8 7\n",
    "\n"
   ]
  },
  {
   "cell_type": "markdown",
   "metadata": {},
   "source": [
    "---"
   ]
  },
  {
   "cell_type": "code",
   "execution_count": 1,
   "metadata": {},
   "outputs": [
    {
     "name": "stdout",
     "output_type": "stream",
     "text": [
      "-1\n",
      "-2\n",
      "-3\n"
     ]
    }
   ],
   "source": [
    "for i in range(-1,-3-1,-1):\n",
    "    print(i)"
   ]
  },
  {
   "cell_type": "code",
   "execution_count": 2,
   "metadata": {},
   "outputs": [
    {
     "name": "stdout",
     "output_type": "stream",
     "text": [
      "1\n",
      "3\n",
      "1 2 3\n",
      "#1 3\n"
     ]
    }
   ],
   "source": [
    "# 최대 값을 리스트 끝값으로 초기화 후 idx -2 부터 처리\n",
    "\n",
    "\n",
    "T = int(input())\n",
    "\n",
    "for t in range(1, T+1):\n",
    "    \n",
    "    n = int(input()) # 개수\n",
    "    \n",
    "    \n",
    "    # lst 끝 값을 최대로 초기화 후 처리\n",
    "\n",
    "    lst = list(map(int,input().split()))    \n",
    "    \n",
    "    m = lst[-1]\n",
    "    \n",
    "    ans = 0\n",
    "    \n",
    "    # -2, 부터 시작, 맨 앞까지 \n",
    "    for i in range(-2,-n-1,-1):\n",
    "        \n",
    "        if m > lst[i]:\n",
    "            ans += m - lst[i]\n",
    "        \n",
    "        else:\n",
    "            m = lst[i]\n",
    "          \n",
    "    print('#{0} {1}'.format(t, ans))\n",
    "        \n",
    "    \n",
    "    \n",
    "    \n",
    "    "
   ]
  },
  {
   "cell_type": "markdown",
   "metadata": {},
   "source": [
    "---"
   ]
  },
  {
   "cell_type": "markdown",
   "metadata": {},
   "source": [
    "- 구현\n",
    "\n",
    "\n",
    "```.py\n",
    "\n",
    "       i_max = si\n",
    "\n",
    "       si = i_max + 1\n",
    "\n",
    "\n",
    "```\n",
    "\n",
    "```\n",
    "3\n",
    "10 7 6\n",
    "\n",
    "3\n",
    "3 5 9\n",
    "\n",
    "5\n",
    "1 1 3 1 2\n",
    "```\n"
   ]
  },
  {
   "cell_type": "code",
   "execution_count": 4,
   "metadata": {},
   "outputs": [
    {
     "name": "stdout",
     "output_type": "stream",
     "text": [
      "1\n",
      "3\n",
      "1 2 3\n",
      "#1 3\n"
     ]
    }
   ],
   "source": [
    "T = int(input())\n",
    "\n",
    "for t in range(1, T + 1):\n",
    "    \n",
    "    N = int(input())\n",
    "    \n",
    "    lst = list(map(int, input().split()))\n",
    " \n",
    "    si = 0\n",
    "    ans = 0\n",
    "    \n",
    "    while(True):\n",
    "        \n",
    "        if si >= N:\n",
    "            break\n",
    "        \n",
    "        \n",
    "        # si 제외 바로 앞부터 전체 순회 후 max_idx 구함, \n",
    "        # i_max는 si 보다 커야함 \n",
    "        \n",
    "        i_max = si\n",
    "    \n",
    "        for i in range(si+1, N):\n",
    "            if lst[i_max] < lst[i]:\n",
    "                i_max = i\n",
    "        \n",
    "        # 그 다음, si 부터 max 까지 계산 후,\n",
    "        for i in range(si, i_max):\n",
    "            ans += (lst[i_max] - lst[i])\n",
    "        \n",
    "        # si 이동 \n",
    "        si = i_max + 1\n",
    "        \n",
    "    print('#{0} {1}'.format(t,ans)) \n",
    "        \n",
    " "
   ]
  },
  {
   "cell_type": "markdown",
   "metadata": {},
   "source": [
    "---"
   ]
  },
  {
   "cell_type": "code",
   "execution_count": 3,
   "metadata": {},
   "outputs": [
    {
     "name": "stdout",
     "output_type": "stream",
     "text": [
      "1\n",
      "3\n",
      "1 2 3\n",
      "#1 3\n"
     ]
    }
   ],
   "source": [
    "# 최대 값을 0으로 초기화 후 idx -1 부터 처리, 끝 값이 무조건 최대 값으로 처리 된후 처리 되긴함.\n",
    "\n",
    "T = int(input())\n",
    "\n",
    "for t in range(1,T+1):\n",
    "    \n",
    "    n = int(input()) # 개수\n",
    "    \n",
    "    lst = list(map(int,input().split()))\n",
    "    \n",
    "    max_v = 0\n",
    "    \n",
    "    ans = 0\n",
    "    \n",
    "    for i in range(-1,(-1)*n-1,-1):\n",
    "        if lst[i] >= max_v:\n",
    "            max_v = lst[i]\n",
    "        \n",
    "        elif lst[i] < max_v:\n",
    "            ans += max_v - lst[i]\n",
    "        \n",
    "    print('#{0} {1}'.format(t,ans)) \n",
    "    \n"
   ]
  }
 ],
 "metadata": {
  "hide_input": false,
  "kernelspec": {
   "display_name": "Python 3 (ipykernel)",
   "language": "python",
   "name": "python3"
  },
  "language_info": {
   "codemirror_mode": {
    "name": "ipython",
    "version": 3
   },
   "file_extension": ".py",
   "mimetype": "text/x-python",
   "name": "python",
   "nbconvert_exporter": "python",
   "pygments_lexer": "ipython3",
   "version": "3.8.16"
  },
  "toc": {
   "base_numbering": 1,
   "nav_menu": {},
   "number_sections": true,
   "sideBar": true,
   "skip_h1_title": false,
   "title_cell": "Table of Contents",
   "title_sidebar": "Contents",
   "toc_cell": false,
   "toc_position": {},
   "toc_section_display": true,
   "toc_window_display": false
  },
  "varInspector": {
   "cols": {
    "lenName": 16,
    "lenType": 16,
    "lenVar": 40
   },
   "kernels_config": {
    "python": {
     "delete_cmd_postfix": "",
     "delete_cmd_prefix": "del ",
     "library": "var_list.py",
     "varRefreshCmd": "print(var_dic_list())"
    },
    "r": {
     "delete_cmd_postfix": ") ",
     "delete_cmd_prefix": "rm(",
     "library": "var_list.r",
     "varRefreshCmd": "cat(var_dic_list()) "
    }
   },
   "types_to_exclude": [
    "module",
    "function",
    "builtin_function_or_method",
    "instance",
    "_Feature"
   ],
   "window_display": false
  }
 },
 "nbformat": 4,
 "nbformat_minor": 4
}
