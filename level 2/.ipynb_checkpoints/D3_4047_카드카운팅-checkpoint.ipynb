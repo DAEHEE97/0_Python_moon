{
 "cells": [
  {
   "cell_type": "markdown",
   "id": "a4476eda",
   "metadata": {},
   "source": [
    "# 4047. 영준이의 카드 카운팅\n",
    "\n",
    "- [4047](https://swexpertacademy.com/main/code/problem/problemDetail.do?contestProbId=AWIsY84KEPMDFAWN&categoryId=AWIsY84KEPMDFAWN&categoryType=CODE&problemTitle=4047&orderBy=FIRST_REG_DATETIME&selectCodeLang=ALL&select-1=&pageSize=10&pageIndex=1)"
   ]
  },
  {
   "cell_type": "markdown",
   "id": "eed0f89b",
   "metadata": {},
   "source": [
    "\n",
    "최근 영준이는 카드 게임에 꽂혀 있다.\n",
    "\n",
    "영준이가 하는 카드 게임에는 한 덱의 카드가 필요한데 여기서 얘기하는 “한 덱”이란 스페이드, 다이아몬드, 하트, 클로버 무늬 별로 각각 A, 2~10, J, Q, K의 라벨 즉 4개의 무늬 별로\n",
    "\n",
    "각각 13장씩 총 52장의 카드가 있는 모음을 의미한다.\n",
    "\n",
    "편의상 A는 1, J, Q, K는 11, 12, 13으로 하여 1~13의 숫자가 카드에 적혀있다고 하자.\n",
    "\n",
    "영준이는 몇 장의 카드를 이미 가지고 있는데 게임을 하기 위해서 몇 장의 카드가 더 필요한지 알고 싶어 한다.\n",
    "\n",
    "그리고 이미 겹치는 카드를 가지고 있다면 오류를 출력하고자 한다.\n",
    "\n",
    "지금 가지고 있는 카드의 정보가 주어지면 이 작업을 수행하는 프로그램을 작성하라.\n",
    "\n",
    "\n",
    "## [입력]\n",
    "\n",
    "맨 위 줄에 테스트케이스의 개수가 주어진다.\n",
    "\n",
    "각 테스트케이스 별로 순서대로 첫 번째 줄에 지금 영준이가 가지고 있는 카드에 대한 정보 S (1 ≤ |S| ≤ 1000)가 주어진다.\n",
    "\n",
    "S는 각각 3자리로 표현되는 카드들의 정보를 붙여서 만든 하나의 문자열인데 각 카드는 TXY 꼴로 표현되며,\n",
    "\n",
    "T는 카드의 무늬(S, D, H, C)이며 XY는 카드의 숫자 (01 ~ 13)이다.\n",
    "\n",
    "## [출력]\n",
    "\n",
    "각 테스트케이스 별로 순서대로 한 줄씩 답을 출력하는데, 문자열 S를 보고 지금 무늬 별로(S, D, H, C 순서로) 몇 장의 카드가 부족한지 출력하여라.\n",
    "\n",
    "이미 겹치는 카드가 있다면 문자열 “ERROR” (쌍따옴표는 출력하지 않는다)를 출력한다\n",
    "\n"
   ]
  },
  {
   "cell_type": "markdown",
   "id": "71c76952",
   "metadata": {},
   "source": [
    "## Memo\n",
    "\n",
    "dict, 내 리스트 처리, 중복 처리\n",
    "\n",
    "1. 같은 카드 중복, ERROR\n",
    "\n",
    "2. 카드별 나머지 개수 출력\n",
    "\n",
    "---\n",
    "\n",
    "\n",
    "\n"
   ]
  },
  {
   "cell_type": "code",
   "execution_count": 1,
   "id": "ef9064eb",
   "metadata": {},
   "outputs": [],
   "source": [
    "# 키마다 개수 처리\n",
    "\n",
    "def solve(dic):\n",
    "    \n",
    "    ans = []\n",
    "\n",
    "    for k,lst in dic.items():\n",
    "        \n",
    "        if len(lst) != len(set(lst)):\n",
    "            return 0 \n",
    "        else:\n",
    "            ans.append(13-len(lst))\n",
    "\n",
    "    \n",
    "    return ans\n",
    "    \n",
    "    "
   ]
  },
  {
   "cell_type": "code",
   "execution_count": 2,
   "id": "0d82c8db",
   "metadata": {},
   "outputs": [
    {
     "name": "stdout",
     "output_type": "stream",
     "text": [
      "3\n",
      "H02H10S11H02\n",
      "#1 ERROR\n",
      "S01D02H03H04\n",
      "#2 12 12 11 13\n",
      "S10D10H10C01\n",
      "#3 12 12 12 12\n"
     ]
    }
   ],
   "source": [
    "\n",
    "dic = { 'S' : [], 'D' : [], 'H' : [], 'C' : [] }\n",
    "\n",
    "T = int(input())\n",
    "\n",
    "for t in range(1, T+1):\n",
    "    \n",
    "\n",
    "    string = input()  \n",
    "\n",
    "    # dic 삽입\n",
    "    \n",
    "    dic = { 'S' : [], 'D' : [], 'H' : [], 'C' : [] }\n",
    "\n",
    "    for i in range(0,len(string)):\n",
    "    \n",
    "        if string[i].isalpha():\n",
    "             dic[string[i]].append(int(string[i+1:i+3]))\n",
    "        else:\n",
    "            continue\n",
    "                \n",
    "                \n",
    "    ans = solve(dic)\n",
    "    \n",
    "    if ans == 0 :\n",
    "        print(f'#{t} ERROR')\n",
    "    \n",
    "    else:\n",
    "        print(f'#{t}',*ans)"
   ]
  },
  {
   "cell_type": "markdown",
   "id": "999afe71",
   "metadata": {},
   "source": [
    "---"
   ]
  },
  {
   "cell_type": "code",
   "execution_count": null,
   "id": "f377f40f",
   "metadata": {},
   "outputs": [],
   "source": [
    "\n",
    "dct = {'S':0, 'D':1, 'H':2, 'C':3}\n",
    "\n",
    "# T = 10\n",
    "\n",
    "T = int(input())\n",
    "\n",
    "for test_case in range(1, T + 1):\n",
    "    \n",
    "    st = input()\n",
    "    arr = [[] for _ in range(4)]\n",
    " \n",
    "    #[1] 리스트에 추가\n",
    "    for i in range(0, len(st), 3):\n",
    "        arr[dct[st[i]]].append(int(st[i+1:i+3]))\n",
    " \n",
    "    ans = []\n",
    "    \n",
    "    for lst in arr:\n",
    "        if len(lst) != len(set(lst)): # 오류\n",
    "            print(f'#{test_case} ERROR')\n",
    "            break\n",
    "        ans.append(13-len(lst))\n",
    "    else:\n",
    "        print(f'#{test_case}', *ans)"
   ]
  }
 ],
 "metadata": {
  "kernelspec": {
   "display_name": "Python 3 (ipykernel)",
   "language": "python",
   "name": "python3"
  },
  "language_info": {
   "codemirror_mode": {
    "name": "ipython",
    "version": 3
   },
   "file_extension": ".py",
   "mimetype": "text/x-python",
   "name": "python",
   "nbconvert_exporter": "python",
   "pygments_lexer": "ipython3",
   "version": "3.8.16"
  },
  "toc": {
   "base_numbering": 1,
   "nav_menu": {},
   "number_sections": true,
   "sideBar": true,
   "skip_h1_title": false,
   "title_cell": "Table of Contents",
   "title_sidebar": "Contents",
   "toc_cell": false,
   "toc_position": {},
   "toc_section_display": true,
   "toc_window_display": false
  },
  "varInspector": {
   "cols": {
    "lenName": 16,
    "lenType": 16,
    "lenVar": 40
   },
   "kernels_config": {
    "python": {
     "delete_cmd_postfix": "",
     "delete_cmd_prefix": "del ",
     "library": "var_list.py",
     "varRefreshCmd": "print(var_dic_list())"
    },
    "r": {
     "delete_cmd_postfix": ") ",
     "delete_cmd_prefix": "rm(",
     "library": "var_list.r",
     "varRefreshCmd": "cat(var_dic_list()) "
    }
   },
   "types_to_exclude": [
    "module",
    "function",
    "builtin_function_or_method",
    "instance",
    "_Feature"
   ],
   "window_display": false
  }
 },
 "nbformat": 4,
 "nbformat_minor": 5
}
