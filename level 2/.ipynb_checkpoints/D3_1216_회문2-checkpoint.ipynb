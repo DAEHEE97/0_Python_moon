{
 "cells": [
  {
   "cell_type": "markdown",
   "id": "c13165c5",
   "metadata": {},
   "source": [
    "# 1216. [S/W 문제해결 기본] 3일차 - 회문2\n",
    "\n",
    "- 회문중에서 길이가 가장 긴 길이 회문의 길이 출력\n",
    "\n",
    "- 가로 한번, 세로 한번 가장 긴 길이 출력중 2개 비교해서 더 긴거 출력\n",
    "\n",
    "- 길이를 돌리면서 처리"
   ]
  },
  {
   "cell_type": "markdown",
   "id": "6346abf7",
   "metadata": {},
   "source": [
    "---"
   ]
  },
  {
   "cell_type": "markdown",
   "id": "af7e3e1c",
   "metadata": {},
   "source": [
    "\"기러기\" 또는 \"level\" 과 같이 거꾸로 읽어도 제대로 읽은 것과 같은 문장이나 낱말을 회문(回文, palindrome)이라 한다.\n",
    "\n",
    "주어진 100x100 평면 글자판에서 가로, 세로를 모두 보아 가장 긴 회문의 길이를 구하는 문제이다.\n",
    " \n",
    " \n",
    "\n",
    "위와 같은 글자 판이 주어졌을 때, 길이가 가장 긴 회문은 붉은색 테두리로 표시된 7칸짜리 회문이다.\n",
    "\n",
    "예시의 경우 설명을 위해 글자판의 크기가 100 x 100이 아닌 8 x 8으로 주어졌음에 주의한다.\n",
    "\n",
    "\n",
    "## [제약사항]\n",
    "\n",
    "각 칸의 들어가는 글자는 c언어 char type으로 주어지며 'A', 'B', 'C' 중 하나이다.\n",
    "\n",
    "글자 판은 무조건 정사각형으로 주어진다.\n",
    "\n",
    "ABA도 회문이며, ABBA도 회문이다. A또한 길이 1짜리 회문이다.\n",
    "\n",
    "가로, 세로 각각에 대해서 직선으로만 판단한다. \n",
    "\n",
    "즉, 아래 예에서 노란색 경로를 따라가면 길이 7짜리 회문이 되지만 직선이 아니기 때문에 인정되지 않는다. \n",
    "\n",
    "\n",
    "## [입력]\n",
    "\n",
    "각 테스트 케이스의 첫 번째 줄에는 테스트 케이스의 번호가 주어지며, 바로 다음 줄에 테스트 케이스가 주어진다.\n",
    "\n",
    "총 10개의 테스트케이스가 주어진다.\n",
    "\n",
    "## [출력]\n",
    "\n",
    "#부호와 함께 테스트 케이스의 번호를 출력하고, 공백 문자 후 찾은 회문의 길이를 출력한다."
   ]
  },
  {
   "cell_type": "markdown",
   "id": "22c21855",
   "metadata": {},
   "source": [
    "---"
   ]
  },
  {
   "cell_type": "markdown",
   "id": "af00f71f",
   "metadata": {},
   "source": [
    "## Memo\n",
    "\n",
    "\n",
    "- 100x100 2차원 배열에서 가로, 세로를 모두 보아 가장 긴 회문의 길이를 구하라.\n",
    "\n",
    "- 2d arr에서 is_pal 함수를 parameter를 아예 lst를 보냄, 차원을 더 쪼갬\n",
    "\n",
    "---\n",
    "\n",
    "\n",
    "- Max_length를 내림차순으로 돌면서, 가능한 회문 길이, 100부터 시작해서, 2까지\n",
    "\n",
    "- for문안 length는  임시 변수로, ans를 위에서 미리 선언 하고, 할당 받아야함.\n",
    "\n",
    "- 찾으려는 length 를 내려가면서 확인 후 종료 처리\n",
    "\n",
    "\n",
    "---\n",
    "\n",
    "```.py\n",
    "\n",
    "    ans = 0\n",
    "    \n",
    "    for length in range(100,1,-1):\n",
    "        \n",
    "        for lst in arr1:\n",
    "        \n",
    "        if():\n",
    "            ans = length\n",
    "        \n",
    "```\n",
    "\n",
    "\n",
    "\n",
    "---\n",
    "\n",
    "윗줄 부터 시작해서 글자길이를 줄여가면서 처리,\n",
    "만약 발견하면 종료하는데, 아래에 더 긴 길이에 회문이 있을수 있으므로, 이렇게 하면 안됨\n",
    "\n",
    "\n",
    "```.py\n",
    "    for lst in arr1:\n",
    "        \n",
    "        for length in range(100,1,-1):\n",
    "\n",
    "```\n",
    "\n",
    "\n",
    "\n"
   ]
  },
  {
   "cell_type": "code",
   "execution_count": 3,
   "id": "b7b3799b",
   "metadata": {},
   "outputs": [
    {
     "data": {
      "text/plain": [
       "[10, 9, 8, 7, 6, 5, 4, 3, 2, 1]"
      ]
     },
     "execution_count": 3,
     "metadata": {},
     "output_type": "execute_result"
    }
   ],
   "source": [
    "list(range(10,0,-1))"
   ]
  },
  {
   "cell_type": "markdown",
   "id": "588cde91",
   "metadata": {},
   "source": [
    "---"
   ]
  },
  {
   "cell_type": "markdown",
   "id": "415f16ca",
   "metadata": {},
   "source": [
    "## func - 1"
   ]
  },
  {
   "cell_type": "code",
   "execution_count": null,
   "id": "438877f1",
   "metadata": {},
   "outputs": [],
   "source": [
    "def is_pal(lst, N, length):\n",
    "    \n",
    "    for si in range(0, N -length + 1):\n",
    "        \n",
    "        for i in range( length // 2):\n",
    "            if lst[si+i] != lst[si+ length-1 -i]:\n",
    "                flag = False\n",
    "                return False\n",
    "            else:\n",
    "                flag = True\n",
    "        \n",
    "        if flag:\n",
    "            return True\n",
    "        \n",
    "T = 10\n",
    "\n",
    "for t in range(1,T+1):\n",
    "    \n",
    "    _ = int(input())\n",
    "    \n",
    "    N = 100\n",
    "        \n",
    "    # 100x100 문자줄줄이 입력 리스트 2차원 배열\n",
    "    arr1 = [ list(input()) for _ in range(N) ]\n",
    "    \n",
    "    \n",
    "    \n",
    "    ans1 = 0\n",
    "    \n",
    "    for length in range(100,0,-1):\n",
    "        \n",
    "        for lst in arr1:\n",
    "            flag = is_pal(lst,N,length)\n",
    "            \n",
    "            if flag:\n",
    "                ans1 = length \n",
    "                break\n",
    "        if flag:\n",
    "            break\n",
    "            \n",
    "            \n",
    "    # Transpose        \n",
    "    arr2 = [ list(tup) for tup in zip(*arr1) ]\n",
    "\n",
    "    ans2 = 0\n",
    "           \n",
    "    for length in range(100,0,-1):\n",
    "        for lst in arr2:\n",
    "            flag = is_pal(lst,N,length)\n",
    "            \n",
    "            if flag:\n",
    "                ans2 = length \n",
    "                break\n",
    "        if flag:\n",
    "            break\n",
    "               \n",
    "       \n",
    "    ans = max(ans1,ans2)\n",
    "            \n",
    "    print('#{0} {1}'.format(t, ans))\n",
    "\n",
    "                           "
   ]
  },
  {
   "cell_type": "markdown",
   "id": "8100d89a",
   "metadata": {},
   "source": [
    "---"
   ]
  },
  {
   "cell_type": "code",
   "execution_count": null,
   "id": "7ad2b542",
   "metadata": {},
   "outputs": [],
   "source": [
    "T = 10\n",
    "\n",
    "for t in range(1,T+1):\n",
    "        \n",
    "    _ = int(input())\n",
    "    \n",
    "    N = 100 # 100*100\n",
    "    \n",
    "    # 가로 세로 처리, Transpose\n",
    "    arr1 = [ list(input()) for _ in range(N) ]\n",
    "    arr2 = [ list(lst) for lst in zip(*arr1) ]\n",
    "    \n",
    "    \n",
    "    # 글자길이 100 부터 시작해서 회문 처리 2까지 중에서 처리\n",
    "    # 글자 길이가 100부터이지만, if, 98로 예시 처리\n",
    "    # 글자 길이가 98\n",
    "    # idx 0 1 2 3 4 ~99\n",
    "    # 0 97 까지\n",
    "    # 1 98\n",
    "    # 2 99 총 3번 si 이동\n",
    "    \n",
    "    # 2차원 배열에서 첫번째 리스트부터 모든 길이를 내림차순으로 하나씩 검사, \n",
    "    # 길이가 100 짜리 검사 \n",
    "    # 길이가 99짜리 검사, si 2번 이동, \n",
    "    # 나는 지금 찾으면 종료시크는걸 원하니까\n",
    "    # 글자길이 우선 for로 돌려야 됨, ㅇ\n",
    "        \n",
    "    ans1 = 0\n",
    "    ans2 = 0\n",
    "    \n",
    "    flag = False\n",
    "    for length in range(100,1,-1):\n",
    "        \n",
    "        for lst in arr1:\n",
    "\n",
    "            for si in range(0,N-length+1):\n",
    "                # 회문의 길이가 98, length // 2만큼 비교\n",
    "                for i in range(length // 2):\n",
    "                    if (lst[si+i]!=lst[si +length-1 -i]):\n",
    "                        break # si 이동, 만약 break가 걸리지 않았으면, else 이동, 즉 회문 발견시\n",
    "                else:\n",
    "                    flag = True\n",
    "                    ans1 = length\n",
    "                    break\n",
    "                \n",
    "            if flag:\n",
    "                break\n",
    "                    \n",
    "        if flag:\n",
    "            break\n",
    "                           \n",
    "    \n",
    "    flag = False\n",
    "    for length in range(100,1,-1):\n",
    "    \n",
    "        for lst in arr2:\n",
    "\n",
    "            for si in range(0,N-length+1):\n",
    "                # 회문의 길이가 98, length // 2만큼 비교\n",
    "                for i in range(length // 2):\n",
    "                    if (lst[si+i]!=lst[si +length-1 -i]):\n",
    "                        break # si 이동, 만약 break가 걸리지 않았으면, else 이동, 즉 회문 발견시\n",
    "                else:\n",
    "                    flag = True\n",
    "                    ans2 = length\n",
    "                    break\n",
    "                \n",
    "            if flag:\n",
    "                break\n",
    "                    \n",
    "        if flag:\n",
    "            break\n",
    "                       \n",
    "    \n",
    "    ans = max(ans1,ans2)\n",
    "    print('#{0} {1}'.format(t, ans))\n",
    "\n",
    "                \n",
    "            "
   ]
  },
  {
   "cell_type": "markdown",
   "id": "35747939",
   "metadata": {},
   "source": [
    "---"
   ]
  }
 ],
 "metadata": {
  "kernelspec": {
   "display_name": "Python 3 (ipykernel)",
   "language": "python",
   "name": "python3"
  },
  "language_info": {
   "codemirror_mode": {
    "name": "ipython",
    "version": 3
   },
   "file_extension": ".py",
   "mimetype": "text/x-python",
   "name": "python",
   "nbconvert_exporter": "python",
   "pygments_lexer": "ipython3",
   "version": "3.8.16"
  },
  "toc": {
   "base_numbering": 1,
   "nav_menu": {},
   "number_sections": true,
   "sideBar": true,
   "skip_h1_title": false,
   "title_cell": "Table of Contents",
   "title_sidebar": "Contents",
   "toc_cell": false,
   "toc_position": {
    "height": "calc(100% - 180px)",
    "left": "10px",
    "top": "150px",
    "width": "349.59375px"
   },
   "toc_section_display": true,
   "toc_window_display": true
  },
  "varInspector": {
   "cols": {
    "lenName": 16,
    "lenType": 16,
    "lenVar": 40
   },
   "kernels_config": {
    "python": {
     "delete_cmd_postfix": "",
     "delete_cmd_prefix": "del ",
     "library": "var_list.py",
     "varRefreshCmd": "print(var_dic_list())"
    },
    "r": {
     "delete_cmd_postfix": ") ",
     "delete_cmd_prefix": "rm(",
     "library": "var_list.r",
     "varRefreshCmd": "cat(var_dic_list()) "
    }
   },
   "types_to_exclude": [
    "module",
    "function",
    "builtin_function_or_method",
    "instance",
    "_Feature"
   ],
   "window_display": false
  }
 },
 "nbformat": 4,
 "nbformat_minor": 5
}
