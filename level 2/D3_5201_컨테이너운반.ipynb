{
 "cells": [
  {
   "cell_type": "markdown",
   "id": "2afc1c83",
   "metadata": {},
   "source": [
    "# D3_5201_컨테이너운반\n",
    "\n",
    "- [5201](https://swexpertacademy.com/main/learn/course/subjectDetail.do?subjectId=AWUYEGw61n8DFAVT)"
   ]
  },
  {
   "cell_type": "markdown",
   "id": "7b70f5b1",
   "metadata": {},
   "source": [
    "---"
   ]
  },
  {
   "cell_type": "markdown",
   "id": "48a37b28",
   "metadata": {},
   "source": [
    "화물이 실려 있는 N개의 컨테이너를 M대의 트럭으로 A도시에서 B도시로 운반하려고 한다.\n",
    "\n",
    "트럭당 한 개의 컨테이너를 운반 할 수 있고, 트럭의 적재용량을 초과하는 컨테이너는 운반할 수 없다.\n",
    "\n",
    "컨테이너마다 실린 화물의 무게와 트럭마다의 적재용량이 주어지고, A도시에서 B도시로 최대 M대의 트럭이 편도로 한번 만 운행한다고 한다.\n",
    "\n",
    "이때 이동한 화물의 총 중량이 최대가 되도록 컨테이너를 옮겼다면, 옮겨진 화물의 전체 무게가 얼마인지 출력하는 프로그램을 만드시오.\n",
    "\n",
    "화물을 싣지 못한 트럭이 있을 수도 있고, 남는 화물이 있을 수도 있다. 컨테이너를 한 개도 옮길 수 없는 경우 0을 출력한다.\n",
    "\n",
    "\n",
    "## [입력]\n",
    "\n",
    "첫 줄에 테스트케이스의 수 T가 주어진다. 1<=T<=50\n",
    "\n",
    "다음 줄부터 테스트 케이스의 별로 첫 줄에 컨테이너 수 N과 트럭 수 M이 주어지고, 다음 줄에 N개의 화물이 무게wi, 그 다음 줄에 M개 트럭의 적재용량 ti가 주어진다.\n",
    "\n",
    "1<=N, M<=100, 1<=wi, ti<=50\n",
    " \n",
    "## [출력]\n",
    "\n",
    "각 줄마다 \"#T\" (T는 테스트 케이스 번호)를 출력한 뒤, 답을 출력한다."
   ]
  },
  {
   "cell_type": "markdown",
   "id": "d1a31d9e",
   "metadata": {},
   "source": [
    "---"
   ]
  },
  {
   "cell_type": "markdown",
   "id": "b1fe5526",
   "metadata": {},
   "source": [
    "## Memo - Greedy\n",
    "\n",
    "case \n",
    "\n",
    "\n",
    "1 5 3\n",
    "\n",
    "5 3 1\n",
    "\n",
    "- 8 3\n",
    "\n",
    "18 13 12 11 2\n",
    "\n",
    "20 20 17 9 9  -- - - \n",
    "\n",
    "- 트럭 기준으로 계산 처리\n",
    "\n",
    "\n",
    "\n",
    "\n",
    "\n",
    "\n"
   ]
  },
  {
   "cell_type": "code",
   "execution_count": null,
   "id": "c6810e6a",
   "metadata": {},
   "outputs": [
    {
     "name": "stdout",
     "output_type": "stream",
     "text": [
      "3\n",
      "3 2\n",
      "1 5 3\n",
      "8 3\n",
      "#1 8\n",
      "5 10\n",
      "2 12 13 11 18\n",
      "17 4 7 20 3 9 7 9 20 5\n",
      "#2 45\n"
     ]
    }
   ],
   "source": [
    "T = int(input())\n",
    "\n",
    "\n",
    "for t in range(1, T+1):\n",
    "    \n",
    "    N, M = map(int,input().split())\n",
    "    \n",
    "    \n",
    "    weight = list(map(int,input().split())) # 컨테이너 무게, 컨테이너 N개\n",
    "    \n",
    "    truck = list(map(int,input().split())) # 트럭이 한번에 옮길수 있는 최대 용량, 트럭 M개\n",
    "    \n",
    "    # 한번만 이동 가능 \n",
    "    \n",
    "    weight.sort(reverse = True)\n",
    "    truck.sort(reverse = True)\n",
    "    \n",
    "    \n",
    "    \n",
    "    ans = 0\n",
    "    \n",
    "    # 총 중량이 최대가 되도록 처리\n",
    "    \n",
    "    for i in range(len(truck)):\n",
    "        \n",
    "        c_t = truck[i]\n",
    "        \n",
    "        for j in range(len(weight)):\n",
    "            \n",
    "            tmp_w = weight[j]\n",
    "            \n",
    "            if c_t >= tmp_w:\n",
    "                ans += tmp_w\n",
    "                weight[j] = 51\n",
    "                break\n",
    "            \n",
    "                \n",
    "    \n",
    "    print('#{0} {1}'.format(t, ans))\n",
    "\n",
    "\n"
   ]
  },
  {
   "cell_type": "markdown",
   "id": "ee7a956f",
   "metadata": {},
   "source": [
    "---"
   ]
  },
  {
   "cell_type": "code",
   "execution_count": null,
   "id": "ba0f2824",
   "metadata": {},
   "outputs": [],
   "source": [
    "T = int(input())\n",
    "for test_case in range(1, T + 1):\n",
    "    N, M = map(int, input().split())\n",
    "    lst1 = list(map(int, input().split()))\n",
    "    lst2 = list(map(int, input().split()))\n",
    "\n",
    "    # [1] 내림차순 정렬\n",
    "    lst1.sort(reverse=True)\n",
    "    lst2.sort(reverse=True)\n",
    "\n",
    "    # [2] 짐을 하나씩 내리면서 트럭에 적재 가능 체크\n",
    "    ans = i = 0\n",
    "    for n in lst1:\n",
    "        if n <=lst2[i]: # 짐을 나를 수 있는 경우\n",
    "            ans += n\n",
    "            i += 1\n",
    "            if i == M:  # 트럭이 없는 경우=>종료\n",
    "                break\n",
    "\n",
    "    print(f'#{test_case} {ans}')"
   ]
  }
 ],
 "metadata": {
  "kernelspec": {
   "display_name": "Python 3 (ipykernel)",
   "language": "python",
   "name": "python3"
  },
  "language_info": {
   "codemirror_mode": {
    "name": "ipython",
    "version": 3
   },
   "file_extension": ".py",
   "mimetype": "text/x-python",
   "name": "python",
   "nbconvert_exporter": "python",
   "pygments_lexer": "ipython3",
   "version": "3.8.16"
  },
  "toc": {
   "base_numbering": 1,
   "nav_menu": {},
   "number_sections": true,
   "sideBar": true,
   "skip_h1_title": false,
   "title_cell": "Table of Contents",
   "title_sidebar": "Contents",
   "toc_cell": false,
   "toc_position": {},
   "toc_section_display": true,
   "toc_window_display": false
  },
  "varInspector": {
   "cols": {
    "lenName": 16,
    "lenType": 16,
    "lenVar": 40
   },
   "kernels_config": {
    "python": {
     "delete_cmd_postfix": "",
     "delete_cmd_prefix": "del ",
     "library": "var_list.py",
     "varRefreshCmd": "print(var_dic_list())"
    },
    "r": {
     "delete_cmd_postfix": ") ",
     "delete_cmd_prefix": "rm(",
     "library": "var_list.r",
     "varRefreshCmd": "cat(var_dic_list()) "
    }
   },
   "types_to_exclude": [
    "module",
    "function",
    "builtin_function_or_method",
    "instance",
    "_Feature"
   ],
   "window_display": false
  }
 },
 "nbformat": 4,
 "nbformat_minor": 5
}
