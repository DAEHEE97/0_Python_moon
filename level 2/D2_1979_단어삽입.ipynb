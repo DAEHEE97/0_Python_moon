{
 "cells": [
  {
   "cell_type": "markdown",
   "metadata": {},
   "source": [
    "# 1979. 어디에 단어가 들어갈 수 있을까\n",
    "\n",
    "- [단어삽입](https://swexpertacademy.com/main/code/problem/problemDetail.do?contestProbId=AV5PuPq6AaQDFAUq)\n",
    "\n",
    "N X N 크기의 단어 퍼즐을 만들려고 한다. 입력으로 단어 퍼즐의 모양이 주어진다.\n",
    "\n",
    "주어진 퍼즐 모양에서 특정 길이 K를 갖는 단어가 들어갈 수 있는 자리의 수를 출력하는 프로그램을 작성하라.\n",
    "\n",
    "## [제약 사항]\n",
    "\n",
    "1. N은 5 이상 15 이하의 정수이다. (5 ≤ N ≤ 15)\n",
    "\n",
    "2. K는 2 이상 N 이하의 정수이다. (2 ≤ K ≤ N)\n",
    "\n",
    "\n",
    "## [입력]\n",
    "\n",
    "입력은 첫 줄에 총 테스트 케이스의 개수 T가 온다.\n",
    "\n",
    "다음 줄부터 각 테스트 케이스가 주어진다.\n",
    "\n",
    "테스트 케이스의 첫 번째 줄에는 단어 퍼즐의 가로, 세로 길이 N 과, 단어의 길이 K 가 주어진다.\n",
    "\n",
    "테스트 케이스의 두 번째 줄부터 퍼즐의 모양이 2차원 정보로 주어진다.\n",
    "\n",
    "퍼즐의 각 셀 중, 흰색 부분은 1, 검은색 부분은 0 으로 주어진다.\n",
    "\n",
    "\n",
    "## [출력]\n",
    "\n",
    "테스트 케이스 t에 대한 결과는 “#t”을 찍고, 한 칸 띄고, 정답을 출력한다.\n",
    "\n",
    "(t는 테스트 케이스의 번호를 의미하며 1부터 시작한다.)"
   ]
  },
  {
   "cell_type": "markdown",
   "metadata": {},
   "source": [
    "1. 들어갈 자리 카운트\n",
    "\n",
    "K 만큼, 순회 하면서 1을 cnt, 다음 idx가 0이라면 카운트\n",
    "순회하면서 처리\n",
    "    \n",
    "2. si 범위 정한후 +K 만큼 검사 근데 이것도 다음 idx가 0처리, si 범위 정해져 있음\n",
    "\n",
    "si 하나씩 고정하면서 처리 \n",
    "    \n",
    "    "
   ]
  },
  {
   "cell_type": "markdown",
   "metadata": {},
   "source": [
    "---"
   ]
  },
  {
   "cell_type": "markdown",
   "metadata": {},
   "source": [
    "- 주의 `1 1 1 1 0` 구조, 뒤에만 처리 해야하는게 아니라, 앞에도 처리 해줘야 함\n"
   ]
  },
  {
   "cell_type": "code",
   "execution_count": 16,
   "metadata": {},
   "outputs": [
    {
     "name": "stdout",
     "output_type": "stream",
     "text": [
      "1\n",
      "5 3\n",
      "0 0 1 1 1\n",
      "1 1 1 1 0\n",
      "0 0 1 0 0\n",
      "0 1 1 1 1\n",
      "1 1 1 0 1\n",
      "1\n",
      "1\n",
      "#1 2\n"
     ]
    }
   ],
   "source": [
    "# 가로 세로 transpose 처리\n",
    "\n",
    "T = int(input())\n",
    "\n",
    "for t in range(1, T+1):\n",
    "    \n",
    "    N,K = map(int,input().split())\n",
    "    \n",
    "\n",
    "    # 가로 카운트, 세로 카운트\n",
    "    \n",
    "    arr1 = []\n",
    "    \n",
    "    for _ in range(N):\n",
    "        arr1.append(list(map(int,input().split())))\n",
    "        \n",
    "    \n",
    "    arr2 = [ list(tup) for tup in zip(*arr1) ]\n",
    "    \n",
    "    # zero padding \n",
    "    for lst in arr1:\n",
    "        lst.insert(0,0)\n",
    "        lst.append(0)\n",
    "    \n",
    "    for lst in arr2:\n",
    "        lst.insert(0,0)\n",
    "        lst.append(0)\n",
    "    \n",
    "    \n",
    "    total = 0\n",
    "    \n",
    "    # si,sj 고정 상태에서 검사\n",
    "    \n",
    "    for si in range(0, N):\n",
    "        for sj in range(1, N-K+1+1):\n",
    "            \n",
    "            cnt = 0\n",
    "            \n",
    "            for i in range(K):\n",
    "                cnt += arr1[si][sj+i]\n",
    "            \n",
    "            if cnt == K and arr1[si][sj+K]==0 and arr1[si][sj-1] == 0:\n",
    "                total +=1\n",
    "           \n",
    "        \n",
    "        \n",
    "    for si in range(0, N):\n",
    "        for sj in range(1, N-K+1+1):\n",
    "            \n",
    "            cnt = 0\n",
    "            \n",
    "            for i in range(K):\n",
    "                cnt += arr2[si][sj+i]\n",
    "            \n",
    "            if cnt == K and arr2[si][sj+K]==0 and arr2[si][sj-1] == 0:\n",
    "                total +=1\n",
    "                \n",
    "    print('#{0} {1}'.format(t,total))\n",
    "    \n",
    "    "
   ]
  },
  {
   "cell_type": "markdown",
   "metadata": {},
   "source": [
    "---"
   ]
  },
  {
   "cell_type": "markdown",
   "metadata": {},
   "source": [
    "## MEMO\n",
    "\n",
    "\n",
    "\n",
    "입력 N,N 2차원 행렬 > 2d 리스트로 구현\n",
    "\n",
    "1부분 만 이동 가능\n",
    "\n",
    "K 조건 : 1부분 이 정확히 K 여야 됨 \n",
    "\n",
    "- cnt 가 3 안됨\n",
    "- cnt 가 3이 됬다고 끝내면 안됨\n",
    "- 연속으로 들어온 1 1 1 이 세번 나오고 뒤에 0이나와야 함\n",
    "\n",
    "2d를 가로 세로 하나씩 검사 \n",
    "\n",
    "\n",
    "range 돌면서 1이 나오면 +1, 0이 나오면 0으로 초기화 K 번 나오고 나서, \n",
    "다음 idx가 0 이여야 + 1 idx range error > zero pedding 을 미리 처리\n",
    "\n",
    "0 0 1 1 1\n",
    "\n",
    "\n",
    "\n",
    "\n",
    "- 1의 길이가 남으면 안됨. ex) 1 1 1 1 안됨\n",
    "\n",
    "- 1의 갯수를 카운트하면 안됨, 연속으로 1이 이어져있어야 가능함 ex) 1 1 0 0 1 불가 \n",
    "\n",
    "- 연속으로 1이 이어져 있는지 카운트 하려면, 다음 idx를 확인해봐야 하는데, 이때 idx range 오류 > zero padding으로 해결\n",
    "\n",
    "- break 하면 안됨 - 0 0 1 1 1 0 1 1 1 이런식으로 뒤에도 계속 나올수 있음 cnt 후 tmp = 0 처리\n",
    "\n"
   ]
  },
  {
   "cell_type": "markdown",
   "metadata": {},
   "source": [
    "---"
   ]
  },
  {
   "cell_type": "code",
   "execution_count": null,
   "metadata": {},
   "outputs": [],
   "source": [
    "# 1을 카운트하면서 처리, \n",
    "# 값 1이 cnt 0부터 시작해서 연속해서 3개가 나와야하며, 다음 값이 0이여야함\n",
    "# 1 1 1 1 0 구조는 아예 성립 x\n",
    "\n",
    "\n",
    "\n",
    "T = int(input())\n",
    "\n",
    "\n",
    "for t in range(1,T+1):\n",
    "    \n",
    "    lst = []\n",
    "    \n",
    "    N,K = map(int,input().split())\n",
    "    \n",
    "    for _ in range(N):\n",
    "        lst.append(list(map(int,input().split())))\n",
    "    \n",
    "    # --- 입력\n",
    "        \n",
    "    # 2d lst zero padding 1   \n",
    "    for i in range(len(lst)):\n",
    "        lst[i].append(0)\n",
    "        \n",
    "    # 2d lst zero padding 2\n",
    "    lst.append([0]*N)\n",
    "    \n",
    "    \n",
    "    \n",
    "    total = 0\n",
    "    \n",
    "    # 왼쪽으로 열 이동시마다 1의 존재여부 확인\n",
    "    \n",
    "    for i in range(N):\n",
    "        \n",
    "        cnt = 0\n",
    "        \n",
    "        for j in range(N):\n",
    "            \n",
    "            if (lst[i][j] == 1):\n",
    "                cnt += 1     \n",
    "            elif(lst[i][j] == 0):\n",
    "                cnt = 0\n",
    "            \n",
    "            if(cnt == K and lst[i][j+1] == 0 ):\n",
    "                total += 1\n",
    "                cnt = 0\n",
    "\n",
    "                \n",
    "                \n",
    "                \n",
    "                \n",
    "    for i in range(N):\n",
    "        cnt = 0\n",
    "        for j in range(N):\n",
    "            if (lst[j][i] == 1):\n",
    "                cnt += 1\n",
    "            elif (lst[j][i] == 0):\n",
    "                cnt = 0\n",
    "            \n",
    "            if (cnt == K and lst[j+1][i] == 0 ):\n",
    "                total += 1\n",
    "                cnt = 0\n",
    "    \n",
    "    \n",
    "    print('#{0} {1}'.format(t,total))\n"
   ]
  },
  {
   "cell_type": "markdown",
   "metadata": {},
   "source": [
    "---"
   ]
  },
  {
   "cell_type": "code",
   "execution_count": 24,
   "metadata": {},
   "outputs": [],
   "source": [
    "lst= [[0, 0, 1, 1, 1],\n",
    " [1, 1, 1, 1, 0],\n",
    " [0, 0, 1, 0, 0],\n",
    " [0, 1, 1, 1, 1],\n",
    " [1, 1, 1, 0, 1]]"
   ]
  },
  {
   "cell_type": "code",
   "execution_count": 25,
   "metadata": {},
   "outputs": [
    {
     "name": "stdout",
     "output_type": "stream",
     "text": [
      "3\n",
      "4\n",
      "1\n",
      "4\n",
      "4\n"
     ]
    }
   ],
   "source": [
    "for i in range(len(lst)):\n",
    "    s = 0\n",
    "    \n",
    "    for j in range(len(lst)):\n",
    "        s+=lst[i][j]\n",
    "    \n",
    "    print(s)\n",
    "    \n"
   ]
  },
  {
   "cell_type": "code",
   "execution_count": 26,
   "metadata": {},
   "outputs": [
    {
     "name": "stdout",
     "output_type": "stream",
     "text": [
      "2\n",
      "3\n",
      "5\n",
      "3\n",
      "3\n"
     ]
    }
   ],
   "source": [
    "for i in range(len(lst)):\n",
    "    s = 0\n",
    "    for j in range(len(lst)):\n",
    "        s+=lst[j][i]\n",
    "        \n",
    "    print(s)"
   ]
  }
 ],
 "metadata": {
  "hide_input": false,
  "kernelspec": {
   "display_name": "Python 3 (ipykernel)",
   "language": "python",
   "name": "python3"
  },
  "language_info": {
   "codemirror_mode": {
    "name": "ipython",
    "version": 3
   },
   "file_extension": ".py",
   "mimetype": "text/x-python",
   "name": "python",
   "nbconvert_exporter": "python",
   "pygments_lexer": "ipython3",
   "version": "3.8.16"
  },
  "toc": {
   "base_numbering": 1,
   "nav_menu": {},
   "number_sections": true,
   "sideBar": true,
   "skip_h1_title": false,
   "title_cell": "Table of Contents",
   "title_sidebar": "Contents",
   "toc_cell": false,
   "toc_position": {},
   "toc_section_display": true,
   "toc_window_display": false
  },
  "varInspector": {
   "cols": {
    "lenName": 16,
    "lenType": 16,
    "lenVar": 40
   },
   "kernels_config": {
    "python": {
     "delete_cmd_postfix": "",
     "delete_cmd_prefix": "del ",
     "library": "var_list.py",
     "varRefreshCmd": "print(var_dic_list())"
    },
    "r": {
     "delete_cmd_postfix": ") ",
     "delete_cmd_prefix": "rm(",
     "library": "var_list.r",
     "varRefreshCmd": "cat(var_dic_list()) "
    }
   },
   "types_to_exclude": [
    "module",
    "function",
    "builtin_function_or_method",
    "instance",
    "_Feature"
   ],
   "window_display": false
  }
 },
 "nbformat": 4,
 "nbformat_minor": 4
}
