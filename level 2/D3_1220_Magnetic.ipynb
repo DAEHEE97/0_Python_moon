{
 "cells": [
  {
   "cell_type": "markdown",
   "id": "473dbd80",
   "metadata": {},
   "source": [
    "# 1220. [S/W 문제해결 기본] 5일차 - Magnetic\n",
    "\n",
    "- [1220](https://swexpertacademy.com/main/code/problem/problemDetail.do?contestProbId=AV14hwZqABsCFAYD)"
   ]
  },
  {
   "cell_type": "markdown",
   "id": "6cc911bd",
   "metadata": {},
   "source": [
    "---"
   ]
  },
  {
   "cell_type": "markdown",
   "id": "5264fcba",
   "metadata": {},
   "source": [
    "테이블 위에 자성체들이 놓여 있다.\n",
    "\n",
    "자성체들은 성질에 따라 색이 부여되는데, 푸른 자성체의 경우 N극에 이끌리는 성질을 가지고 있고, 붉은 자성체의 경우 S극에 이끌리는 성질이 있다.\n",
    "\n",
    "아래와 같은 테이블에서 일정 간격을 두고 강한 자기장을 걸었을 때, 시간이 흐른 뒤에 자성체들이 서로 충돌하여 테이블 위에 남아있는 교착 상태의 개수를 구하라.\n",
    "\n",
    "아래는 자성체들이 놓여 있는 테이블을 위에서 바라본 모습이다.\n",
    "\n",
    "\n",
    "\n",
    "\n",
    "A로 표시된 붉은 자성체의 경우 S극에 이끌리면서 테이블 아래로 떨어지게 된다.\n",
    "\n",
    "B로 표시된 푸른 자성체의 경우 N극에 이끌리면서 테이블 아래로 떨어지게 된다.\n",
    "\n",
    "나머지 자성체들은 서로 충돌하며, 교착 상태에 빠져 움직이지 않게 된다.\n",
    "\n",
    "D로 표시된 자성체들에서 알 수 있듯 한 쪽 방향으로 움직이는 자성체의 개수가 많더라도 반대 방향으로 움직이는 자성체가 하나라도 있으면 교착 상태에 빠져 움직이지 않는다.\n",
    "\n",
    "D로 표시된 자성체들과 같이 셋 이상의 자성체들이 서로 충돌하여 붙어 있을 경우에도 하나의 교착 상태로 본다.\n",
    "\n",
    "C와 D는 좌우로 인접하여 있으나 각각 다른 교착 상태로 판단하여 2개의 교착 상태로 본다.\n",
    "\n",
    "E의 경우와 같이 한 줄에 두 개 이상의 교착 상태가 발생할 수도 있다.\n",
    "\n",
    "F의 경우 각각 다른 교착상태로 판단하여 2개의 교착상태로 본다.\n",
    "\n",
    "위의 예시의 경우 테이블 위에 남아있는 교착상태는 7개이므로 7를 반환한다.\n",
    "\n",
    "\n",
    "## [제약 사항]\n",
    "\n",
    "자성체는 테이블 앞뒤 쪽에 있는 N극 또는 S극에만 반응하며 자성체끼리는 전혀 반응하지 않는다.\n",
    "\n",
    "테이블의 크기는 100x100으로 주어진다. (예시에서는 설명을 위해 7x7로 주어졌음에 유의)\n",
    "\n",
    "## [입력]\n",
    "\n",
    "10개의 테스트 케이스가 주어진다.\n",
    "\n",
    "각 테스트 케이스의 첫 번째 줄에는 정사각형 테이블의 한 변의 길이가 주어진다. (이 값은 항상 100이다)\n",
    "\n",
    "그 다음 줄부터 100 x 100크기의 테이블의 초기 모습이 주어진다. \n",
    "\n",
    "1은 N극 성질을 가지는 자성체\n",
    "\n",
    "2는 S극 성질을 가지는 자성체를 의미하며 테이블의 윗부분에 N극이 아래부분에 S극이 위치한다고 가정한다.\n",
    "\n",
    "(N극 성질을 가지는 자성체는 S극에 이끌리는 성질이 있다.)\n",
    "\n",
    "## [출력]\n",
    "\n",
    "#부호와 함께 테스트 케이스의 번호를 출력하고, 공백 문자 후 교착 상태의 개수를 출력한다.\n"
   ]
  },
  {
   "cell_type": "markdown",
   "id": "73b29581",
   "metadata": {},
   "source": [
    "---"
   ]
  },
  {
   "cell_type": "markdown",
   "id": "e4f31712",
   "metadata": {},
   "source": [
    "## Memo\n",
    "\n",
    "- 시뮬레이션 상황상 0 인경우를 반드시 제외시켜야 합니다.\n",
    "\n",
    "    - 직전 값이 0인 경우는 , 이전 값으로 대체 하기 때문에(자석이 끌려옴), 0인 경우를 아예 제외 시켜야 합니다.\n",
    "    \n",
    "- Transpose / (90 도 회전 아님)\n",
    "\n",
    "- n in lst, 현재 값이 s 일때, 이전값이 n 극이라면, cnt\n",
    "    - 만약 다음 값으로 처리하려며, 좀더 복잡해짐, 절차상, 이전값 저장이 편함"
   ]
  },
  {
   "cell_type": "code",
   "execution_count": null,
   "id": "6d5c903a",
   "metadata": {},
   "outputs": [],
   "source": [
    "T = 10\n",
    "\n",
    "for t in range(1, T + 1):\n",
    "    \n",
    "    N = int(input())\n",
    "    \n",
    "    arr = [ list(map(int, input().split())) for _ in range(N) ]\n",
    "\n",
    "    ans = 0\n",
    "    \n",
    "    arr_t = list(zip(*arr)) # 전치행렬 만들기\n",
    "    \n",
    "    for lst in arr_t:       # 행단위로 처리\n",
    "        \n",
    "        prev = 0\n",
    "        \n",
    "        for n in lst:\n",
    "            \n",
    "            if n!=0:\n",
    "                \n",
    "                if n==2 and prev==1:\n",
    "                    ans += 1\n",
    "                prev = n\n",
    "                \n",
    "    print(f'#{t} {ans}')"
   ]
  },
  {
   "cell_type": "markdown",
   "id": "9adbd477",
   "metadata": {},
   "source": [
    "---"
   ]
  },
  {
   "cell_type": "markdown",
   "id": "c8ad6b4d",
   "metadata": {},
   "source": [
    "## warning"
   ]
  },
  {
   "cell_type": "code",
   "execution_count": null,
   "id": "06e60af3",
   "metadata": {},
   "outputs": [],
   "source": [
    "T = 10\n",
    "\n",
    "for t in range(1, T + 1):\n",
    "    \n",
    "    N = int(input())\n",
    "    \n",
    "    arr = [ list(map(int, input().split())) for _ in range(N) ]\n",
    "\n",
    "    ans = 0\n",
    "    \n",
    "    arr_t = list(zip(*arr)) # 전치행렬 만들기\n",
    "    \n",
    "    for lst in arr_t:       # 행단위로 처리\n",
    "        \n",
    "        prev = 0\n",
    "        \n",
    "        for n in lst:\n",
    "            \n",
    "            if n==2 and prev==1:\n",
    "                ans += 1\n",
    "            \n",
    "            prev = n\n",
    "                \n",
    "    print(f'#{t} {ans}')"
   ]
  }
 ],
 "metadata": {
  "kernelspec": {
   "display_name": "Python 3 (ipykernel)",
   "language": "python",
   "name": "python3"
  },
  "language_info": {
   "codemirror_mode": {
    "name": "ipython",
    "version": 3
   },
   "file_extension": ".py",
   "mimetype": "text/x-python",
   "name": "python",
   "nbconvert_exporter": "python",
   "pygments_lexer": "ipython3",
   "version": "3.8.16"
  },
  "toc": {
   "base_numbering": 1,
   "nav_menu": {},
   "number_sections": true,
   "sideBar": true,
   "skip_h1_title": false,
   "title_cell": "Table of Contents",
   "title_sidebar": "Contents",
   "toc_cell": false,
   "toc_position": {},
   "toc_section_display": true,
   "toc_window_display": false
  },
  "varInspector": {
   "cols": {
    "lenName": 16,
    "lenType": 16,
    "lenVar": 40
   },
   "kernels_config": {
    "python": {
     "delete_cmd_postfix": "",
     "delete_cmd_prefix": "del ",
     "library": "var_list.py",
     "varRefreshCmd": "print(var_dic_list())"
    },
    "r": {
     "delete_cmd_postfix": ") ",
     "delete_cmd_prefix": "rm(",
     "library": "var_list.r",
     "varRefreshCmd": "cat(var_dic_list()) "
    }
   },
   "types_to_exclude": [
    "module",
    "function",
    "builtin_function_or_method",
    "instance",
    "_Feature"
   ],
   "window_display": false
  }
 },
 "nbformat": 4,
 "nbformat_minor": 5
}
